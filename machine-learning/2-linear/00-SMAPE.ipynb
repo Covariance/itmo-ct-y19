{
 "cells": [
  {
   "cell_type": "markdown",
   "id": "5d33cd66-a400-462d-ada9-2e81438a02d3",
   "metadata": {
    "tags": []
   },
   "source": [
    "# SMAPE\n",
    "\n",
    "Немного вычислений градиента для SMAPE. Положим:\n",
    "\n",
    "$$\n",
    "y_i = f_i(x) = \\sum_{j=0}^{m} w_j \\cdot x_{ij} = w_j \\cdot x_{ij} + C\n",
    "$$\n",
    "\n",
    "Тогда хотим найти:\n",
    "\n",
    "$$\n",
    "\\begin{align}\n",
    "&\\frac{d}{dx} \\cdot \\frac{|y - f(x)|}{|y| + |f(x)|} = \\\\\n",
    "&=\\frac{f'(x) \\left(\\frac{-f(x) (y - f(x))^2}{|f(x)|} - (y - f(x)) |f(x)| + |y|)\\right)}{|y - f(x)| (|f(x)| + |y|)^2} = \\\\\n",
    "&=-f'(x) \\cdot \\left(\\frac{\\text{sign}(f(x)) \\cdot |y - f(x)|}{(|y| + |f(x)|)^2} + \\frac{\\text{sign}(y - f(x))}{|y| + |f(x)|}\\right)=\\\\\n",
    "&=-f'(x) \\cdot \\frac{\\text{sign}(f(x)) \\cdot |y - f(x)| + \\text{sign}(y - f(x)) \\cdot (|y| + |f(x)|)}{(|y| + |f(x)|)^2}\n",
    "\\end{align}\n",
    "$$\n",
    "\n",
    "Отсюда можно видеть, что:\n",
    "\n",
    "$$\n",
    "\\frac{dy_i}{w_j} = x_{ij} \\cdot g(y_i, \\hat{y_i})\n",
    "$$\n",
    "\n",
    "Отсюда:\n",
    "\n",
    "$$\n",
    "\\frac{\\delta y_i}{\\delta w} = x_i \\cdot g(y_i, \\hat{y_i})\n",
    "$$\n",
    "\n",
    "Где:\n",
    "\n",
    "$$\n",
    "g(y_i, \\hat{y_i}) = \\frac{\\text{sign}(\\hat{y_i} - y_i) \\cdot (|\\hat{y_i}| + |y_i|) - \\text{sign}(\\hat{y_i}) \\cdot |\\hat{y_i} - y_i|}{(|\\hat{y_i}| + |y_i|)^2}\n",
    "$$"
   ]
  },
  {
   "cell_type": "markdown",
   "id": "47624e8e-f1f5-4638-ba08-db68f4e8c999",
   "metadata": {},
   "source": [
    "Проверим пример из условия таски с кф (добавив столбец bias):"
   ]
  },
  {
   "cell_type": "code",
   "execution_count": 1,
   "id": "c353f773-9255-48b8-9a6f-824432d876ed",
   "metadata": {},
   "outputs": [
    {
     "data": {
      "text/plain": [
       "(array([2045, 2076]), array([2045, 2076]))"
      ]
     },
     "execution_count": 1,
     "metadata": {},
     "output_type": "execute_result"
    }
   ],
   "source": [
    "import numpy as np\n",
    "\n",
    "features = np.array([[2015, 1],\n",
    "                     [2016, 1]])\n",
    "\n",
    "labels = np.array([2045, 2076])\n",
    "\n",
    "coefs = np.array([31, -60420])\n",
    "\n",
    "predicted = np.dot(features, coefs)\n",
    "\n",
    "labels, predicted"
   ]
  },
  {
   "cell_type": "markdown",
   "id": "1795d6fd-a7c7-4e81-9c57-a2b0508fae65",
   "metadata": {},
   "source": [
    "Наверное, на этом примере ничего проверить не удастся)\n",
    "\n",
    "Попробуем второй:"
   ]
  },
  {
   "cell_type": "code",
   "execution_count": 2,
   "id": "f5cb7f41-9f1f-407c-930d-3dbe3cbc0ff4",
   "metadata": {},
   "outputs": [
    {
     "data": {
      "text/plain": [
       "(array([0, 2, 2, 4]), array([2, 2, 3, 3]))"
      ]
     },
     "execution_count": 2,
     "metadata": {},
     "output_type": "execute_result"
    }
   ],
   "source": [
    "features = np.array([[1, 1],\n",
    "                     [1, 1],\n",
    "                     [2, 1],\n",
    "                     [2, 1]])\n",
    "\n",
    "labels = np.array([0, 2, 2, 4])\n",
    "\n",
    "coefs = np.array([1, 1])\n",
    "\n",
    "predicted = np.dot(features, coefs)\n",
    "\n",
    "labels, predicted"
   ]
  },
  {
   "cell_type": "code",
   "execution_count": 3,
   "id": "c6ce13eb-d93b-48d3-9789-ac0444090693",
   "metadata": {},
   "outputs": [
    {
     "data": {
      "text/plain": [
       "array([ 0.        ,  0.        ,  0.16      , -0.16326531])"
      ]
     },
     "execution_count": 3,
     "metadata": {},
     "output_type": "execute_result"
    }
   ],
   "source": [
    "import smape\n",
    "\n",
    "fi = smape.smape_grad_f(predicted, labels)\n",
    "\n",
    "fi"
   ]
  },
  {
   "cell_type": "code",
   "execution_count": 4,
   "id": "e1d133ba-e02b-4064-a78b-39dccd099957",
   "metadata": {},
   "outputs": [
    {
     "name": "stdout",
     "output_type": "stream",
     "text": [
      "[0. 0.]\n",
      "[0. 0.]\n",
      "[0.32 0.16]\n",
      "[-0.32653061 -0.16326531]\n"
     ]
    }
   ],
   "source": [
    "for i, row in enumerate(features):\n",
    "    print(row * fi[i])"
   ]
  }
 ],
 "metadata": {
  "kernelspec": {
   "display_name": "Python 3 (ipykernel)",
   "language": "python",
   "name": "python3"
  },
  "language_info": {
   "codemirror_mode": {
    "name": "ipython",
    "version": 3
   },
   "file_extension": ".py",
   "mimetype": "text/x-python",
   "name": "python",
   "nbconvert_exporter": "python",
   "pygments_lexer": "ipython3",
   "version": "3.7.11"
  }
 },
 "nbformat": 4,
 "nbformat_minor": 5
}
