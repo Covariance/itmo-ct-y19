{
 "cells": [
  {
   "cell_type": "markdown",
   "id": "a5bc7d95-5770-4227-82d6-2639a4135a66",
   "metadata": {},
   "source": [
    "# Точное решение\n",
    "\n",
    "Рассмотрим метод точного решения задачи линейной регрессии при помощи MSE (и MSE + ridge):\n",
    "\n",
    "$$\n",
    "L(\\theta) = ||F\\theta - y||^2 + \\tau ||\\theta||^2\n",
    "$$\n",
    "\n",
    "По умолчанию $\\tau=0$, то есть ridge-регуляризация отключена. Тогда:\n",
    "\n",
    "$$\n",
    "\\theta^* = \\left(F^TF + \\tau I_m\\right)^{-1} F^T y\n",
    "$$\n",
    "\n",
    "Будем использовать псевдообратную матрицу и рассчитаем таким образом оптимальное значение."
   ]
  },
  {
   "cell_type": "code",
   "execution_count": 1,
   "id": "c74eef21-3d10-46e9-88a8-0b654d9bdd99",
   "metadata": {},
   "outputs": [],
   "source": [
    "from exact import ExactRegressor as ExReg\n",
    "from sklearn.linear_model import LinearRegression as LinReg\n",
    "\n",
    "er = ExReg()\n",
    "lr = LinReg()"
   ]
  },
  {
   "cell_type": "code",
   "execution_count": 2,
   "id": "5e30bbc7-e79b-4146-a371-7ca52550e53a",
   "metadata": {},
   "outputs": [],
   "source": [
    "import numpy as np\n",
    "\n",
    "features = np.array([[2],\n",
    "                     [3],\n",
    "                     [5]])\n",
    "\n",
    "labels = np.array([0, 1, 2])"
   ]
  },
  {
   "cell_type": "code",
   "execution_count": 3,
   "id": "76c06156-8ac4-465a-ba9c-7ea84e38cb5f",
   "metadata": {},
   "outputs": [
    {
     "data": {
      "text/plain": [
       "array([0.14285714, 0.78571429, 2.07142857])"
      ]
     },
     "execution_count": 3,
     "metadata": {},
     "output_type": "execute_result"
    }
   ],
   "source": [
    "er.fit(features, labels).predict(features)"
   ]
  },
  {
   "cell_type": "code",
   "execution_count": 4,
   "id": "e92baf8b-db00-4ee6-a45a-0f3767dd63e9",
   "metadata": {},
   "outputs": [
    {
     "data": {
      "text/plain": [
       "array([0.14285714, 0.78571429, 2.07142857])"
      ]
     },
     "execution_count": 4,
     "metadata": {},
     "output_type": "execute_result"
    }
   ],
   "source": [
    "lr.fit(features, labels).predict(features)"
   ]
  },
  {
   "cell_type": "markdown",
   "id": "15e97ebb-e506-40d2-9489-c18159652fdb",
   "metadata": {},
   "source": [
    "Как можно видеть, наш регрессор ведёт себя точно так же, как и sklearn-овский, что можно считать успехом. Попробуем добавить параметры:"
   ]
  },
  {
   "cell_type": "code",
   "execution_count": 5,
   "id": "df75cccb-23b8-4f8e-9cf6-54594cf498ca",
   "metadata": {},
   "outputs": [],
   "source": [
    "eri = ExReg(fit_intercept=False)\n",
    "lri = LinReg(fit_intercept=False)"
   ]
  },
  {
   "cell_type": "code",
   "execution_count": 6,
   "id": "3918f7ad-7f48-424d-88c5-13a00066c3f7",
   "metadata": {},
   "outputs": [
    {
     "data": {
      "text/plain": [
       "array([0.68421053, 1.02631579, 1.71052632])"
      ]
     },
     "execution_count": 6,
     "metadata": {},
     "output_type": "execute_result"
    }
   ],
   "source": [
    "eri.fit(features, labels).predict(features)"
   ]
  },
  {
   "cell_type": "code",
   "execution_count": 7,
   "id": "a5af0b96-0fb5-4fcb-8ff1-03dc6999017a",
   "metadata": {},
   "outputs": [
    {
     "data": {
      "text/plain": [
       "array([0.68421053, 1.02631579, 1.71052632])"
      ]
     },
     "execution_count": 7,
     "metadata": {},
     "output_type": "execute_result"
    }
   ],
   "source": [
    "lri.fit(features, labels).predict(features)"
   ]
  },
  {
   "cell_type": "markdown",
   "id": "16aea344-37eb-4711-9956-11e4c5d5933f",
   "metadata": {},
   "source": [
    "Аналогично."
   ]
  },
  {
   "cell_type": "markdown",
   "id": "7e25b2f6-fb88-4ef6-b8ad-de28b5b280db",
   "metadata": {},
   "source": [
    "Теперь посмотрим, как изменится решение нашего классификатора, если ему передать параметр регуляризации:"
   ]
  },
  {
   "cell_type": "code",
   "execution_count": 8,
   "id": "f974efc9-fada-4765-adb1-fde810813ba2",
   "metadata": {},
   "outputs": [
    {
     "data": {
      "text/plain": [
       "array([0.1863354 , 0.80745342, 2.04968944])"
      ]
     },
     "execution_count": 8,
     "metadata": {},
     "output_type": "execute_result"
    }
   ],
   "source": [
    "err = ExReg(ridge_coef = 0.1)\n",
    "\n",
    "err.fit(features, labels).predict(features)"
   ]
  },
  {
   "cell_type": "markdown",
   "id": "62c3455c-fff8-49ed-9f31-690f2309380c",
   "metadata": {},
   "source": [
    "Ну, что-то точно происходит."
   ]
  }
 ],
 "metadata": {
  "kernelspec": {
   "display_name": "Python 3 (ipykernel)",
   "language": "python",
   "name": "python3"
  },
  "language_info": {
   "codemirror_mode": {
    "name": "ipython",
    "version": 3
   },
   "file_extension": ".py",
   "mimetype": "text/x-python",
   "name": "python",
   "nbconvert_exporter": "python",
   "pygments_lexer": "ipython3",
   "version": "3.7.11"
  }
 },
 "nbformat": 4,
 "nbformat_minor": 5
}
