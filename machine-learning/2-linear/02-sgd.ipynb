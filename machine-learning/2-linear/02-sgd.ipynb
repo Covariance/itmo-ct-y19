{
 "cells": [
  {
   "cell_type": "markdown",
   "id": "ea23b93a-f096-4224-b6fa-1e155efe6491",
   "metadata": {},
   "source": [
    "# Stochastic Gradient Descent\n",
    "\n",
    "Мы будем делать стохастический градиентный спуск для кастомного счётчика лосса, что позволит нам пропихнуть сюда как SMAPE, так и MSE.\n",
    "\n",
    "Опять же, имплементация будет в отдельном модуле, а здесь мы только протестируем её."
   ]
  },
  {
   "cell_type": "code",
   "execution_count": 1,
   "id": "7b0f3da6-eb89-49f6-aa2f-9a5dcd078647",
   "metadata": {},
   "outputs": [],
   "source": [
    "from sgd import SGDRegressor as CustomSGD\n",
    "from sklearn.linear_model import SGDRegressor as SKSGD\n",
    "\n",
    "%load_ext autoreload\n",
    "%autoreload 2\n",
    "\n",
    "skl = SKSGD(fit_intercept=True)\n",
    "cst = CustomSGD(max_iter=10000)"
   ]
  },
  {
   "cell_type": "code",
   "execution_count": 2,
   "id": "724d1f5a-9a38-455a-b251-2aa264e5420d",
   "metadata": {},
   "outputs": [],
   "source": [
    "import numpy as np\n",
    "\n",
    "X = np.array([[2],\n",
    "              [3],\n",
    "              [5]])\n",
    "\n",
    "y = np.array([0, 1, 2])"
   ]
  },
  {
   "cell_type": "code",
   "execution_count": 3,
   "id": "4514bce0-370b-46b9-8704-aa41256b05bc",
   "metadata": {},
   "outputs": [
    {
     "data": {
      "text/plain": [
       "array([0.68776093, 1.01048075, 1.65592038])"
      ]
     },
     "execution_count": 3,
     "metadata": {},
     "output_type": "execute_result"
    }
   ],
   "source": [
    "skl.fit(X, y).predict(X)"
   ]
  },
  {
   "cell_type": "code",
   "execution_count": 4,
   "id": "b265c47e-32ca-4cf2-9e5b-fb82b4fc7557",
   "metadata": {},
   "outputs": [
    {
     "data": {
      "text/plain": [
       "array([0.14356668, 0.78602195, 2.07093248])"
      ]
     },
     "execution_count": 4,
     "metadata": {},
     "output_type": "execute_result"
    }
   ],
   "source": [
    "cst.fit(X, y).predict(X)"
   ]
  },
  {
   "cell_type": "code",
   "execution_count": 5,
   "id": "117df2e8-89fe-4c5d-b945-328b91ad03bd",
   "metadata": {},
   "outputs": [
    {
     "data": {
      "image/png": "[encoded data removed]",
      "text/plain": [
       "<Figure size 432x288 with 1 Axes>"
      ]
     },
     "metadata": {
      "needs_background": "light"
     },
     "output_type": "display_data"
    }
   ],
   "source": [
    "from matplotlib import pyplot as plt\n",
    "\n",
    "plt.plot(cst.epoch_loss_[5000:])\n",
    "plt.show()"
   ]
  },
  {
   "cell_type": "markdown",
   "id": "27c0f8bd-3bca-4a4f-9f7a-e58d9e63d0ee",
   "metadata": {},
   "source": [
    "Ну вообще неплохо так выходит. Больше того, похоже на exact версию!"
   ]
  },
  {
   "cell_type": "code",
   "execution_count": 6,
   "id": "5f3a8c33-6d5a-4d67-8954-7831241ad93c",
   "metadata": {},
   "outputs": [
    {
     "data": {
      "text/plain": [
       "0.07142941563008996"
      ]
     },
     "execution_count": 6,
     "metadata": {},
     "output_type": "execute_result"
    }
   ],
   "source": [
    "cst.epoch_loss_[-1]"
   ]
  },
  {
   "cell_type": "markdown",
   "id": "25a08687-de43-45a0-81cb-dce501bcaa75",
   "metadata": {},
   "source": [
    "Теперь попробуем с какой-нибудь регуляризацией:"
   ]
  },
  {
   "cell_type": "code",
   "execution_count": 7,
   "id": "d92eccfa-1428-4ae9-9ea9-6a4923ac6951",
   "metadata": {},
   "outputs": [],
   "source": [
    "cstreg = CustomSGD(max_iter=10000, reg='Lasso', lasso_tau=0.1)"
   ]
  },
  {
   "cell_type": "code",
   "execution_count": 8,
   "id": "edecd093-9fe6-40e0-9333-547a2a205d93",
   "metadata": {},
   "outputs": [
    {
     "data": {
      "text/plain": [
       "array([0.2218537 , 0.81804148, 2.01041705])"
      ]
     },
     "execution_count": 8,
     "metadata": {},
     "output_type": "execute_result"
    }
   ],
   "source": [
    "cstreg.fit(X, y).predict(X)"
   ]
  },
  {
   "cell_type": "code",
   "execution_count": 9,
   "id": "88408a67-36d2-4157-8a34-a1ceff23ea59",
   "metadata": {},
   "outputs": [
    {
     "data": {
      "image/png": "[encoded data removed]",
      "text/plain": [
       "<Figure size 432x288 with 1 Axes>"
      ]
     },
     "metadata": {
      "needs_background": "light"
     },
     "output_type": "display_data"
    }
   ],
   "source": [
    "plt.plot(cstreg.epoch_loss_[5000:])\n",
    "plt.show()"
   ]
  },
  {
   "cell_type": "code",
   "execution_count": 10,
   "id": "0c4303bd-173c-467f-a588-8486fee704d8",
   "metadata": {},
   "outputs": [
    {
     "data": {
      "text/plain": [
       "(array([0.64245527]), array([0.59618778]))"
      ]
     },
     "execution_count": 10,
     "metadata": {},
     "output_type": "execute_result"
    }
   ],
   "source": [
    "cst.coef_, cstreg.coef_"
   ]
  },
  {
   "cell_type": "markdown",
   "id": "7fb147d0-68d2-412c-922b-7fa3ef6f92d0",
   "metadata": {},
   "source": [
    "Как можно видеть, регуляризация штрафует наш коэффициент, ухудшая лосс."
   ]
  }
 ],
 "metadata": {
  "kernelspec": {
   "display_name": "Python 3 (ipykernel)",
   "language": "python",
   "name": "python3"
  },
  "language_info": {
   "codemirror_mode": {
    "name": "ipython",
    "version": 3
   },
   "file_extension": ".py",
   "mimetype": "text/x-python",
   "name": "python",
   "nbconvert_exporter": "python",
   "pygments_lexer": "ipython3",
   "version": "3.7.11"
  }
 },
 "nbformat": 4,
 "nbformat_minor": 5
}
