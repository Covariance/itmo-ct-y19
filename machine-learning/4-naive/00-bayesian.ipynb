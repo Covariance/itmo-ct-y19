{
 "cells": [
  {
   "cell_type": "code",
   "execution_count": 1,
   "id": "456efcef-1239-4793-b8c8-793198b3d5c0",
   "metadata": {},
   "outputs": [],
   "source": [
    "import numpy as np\n",
    "import pandas as pd\n",
    "from pathlib import Path\n",
    "import itertools\n",
    "\n",
    "from matplotlib import pyplot as plt\n",
    "\n",
    "%load_ext autoreload\n",
    "%autoreload 2"
   ]
  },
  {
   "cell_type": "markdown",
   "id": "738d1d9c-119a-411a-9885-9e1bffa81e73",
   "metadata": {},
   "source": [
    "Сначала нам надо прочитать данные в какой-то адекватный формат:"
   ]
  },
  {
   "cell_type": "code",
   "execution_count": 2,
   "id": "ff496366-e0ac-4e54-a5ce-84211ab78c3c",
   "metadata": {},
   "outputs": [],
   "source": [
    "def read_msg(file: Path):\n",
    "    with file.open('r') as f:\n",
    "        head = f.readline().split()[1:]\n",
    "        f.readline() # skip empty\n",
    "        body = f.readline().split()\n",
    "        \n",
    "        return np.array(head + body), ('legit' in str(file))"
   ]
  },
  {
   "cell_type": "code",
   "execution_count": 3,
   "id": "63002033-ae5f-4948-812b-afa235b73db7",
   "metadata": {},
   "outputs": [],
   "source": [
    "def read_dir(dir_path: Path):\n",
    "    X = []\n",
    "    y = []\n",
    "    for file in dir_path.iterdir():\n",
    "        if not file.is_file():\n",
    "            continue\n",
    "        text, legit = read_msg(file)\n",
    "        X.append(text)\n",
    "        y.append(legit)\n",
    "    \n",
    "    return np.array(X, dtype=object), np.array(y, dtype=int)"
   ]
  },
  {
   "cell_type": "code",
   "execution_count": 4,
   "id": "81d5d417-4310-4248-8a20-4276225bbe79",
   "metadata": {},
   "outputs": [],
   "source": [
    "data = [read_dir(Path(f'data/part{i}')) for i in range(1, 11)]\n",
    "\n",
    "X = np.concatenate([entry[0] for entry in data])\n",
    "y = np.concatenate([entry[1] for entry in data])"
   ]
  },
  {
   "cell_type": "markdown",
   "id": "a33883f8-bb57-4abe-a84f-d019707d036c",
   "metadata": {},
   "source": [
    "Хочется сепарировать логику выделения n-грамм в отдельный класс-трансформер, так мы и поступим."
   ]
  },
  {
   "cell_type": "code",
   "execution_count": 5,
   "id": "f2a91967-87ca-437a-889d-9a8e4dacddc0",
   "metadata": {},
   "outputs": [],
   "source": [
    "import bayes\n",
    "import ngrammer"
   ]
  },
  {
   "cell_type": "markdown",
   "id": "3de25688-2e9f-4a68-a678-a4bc1ab81361",
   "metadata": {},
   "source": [
    "Опробуем ngrammer:"
   ]
  },
  {
   "cell_type": "code",
   "execution_count": 6,
   "id": "19d2ebe3-fe46-42c7-ad9b-23aa353f402c",
   "metadata": {},
   "outputs": [
    {
     "data": {
      "text/plain": [
       "array([list(['ab', 'bc']), list(['abbc', 'bccd', 'cdde'])], dtype=object)"
      ]
     },
     "execution_count": 6,
     "metadata": {},
     "output_type": "execute_result"
    }
   ],
   "source": [
    "ngr = ngrammer.NGrammer(n=2)\n",
    "\n",
    "test_X = np.array([\n",
    "    ['a', 'b', 'c'],\n",
    "    ['ab', 'bc', 'cd', 'de']\n",
    "], dtype=object)\n",
    "\n",
    "test_y = np.array([True, False])\n",
    "\n",
    "ngr.fit_transform(test_X, test_y)"
   ]
  },
  {
   "cell_type": "markdown",
   "id": "12b87ddc-d4c2-4d1d-8237-0f9a7a82cb0b",
   "metadata": {},
   "source": [
    "Отлично, взятие n-грамм работает. Теперь давайте соберём пайплайн:"
   ]
  },
  {
   "cell_type": "code",
   "execution_count": 7,
   "id": "be624e98-89b5-42f6-a380-f4f580261eac",
   "metadata": {},
   "outputs": [],
   "source": [
    "from sklearn.pipeline import Pipeline\n",
    "from sklearn.model_selection import GridSearchCV\n",
    "\n",
    "pipe = Pipeline([\n",
    "    ('ngr', ngrammer.NGrammer()),\n",
    "    ('bayes', bayes.BayesClassifier()),\n",
    "])\n",
    "\n",
    "param_grid = {\n",
    "    'ngr__n'        : [1, 2, 3],\n",
    "    'bayes__alpha'  : [800, 200, 50, 15, 1, .5],\n",
    "    'bayes__lambdas': [(1, 1), (10, 1), (100, 1)],\n",
    "}"
   ]
  },
  {
   "cell_type": "code",
   "execution_count": 8,
   "id": "2ba97751-867d-4c7a-b9bb-6a4e02332b64",
   "metadata": {},
   "outputs": [
    {
     "name": "stdout",
     "output_type": "stream",
     "text": [
      "Fitting 10 folds for each of 54 candidates, totalling 540 fits\n"
     ]
    },
    {
     "data": {
      "text/plain": [
       "GridSearchCV(cv=10,\n",
       "             estimator=Pipeline(steps=[('ngr', NGrammer()),\n",
       "                                       ('bayes', BayesClassifier())]),\n",
       "             n_jobs=4,\n",
       "             param_grid={'bayes__alpha': [800, 200, 50, 15, 1, 0.5],\n",
       "                         'bayes__lambdas': [(1, 1), (10, 1), (100, 1)],\n",
       "                         'ngr__n': [1, 2, 3]},\n",
       "             scoring='accuracy', verbose=1)"
      ]
     },
     "execution_count": 8,
     "metadata": {},
     "output_type": "execute_result"
    }
   ],
   "source": [
    "best_model = GridSearchCV(pipe, param_grid, cv=10, n_jobs=4, scoring='accuracy', verbose=1, refit=True)\n",
    "\n",
    "best_model.fit(X, y)"
   ]
  },
  {
   "cell_type": "code",
   "execution_count": 9,
   "id": "a14a5bfa-e4d9-4c7a-bcc6-ab65611562d8",
   "metadata": {},
   "outputs": [
    {
     "name": "stdout",
     "output_type": "stream",
     "text": [
      "\n",
      "\n",
      "Best parameter (CV score=0.5596)\n",
      "{'bayes__alpha': 800, 'bayes__lambdas': (1, 1), 'ngr__n': 1}\n"
     ]
    }
   ],
   "source": [
    "print(f'\\n\\nBest parameter (CV score={best_model.best_score_:.4})')\n",
    "print(best_model.best_params_)"
   ]
  },
  {
   "cell_type": "code",
   "execution_count": 10,
   "id": "fb5356be-fe27-49bc-b8f6-a4ab640e4917",
   "metadata": {},
   "outputs": [
    {
     "data": {
      "text/plain": [
       "0.5596330275229358"
      ]
     },
     "execution_count": 10,
     "metadata": {},
     "output_type": "execute_result"
    }
   ],
   "source": [
    "from sklearn.metrics import accuracy_score as acc_score\n",
    "\n",
    "acc_score(best_model.predict(X), y)"
   ]
  },
  {
   "cell_type": "markdown",
   "id": "2c666507-db37-479a-b1c6-2173f3a46118",
   "metadata": {},
   "source": [
    "Теперь давайте напишем скорер, который будет крайне бесконечно штрафовать все ложноположительные классификации (aka классификации legit как spam)."
   ]
  },
  {
   "cell_type": "code",
   "execution_count": 11,
   "id": "23c9585a-e7d7-49eb-88c6-172210776479",
   "metadata": {},
   "outputs": [],
   "source": [
    "from sklearn.metrics import make_scorer\n",
    "\n",
    "def legit_check_else_acc(y_true, y_pred):\n",
    "    if -1 in (y_true - y_pred):\n",
    "        return .0\n",
    "    return acc_score(y_true, y_pred)\n",
    "\n",
    "legit_scorer = make_scorer(legit_check_else_acc)"
   ]
  },
  {
   "cell_type": "code",
   "execution_count": 12,
   "id": "180ad041-81eb-4bf0-a317-f2a004034cef",
   "metadata": {},
   "outputs": [],
   "source": [
    "legit_check_param_grid = {\n",
    "    'ngr__n' : [1], # as best result\n",
    "    'bayes__alpha': [1, 8, 64, 512],\n",
    "    'bayes__lambdas': [(10 ** pw, 1) for pw in range(0, 20, 2)]\n",
    "}"
   ]
  },
  {
   "cell_type": "code",
   "execution_count": 13,
   "id": "3f395bac-d9d6-4b21-a313-66732cf6d741",
   "metadata": {},
   "outputs": [
    {
     "name": "stdout",
     "output_type": "stream",
     "text": [
      "Fitting 10 folds for each of 40 candidates, totalling 400 fits\n"
     ]
    },
    {
     "data": {
      "text/plain": [
       "GridSearchCV(cv=10,\n",
       "             estimator=Pipeline(steps=[('ngr', NGrammer()),\n",
       "                                       ('bayes', BayesClassifier())]),\n",
       "             n_jobs=4,\n",
       "             param_grid={'bayes__alpha': [1, 8, 64, 512],\n",
       "                         'bayes__lambdas': [(1, 1), (100, 1), (10000, 1),\n",
       "                                            (1000000, 1), (100000000, 1),\n",
       "                                            (10000000000, 1),\n",
       "                                            (1000000000000, 1),\n",
       "                                            (100000000000000, 1),\n",
       "                                            (10000000000000000, 1),\n",
       "                                            (1000000000000000000, 1)],\n",
       "                         'ngr__n': [1]},\n",
       "             scoring=make_scorer(legit_check_else_acc), verbose=1)"
      ]
     },
     "execution_count": 13,
     "metadata": {},
     "output_type": "execute_result"
    }
   ],
   "source": [
    "legit_model = GridSearchCV(pipe, legit_check_param_grid, cv=10, n_jobs=4, scoring=legit_scorer, verbose=1, refit=True)\n",
    "\n",
    "legit_model.fit(X, y)"
   ]
  },
  {
   "cell_type": "code",
   "execution_count": 14,
   "id": "8b75413f-9e02-43c2-9fdd-65b3d186a35e",
   "metadata": {},
   "outputs": [
    {
     "name": "stdout",
     "output_type": "stream",
     "text": [
      "\n",
      "\n",
      "Best parameter (CV score=0.5596)\n",
      "{'bayes__alpha': 64, 'bayes__lambdas': (1, 1), 'ngr__n': 1}\n"
     ]
    }
   ],
   "source": [
    "print(f'\\n\\nBest parameter (CV score={legit_model.best_score_:.4})')\n",
    "print(legit_model.best_params_)"
   ]
  }
 ],
 "metadata": {
  "kernelspec": {
   "display_name": "Python 3 (ipykernel)",
   "language": "python",
   "name": "python3"
  },
  "language_info": {
   "codemirror_mode": {
    "name": "ipython",
    "version": 3
   },
   "file_extension": ".py",
   "mimetype": "text/x-python",
   "name": "python",
   "nbconvert_exporter": "python",
   "pygments_lexer": "ipython3",
   "version": "3.7.11"
  }
 },
 "nbformat": 4,
 "nbformat_minor": 5
}
