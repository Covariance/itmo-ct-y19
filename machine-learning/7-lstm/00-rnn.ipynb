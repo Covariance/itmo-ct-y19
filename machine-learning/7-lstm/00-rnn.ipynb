{
 "cells": [
  {
   "cell_type": "markdown",
   "id": "088b6ea3-de2b-45ab-bef2-1ded8f7a5df3",
   "metadata": {},
   "source": [
    "# LSTM & Markov's chains"
   ]
  },
  {
   "cell_type": "code",
   "execution_count": 28,
   "id": "40d090f8-a834-4112-a312-28922f056379",
   "metadata": {},
   "outputs": [],
   "source": [
    "import numpy as np\n",
    "from tqdm import tqdm\n",
    "from matplotlib import pyplot as plt\n",
    "import random\n",
    "import pymorphy2\n",
    "from collections import Counter\n",
    "\n",
    "import tensorflow as tf\n",
    "\n",
    "from keras.layers import Embedding, LSTM, Dense, Dropout\n",
    "from keras.preprocessing.text import Tokenizer\n",
    "from keras.callbacks import EarlyStopping\n",
    "from keras.models import Sequential\n",
    "import keras.utils as ku\n",
    "from keras.utils import np_utils\n",
    "\n",
    "tf.random.set_seed(42)\n",
    "np.random.seed(42)\n",
    "\n",
    "import string, os \n",
    "\n",
    "import warnings\n",
    "warnings.filterwarnings(\"ignore\")\n",
    "warnings.simplefilter(action='ignore', category=FutureWarning)"
   ]
  },
  {
   "cell_type": "markdown",
   "id": "69a52ddd-67ed-4ecf-8f73-6307f9f734e2",
   "metadata": {},
   "source": [
    "## Dataset\n",
    "\n",
    "Датасет я вытащил из лучших юморесок паблика \"мои любимые юморески\", так что должно быть постиронично."
   ]
  },
  {
   "cell_type": "code",
   "execution_count": 2,
   "id": "b950f72a-2d8f-4bd7-aa1a-df49572a6cb5",
   "metadata": {},
   "outputs": [],
   "source": [
    "with open('data/simplified.txt', 'r') as f:\n",
    "    sentences = list(map(lambda s: s.strip(), f.readlines()))"
   ]
  },
  {
   "cell_type": "code",
   "execution_count": 3,
   "id": "db9ddd77-3a53-4e36-99af-508bf24d9475",
   "metadata": {},
   "outputs": [
    {
     "data": {
      "text/plain": [
       "['купил мужик шляпу а она ему как раз',\n",
       " 'хохол проходит в армии комиссию кем хочешь служить хочу кинологом шоб с собаками работать ладно только смотри чтобы справился проходит 3 месяца комиссия прибыла в часть с проверкой встретили хохла ну давай показывай чего добился хохол выводит собаку и говорит микола ищи микола скрывается в кустах проходит 15 минут собака вся изодранная в репейнике и болотной жиже возвращается микола ну шо найшов микола кого',\n",
       " 'идет пушкин по проселочной дороге догоняет его мужик на телеге ну пушкин ему и говорит подвези мужик до ближайшей деревни мужик говорит садитесь едут они едут ну и решил великий русский поэт удивить простого сельского мужика рифмой спрашивает мужик тебя как зовут иван о иван хуй тебе в карман отвечает пушкин мужик обиделся на поэта и говорит а тебя как зовут александр сергеевич говорит пушкин ну и слезай на хуй с телеги сидят в купе поезда два хохла пьют водку ведут разговоры на разные философские темы гриню ты ж взгляни на эту муху сидящую на окне какое же это чудо природы она так на стекло какнет такую маленькую точечку что ты даже и не заметишь да о чем ты говоришь петре я тебе так какну на кончик носа что ты даже и не почувствуешь да нет грицко не может быть я тебе точно говорю да нет быть такого не может ну давай помажем давай помазали петро подставил другу свою морду тот снял штаны и со всей силы на всю эту морду серанул ты мне всю рожу обосрал ну извини ну проиграл на экзамене по анатомии профессор задает студентке вопрос на засыпку какой человеческий орган является символом любви у мужчины или у женщины переспрашивает студентка у меня рычит профессор и агрессивно двигает тазом зима идет волк по лесу навстречу ему заяц заяц волк волк а где твоя шапка волк да зачем мне шапка я не замерз']"
      ]
     },
     "execution_count": 3,
     "metadata": {},
     "output_type": "execute_result"
    }
   ],
   "source": [
    "sentences[:3]"
   ]
  },
  {
   "cell_type": "code",
   "execution_count": 4,
   "id": "22591711-34ee-4c1a-a1f4-5172d3ab95f4",
   "metadata": {},
   "outputs": [],
   "source": [
    "def get_vocab(sens):\n",
    "    voc = Counter()\n",
    "    for s in sens:\n",
    "        for t in s:\n",
    "            voc[t] += 1\n",
    "    return voc, len(voc)"
   ]
  },
  {
   "cell_type": "markdown",
   "id": "ca73d7cb-82f9-489c-a1b5-bd324f263ca4",
   "metadata": {},
   "source": [
    "Добавим точку в конце каждого предложения:"
   ]
  },
  {
   "cell_type": "code",
   "execution_count": 5,
   "id": "32096d06-1cf2-4892-9947-474f3dbd078f",
   "metadata": {},
   "outputs": [],
   "source": [
    "sentences = list(map(lambda s: s.split() + ['.'], sentences))"
   ]
  },
  {
   "cell_type": "code",
   "execution_count": 6,
   "id": "30c8d78f-9781-42e9-a0a4-b3137bf89711",
   "metadata": {},
   "outputs": [
    {
     "data": {
      "text/plain": [
       "['купил', 'мужик', 'шляпу', 'а', 'она', 'ему', 'как', 'раз', '.']"
      ]
     },
     "execution_count": 6,
     "metadata": {},
     "output_type": "execute_result"
    }
   ],
   "source": [
    "sentences[0]"
   ]
  },
  {
   "cell_type": "code",
   "execution_count": 7,
   "id": "d826453b-500f-4026-a125-17483dbbb4ed",
   "metadata": {},
   "outputs": [
    {
     "data": {
      "text/plain": [
       "15194"
      ]
     },
     "execution_count": 7,
     "metadata": {},
     "output_type": "execute_result"
    }
   ],
   "source": [
    "get_vocab(sentences)[1]"
   ]
  },
  {
   "cell_type": "markdown",
   "id": "dc0b0bc9-a31c-4dc1-a22b-4ca47df57be9",
   "metadata": {},
   "source": [
    "Я уже немного почистил датасет, но воспользуемся ещё и pymorhy, чтобы уменьшить количество слов:"
   ]
  },
  {
   "cell_type": "code",
   "execution_count": 8,
   "id": "64307c25-c494-4a72-91ef-ccf86a140f62",
   "metadata": {},
   "outputs": [],
   "source": [
    "morph = pymorphy2.MorphAnalyzer()\n",
    "sentences = [[morph.parse(word)[0].normal_form for word in s] for s in sentences]"
   ]
  },
  {
   "cell_type": "code",
   "execution_count": 9,
   "id": "44653fa0-c5d7-4474-be7e-a8f77f76ba72",
   "metadata": {},
   "outputs": [
    {
     "data": {
      "text/plain": [
       "['купить', 'мужик', 'шляпа', 'а', 'она', 'он', 'как', 'раз', '.']"
      ]
     },
     "execution_count": 9,
     "metadata": {},
     "output_type": "execute_result"
    }
   ],
   "source": [
    "sentences[0]"
   ]
  },
  {
   "cell_type": "markdown",
   "id": "8ff9b646-2953-4a41-b85a-209fbddca8cc",
   "metadata": {},
   "source": [
    "Уже постиронично получается."
   ]
  },
  {
   "cell_type": "code",
   "execution_count": 10,
   "id": "b663cfd8-4b33-443d-a475-508f5487493c",
   "metadata": {},
   "outputs": [
    {
     "data": {
      "image/png": "[encoded data removed]",
      "text/plain": [
       "<Figure size 432x288 with 1 Axes>"
      ]
     },
     "metadata": {
      "needs_background": "light"
     },
     "output_type": "display_data"
    }
   ],
   "source": [
    "vocab, counts = get_vocab(sentences)\n",
    "\n",
    "freq = vocab.values()\n",
    "\n",
    "plt.hist(freq, bins=25)\n",
    "plt.show()"
   ]
  },
  {
   "cell_type": "code",
   "execution_count": 11,
   "id": "5341e677-07b7-4b24-b8b9-2e975b0e7c2d",
   "metadata": {},
   "outputs": [
    {
     "data": {
      "text/plain": [
       "[('и', 1943),\n",
       " ('в', 1583),\n",
       " ('я', 1295),\n",
       " ('на', 1018),\n",
       " ('а', 967),\n",
       " ('не', 861),\n",
       " ('что', 858),\n",
       " ('он', 818),\n",
       " ('ты', 813),\n",
       " ('с', 596)]"
      ]
     },
     "execution_count": 11,
     "metadata": {},
     "output_type": "execute_result"
    }
   ],
   "source": [
    "vocab.most_common(10)"
   ]
  },
  {
   "cell_type": "markdown",
   "id": "8d06096a-c74e-49ff-b4b1-891d441dfbe3",
   "metadata": {},
   "source": [
    "Забавно, что точка не попала в список самых частых слов, даже в топ-10. Ну, анекдотов у нас немного, а точку я добавил только как фулл-стоп."
   ]
  },
  {
   "cell_type": "markdown",
   "id": "dd6cc9d5-afca-405a-8424-5b5492663164",
   "metadata": {},
   "source": [
    "## Markov Chains"
   ]
  },
  {
   "cell_type": "code",
   "execution_count": 12,
   "id": "a2ac7a2f-1763-4428-9a0e-f7d7df638172",
   "metadata": {},
   "outputs": [],
   "source": [
    "class MarkovChain:   \n",
    "    def __init__(self, n=2):\n",
    "        self.n = n\n",
    "        self.pr = {}\n",
    "        \n",
    "    def fit(self, sequences):\n",
    "        for sentence in sequences:\n",
    "            for i in range(self.n, len(sentence)):\n",
    "                prev = tuple(sentence[i - self.n:i])\n",
    "                cur = sentence[i]\n",
    "                if cur not in self.pr:\n",
    "                    self.pr[cur] = {}\n",
    "                if prev not in self.pr[cur]:\n",
    "                    self.pr[cur][prev] = 0\n",
    "                self.pr[cur][prev] += 1\n",
    "                \n",
    "    def cnt_word_given_sen(self, word, sentence):\n",
    "        return self.pr.get(word, {}).get(sentence, 0)\n",
    "                \n",
    "    def predict_max(self, sentence):\n",
    "        sentence = tuple(sentence[-self.n:])\n",
    "        words_cnts = [(word, self.cnt_word_given_sen(word, sentence)) for word in self.pr.keys()]\n",
    "        words_cnts.sort(key=lambda x: -x[1])\n",
    "        words_cnts = list(filter(lambda x: x[1] == words_cnts[0][1], words_cnts))\n",
    "        return random.choice([w[0] for w in words_cnts])\n",
    "    \n",
    "    def predict_rand(self, sentence):\n",
    "        sentence = tuple(sentence[-self.n:])\n",
    "        words = np.array([(w, self.cnt_word_given_sen(w, sentence)) for w in self.pr.keys()])\n",
    "        prs = words[:, 1].astype('float')\n",
    "        if max(prs) == 0:\n",
    "            return random.choice(words[:, 0])\n",
    "        else:\n",
    "            words = words[prs > 0]\n",
    "            prs = words[:, 1].astype('float')\n",
    "            prs /= sum(prs)\n",
    "            return np.random.choice(words[:, 0], p=prs)"
   ]
  },
  {
   "cell_type": "code",
   "execution_count": 13,
   "id": "7543846a-6d69-4e10-aadb-29913625f21c",
   "metadata": {},
   "outputs": [],
   "source": [
    "def generate_seq(tail, model, max_size: int = 100, rand: bool = True):\n",
    "    i = 0\n",
    "    while tail[-1] != '.' and i < max_size:\n",
    "        c = model.predict_rand(tail) if rand else model.predict_max(tail)\n",
    "        tail.append(c)\n",
    "        i += 1\n",
    "    return ' '.join(tail)\n",
    "\n",
    "def from_start(start: str, model, samples: int = 10, max_size: int = 100, rand: bool = True):\n",
    "    seq = start.split()\n",
    "    return [generate_seq(seq, model, max_size, rand) for _ in range(samples)]"
   ]
  },
  {
   "cell_type": "code",
   "execution_count": 14,
   "id": "be741f17-182c-4ce7-b486-39fbae5156fd",
   "metadata": {},
   "outputs": [],
   "source": [
    "model = MarkovChain(n=1)\n",
    "model.fit(sentences)"
   ]
  },
  {
   "cell_type": "code",
   "execution_count": 15,
   "id": "dd0fcd4b-0004-4999-9ea9-b54ef14b7625",
   "metadata": {},
   "outputs": [
    {
     "name": "stdout",
     "output_type": "stream",
     "text": [
      "купить мужик шляпа полный ведро вытаскиваться и говорить я ты ебало дать ты\n",
      "\n",
      "\n",
      "купить мужик шляпа полный ведро вытаскиваться и говорить я ты ебало дать ты висеть прямо из за угол врач сказать строчка нет вы\n",
      "\n",
      "\n",
      "купить мужик шляпа полный ведро вытаскиваться и говорить я ты ебало дать ты висеть прямо из за угол врач сказать строчка нет вы измерять она падать на земля и никак даже превосходящий сила\n",
      "\n",
      "\n",
      "купить мужик шляпа полный ведро вытаскиваться и говорить я ты ебало дать ты висеть прямо из за угол врач сказать строчка нет вы измерять она падать на земля и никак даже превосходящий сила бить яйцо ты че это похоже у мы ночью оступиться\n",
      "\n",
      "\n",
      "купить мужик шляпа полный ведро вытаскиваться и говорить я ты ебало дать ты висеть прямо из за угол врач сказать строчка нет вы измерять она падать на земля и никак даже превосходящий сила бить яйцо ты че это похоже у мы ночью оступиться и он сегодня в очко сказать главный разработчик ну бл@\n"
     ]
    }
   ],
   "source": [
    "print('\\n\\n\\n'.join(from_start('купить мужик шляпа', model, samples=5, max_size=10)))"
   ]
  },
  {
   "cell_type": "markdown",
   "id": "bfaa65e4-a14f-4eff-9a72-77babf8a05b6",
   "metadata": {},
   "source": [
    "Мда, такое себе\n",
    "\n",
    "Попробуем смотреть на больше слов назад!"
   ]
  },
  {
   "cell_type": "code",
   "execution_count": 16,
   "id": "14481ed3-a3e0-47aa-be4c-89b48c2359a4",
   "metadata": {},
   "outputs": [],
   "source": [
    "model_back = MarkovChain(n=3)\n",
    "model_back.fit(sentences)"
   ]
  },
  {
   "cell_type": "code",
   "execution_count": 17,
   "id": "5024a8e5-6812-45a1-bc65-b77e861170ea",
   "metadata": {},
   "outputs": [
    {
     "name": "stdout",
     "output_type": "stream",
     "text": [
      "купить мужик шляпа выйти из магазин и направиться к вокзал где скоро должный\n",
      "\n",
      "\n",
      "купить мужик шляпа выйти из магазин и направиться к вокзал где скоро должный быть подойти он электропоезд быть чудный летний денёк всё вокруг\n",
      "\n",
      "\n",
      "купить мужик шляпа выйти из магазин и направиться к вокзал где скоро должный быть подойти он электропоезд быть чудный летний денёк всё вокруг благоухать а человек оглядываться мужик вослед казаться сам вселенная сегодня\n",
      "\n",
      "\n",
      "купить мужик шляпа выйти из магазин и направиться к вокзал где скоро должный быть подойти он электропоезд быть чудный летний денёк всё вокруг благоухать а человек оглядываться мужик вослед казаться сам вселенная сегодня играть на он сторона злой бродячий пёс почтительно уступать он\n",
      "\n",
      "\n",
      "купить мужик шляпа выйти из магазин и направиться к вокзал где скоро должный быть подойти он электропоезд быть чудный летний денёк всё вокруг благоухать а человек оглядываться мужик вослед казаться сам вселенная сегодня играть на он сторона злой бродячий пёс почтительно уступать он дорога садиться и смотреть на красивый девушка за соседний столик\n"
     ]
    }
   ],
   "source": [
    "print('\\n\\n\\n'.join(from_start('купить мужик шляпа', model_back, samples=5, max_size=10)))"
   ]
  },
  {
   "cell_type": "markdown",
   "id": "df95fc8c-53ed-402a-b4a4-9a5614866f0d",
   "metadata": {},
   "source": [
    "Ну хотя бы анекдот был рассказан правильно."
   ]
  },
  {
   "cell_type": "code",
   "execution_count": 18,
   "id": "711063b6-83be-4168-b3fd-e5c0156608d9",
   "metadata": {},
   "outputs": [],
   "source": [
    "model_back = MarkovChain(n=2)\n",
    "model_back.fit(sentences)"
   ]
  },
  {
   "cell_type": "code",
   "execution_count": 19,
   "id": "10e840da-79d3-4011-a278-294538ddbd43",
   "metadata": {},
   "outputs": [
    {
     "name": "stdout",
     "output_type": "stream",
     "text": [
      "купить мужик шляпа выйти из крошшер открыть задний дверь а там петух валяться\n",
      "\n",
      "\n",
      "купить мужик шляпа выйти из крошшер открыть задний дверь а там петух валяться дохлый в лужа наступить он платок достать ботиночек она протереть\n",
      "\n",
      "\n",
      "купить мужик шляпа выйти из крошшер открыть задний дверь а там петух валяться дохлый в лужа наступить он платок достать ботиночек она протереть кавалер друг рассказать свой друг тот следующум и так далее\n",
      "\n",
      "\n",
      "купить мужик шляпа выйти из крошшер открыть задний дверь а там петух валяться дохлый в лужа наступить он платок достать ботиночек она протереть кавалер друг рассказать свой друг тот следующум и так далее но мой сладенький в бар первый заказывать один пиво второй\n",
      "\n",
      "\n",
      "купить мужик шляпа выйти из крошшер открыть задний дверь а там петух валяться дохлый в лужа наступить он платок достать ботиночек она протереть кавалер друг рассказать свой друг тот следующум и так далее но мой сладенький в бар первый заказывать один пиво второй половина кружка третий четверть бармен отвечать маленький кружка не наливать\n"
     ]
    }
   ],
   "source": [
    "print('\\n\\n\\n'.join(from_start('купить мужик шляпа', model_back, samples=5, max_size=10)))"
   ]
  },
  {
   "cell_type": "markdown",
   "id": "f1373194-2750-4ea8-8ab1-8f36073ae3c1",
   "metadata": {},
   "source": [
    "Вот это золото!"
   ]
  },
  {
   "cell_type": "markdown",
   "id": "aba414ce-7874-44f7-96d8-6e172875960d",
   "metadata": {},
   "source": [
    "## LSTM"
   ]
  },
  {
   "cell_type": "code",
   "execution_count": 27,
   "id": "3a89b980-7229-4ebc-bd53-4ac9f6285509",
   "metadata": {},
   "outputs": [
    {
     "name": "stdout",
     "output_type": "stream",
     "text": [
      "# of seqs = 36478, total_words = 4342\n"
     ]
    }
   ],
   "source": [
    "tokenizer = Tokenizer()\n",
    "max_sequence_len = 5\n",
    "stride = 1\n",
    "vocab, vlen = get_vocab(sentences)\n",
    "tabu_words = set()\n",
    "for k, v in vocab.items():\n",
    "    if v == 1:\n",
    "        tabu_words.add(k)\n",
    "        \n",
    "sequences = []\n",
    "for line in sentences:\n",
    "    for i in range(0, len(line) - max_sequence_len - 1, stride):\n",
    "        cur_seq = line[i:i+max_sequence_len + 1]\n",
    "        if all(w not in tabu_words for w in cur_seq):\n",
    "            sequences.append(cur_seq)\n",
    "\n",
    "def get_sequence_of_tokens(corpus):\n",
    "    ## tokenization\n",
    "    tokenizer.fit_on_texts(corpus)\n",
    "    total_words = len(tokenizer.word_index) + 1\n",
    "    \n",
    "    ## convert data to sequence of tokens \n",
    "    input_sequences = []\n",
    "    for line in corpus:\n",
    "        token_list = tokenizer.texts_to_sequences([line])[0]\n",
    "        for i in range(0, len(token_list) - max_sequence_len, stride):\n",
    "            n_gram_sequence = token_list[i:i+max_sequence_len]\n",
    "            input_sequences.append(n_gram_sequence)\n",
    "    return input_sequences, total_words\n",
    "\n",
    "corpus = [' '.join(s) for s in sequences]\n",
    "inp_sequences, total_words = get_sequence_of_tokens(corpus)\n",
    "print(f'# of seqs = {len(inp_sequences)}, total_words = {total_words}')"
   ]
  },
  {
   "cell_type": "code",
   "execution_count": 22,
   "id": "8cab5af2-6f1e-4960-bdfa-c4a94516da82",
   "metadata": {},
   "outputs": [],
   "source": [
    "def generate_padded_sequences(input_sequences):\n",
    "    input_sequences = np.array(input_sequences)\n",
    "    \n",
    "    predictors, label = input_sequences[:,:-1],input_sequences[:,-1]\n",
    "    label = ku.np_utils.to_categorical(label, num_classes=total_words)\n",
    "    return predictors, label, max_sequence_len\n",
    "\n",
    "predictors, label, max_sequence_len = generate_padded_sequences(inp_sequences)"
   ]
  },
  {
   "cell_type": "code",
   "execution_count": 23,
   "id": "2cf5d56c-6a13-4ebd-9dc2-fce8ce4ee976",
   "metadata": {},
   "outputs": [
    {
     "name": "stderr",
     "output_type": "stream",
     "text": [
      "2022-05-25 15:30:07.407298: W tensorflow/stream_executor/platform/default/dso_loader.cc:64] Could not load dynamic library 'libcuda.so.1'; dlerror: libcuda.so.1: cannot open shared object file: No such file or directory\n",
      "2022-05-25 15:30:07.407317: W tensorflow/stream_executor/cuda/cuda_driver.cc:269] failed call to cuInit: UNKNOWN ERROR (303)\n",
      "2022-05-25 15:30:07.407333: I tensorflow/stream_executor/cuda/cuda_diagnostics.cc:156] kernel driver does not appear to be running on this host (covariance-ThinkPad-X280): /proc/driver/nvidia/version does not exist\n",
      "2022-05-25 15:30:07.407504: I tensorflow/core/platform/cpu_feature_guard.cc:193] This TensorFlow binary is optimized with oneAPI Deep Neural Network Library (oneDNN) to use the following CPU instructions in performance-critical operations:  AVX2 FMA\n",
      "To enable them in other operations, rebuild TensorFlow with the appropriate compiler flags.\n"
     ]
    },
    {
     "name": "stdout",
     "output_type": "stream",
     "text": [
      "Model: \"sequential\"\n",
      "_________________________________________________________________\n",
      " Layer (type)                Output Shape              Param #   \n",
      "=================================================================\n",
      " embedding (Embedding)       (None, 4, 10)             43420     \n",
      "                                                                 \n",
      " lstm (LSTM)                 (None, 200)               168800    \n",
      "                                                                 \n",
      " dropout (Dropout)           (None, 200)               0         \n",
      "                                                                 \n",
      " dense (Dense)               (None, 4342)              872742    \n",
      "                                                                 \n",
      "=================================================================\n",
      "Total params: 1,084,962\n",
      "Trainable params: 1,084,962\n",
      "Non-trainable params: 0\n",
      "_________________________________________________________________\n"
     ]
    }
   ],
   "source": [
    "def create_model(max_sequence_len, total_words):\n",
    "    input_len = max_sequence_len - 1\n",
    "    model = Sequential()\n",
    "    \n",
    "    # Add Input Embedding Layer\n",
    "    model.add(Embedding(total_words, 10, input_length=input_len))\n",
    "    \n",
    "    # Add Hidden Layer 1 - LSTM Layer\n",
    "    model.add(LSTM(200))\n",
    "    model.add(Dropout(0.2))\n",
    "    \n",
    "    # Add Output Layer\n",
    "    model.add(Dense(total_words, activation='softmax'))\n",
    "\n",
    "    model.compile(loss='categorical_crossentropy', optimizer='adam')\n",
    "    \n",
    "    return model\n",
    "\n",
    "model = create_model(max_sequence_len, total_words)\n",
    "model.summary()"
   ]
  },
  {
   "cell_type": "code",
   "execution_count": 24,
   "id": "3ed623aa-2f16-4cbf-b6e6-e0ededbc6384",
   "metadata": {
    "tags": []
   },
   "outputs": [
    {
     "name": "stderr",
     "output_type": "stream",
     "text": [
      "2022-05-25 15:30:07.670457: W tensorflow/core/framework/cpu_allocator_impl.cc:82] Allocation of 633549904 exceeds 10% of free system memory.\n"
     ]
    },
    {
     "data": {
      "text/plain": [
       "<keras.callbacks.History at 0x7f7e17dfe190>"
      ]
     },
     "execution_count": 24,
     "metadata": {},
     "output_type": "execute_result"
    }
   ],
   "source": [
    "model.fit(predictors, label, epochs=200, verbose=0)"
   ]
  },
  {
   "cell_type": "code",
   "execution_count": 25,
   "id": "15669ac0-067e-4600-9a4d-8fd5eb8d11c0",
   "metadata": {},
   "outputs": [],
   "source": [
    "def generate_text(seed_text, next_words, model):\n",
    "    for _ in range(next_words):\n",
    "        token_list = tokenizer.texts_to_sequences([seed_text])[0]\n",
    "        token_list = ku.pad_sequences([token_list], maxlen=max_sequence_len-1, padding='pre')\n",
    "        predict_x=model.predict(token_list).squeeze()\n",
    "        predicted=np.random.choice(range(len(predict_x)), p=predict_x)\n",
    "        \n",
    "        output_word = ''\n",
    "        for word,index in tokenizer.word_index.items():\n",
    "            if index == predicted:\n",
    "                output_word = word\n",
    "                break\n",
    "        seed_text += ' ' + output_word\n",
    "    return seed_text"
   ]
  },
  {
   "cell_type": "code",
   "execution_count": 26,
   "id": "e2c5d474-8dca-49de-8eb5-7beeb0710cea",
   "metadata": {},
   "outputs": [
    {
     "name": "stdout",
     "output_type": "stream",
     "text": [
      "1/1 [==============================] - 1s 628ms/step\n",
      "1/1 [==============================] - 0s 17ms/step\n",
      "1/1 [==============================] - 0s 16ms/step\n",
      "1/1 [==============================] - 0s 17ms/step\n",
      "1/1 [==============================] - 0s 17ms/step\n",
      "1/1 [==============================] - 0s 17ms/step\n",
      "1/1 [==============================] - 0s 17ms/step\n",
      "1/1 [==============================] - 0s 16ms/step\n",
      "1/1 [==============================] - 0s 16ms/step\n",
      "1/1 [==============================] - 0s 16ms/step\n",
      "1/1 [==============================] - 0s 17ms/step\n",
      "1/1 [==============================] - 0s 17ms/step\n",
      "1/1 [==============================] - 0s 19ms/step\n",
      "1/1 [==============================] - 0s 17ms/step\n",
      "1/1 [==============================] - 0s 16ms/step\n",
      "1/1 [==============================] - 0s 17ms/step\n",
      "1/1 [==============================] - 0s 17ms/step\n",
      "1/1 [==============================] - 0s 17ms/step\n",
      "1/1 [==============================] - 0s 17ms/step\n",
      "1/1 [==============================] - 0s 16ms/step\n",
      "купить мужик шляпа кровать дом на магазин тут в кресло секунда на школа вы лежать себя не быть в раз помочь когда кровь\n",
      "1/1 [==============================] - 0s 21ms/step\n",
      "1/1 [==============================] - 0s 17ms/step\n",
      "1/1 [==============================] - 0s 17ms/step\n",
      "1/1 [==============================] - 0s 17ms/step\n",
      "1/1 [==============================] - 0s 22ms/step\n",
      "1/1 [==============================] - 0s 18ms/step\n",
      "1/1 [==============================] - 0s 17ms/step\n",
      "1/1 [==============================] - 0s 16ms/step\n",
      "1/1 [==============================] - 0s 16ms/step\n",
      "1/1 [==============================] - 0s 17ms/step\n",
      "1/1 [==============================] - 0s 18ms/step\n",
      "1/1 [==============================] - 0s 16ms/step\n",
      "1/1 [==============================] - 0s 17ms/step\n",
      "1/1 [==============================] - 0s 17ms/step\n",
      "1/1 [==============================] - 0s 17ms/step\n",
      "1/1 [==============================] - 0s 17ms/step\n",
      "1/1 [==============================] - 0s 17ms/step\n",
      "1/1 [==============================] - 0s 20ms/step\n",
      "1/1 [==============================] - 0s 25ms/step\n",
      "1/1 [==============================] - 0s 18ms/step\n",
      "купить мужик шляпа кровать а на дом ты зеркало мальчик ебать а ну а знать а жена заходить да и в белый понимать\n",
      "1/1 [==============================] - 0s 16ms/step\n",
      "1/1 [==============================] - 0s 17ms/step\n",
      "1/1 [==============================] - 0s 17ms/step\n",
      "1/1 [==============================] - 0s 17ms/step\n",
      "1/1 [==============================] - 0s 16ms/step\n",
      "1/1 [==============================] - 0s 17ms/step\n",
      "1/1 [==============================] - 0s 17ms/step\n",
      "1/1 [==============================] - 0s 16ms/step\n",
      "1/1 [==============================] - 0s 16ms/step\n",
      "1/1 [==============================] - 0s 17ms/step\n",
      "1/1 [==============================] - 0s 17ms/step\n",
      "1/1 [==============================] - 0s 17ms/step\n",
      "1/1 [==============================] - 0s 21ms/step\n",
      "1/1 [==============================] - 0s 18ms/step\n",
      "1/1 [==============================] - 0s 17ms/step\n",
      "1/1 [==============================] - 0s 17ms/step\n",
      "1/1 [==============================] - 0s 17ms/step\n",
      "1/1 [==============================] - 0s 17ms/step\n",
      "1/1 [==============================] - 0s 17ms/step\n",
      "1/1 [==============================] - 0s 17ms/step\n",
      "купить мужик шляпа жена она в штаны не получиться ты я ждать не сорок успех да теперь на машина кто знать и делать\n",
      "1/1 [==============================] - 0s 17ms/step\n",
      "1/1 [==============================] - 0s 17ms/step\n",
      "1/1 [==============================] - 0s 17ms/step\n",
      "1/1 [==============================] - 0s 18ms/step\n",
      "1/1 [==============================] - 0s 17ms/step\n",
      "1/1 [==============================] - 0s 17ms/step\n",
      "1/1 [==============================] - 0s 17ms/step\n",
      "1/1 [==============================] - 0s 17ms/step\n",
      "1/1 [==============================] - 0s 17ms/step\n",
      "1/1 [==============================] - 0s 17ms/step\n",
      "1/1 [==============================] - 0s 17ms/step\n",
      "1/1 [==============================] - 0s 17ms/step\n",
      "1/1 [==============================] - 0s 17ms/step\n",
      "1/1 [==============================] - 0s 17ms/step\n",
      "1/1 [==============================] - 0s 17ms/step\n",
      "1/1 [==============================] - 0s 17ms/step\n",
      "1/1 [==============================] - 0s 16ms/step\n",
      "1/1 [==============================] - 0s 17ms/step\n",
      "1/1 [==============================] - 0s 16ms/step\n",
      "1/1 [==============================] - 0s 17ms/step\n",
      "купить мужик шляпа кровать она он и кровать он что отец я начинать доллар она я здравствуй обосраться он я новый умереть и\n",
      "1/1 [==============================] - 0s 18ms/step\n",
      "1/1 [==============================] - 0s 18ms/step\n",
      "1/1 [==============================] - 0s 18ms/step\n",
      "1/1 [==============================] - 0s 18ms/step\n",
      "1/1 [==============================] - 0s 17ms/step\n",
      "1/1 [==============================] - 0s 17ms/step\n",
      "1/1 [==============================] - 0s 63ms/step\n",
      "1/1 [==============================] - 0s 17ms/step\n",
      "1/1 [==============================] - 0s 16ms/step\n",
      "1/1 [==============================] - 0s 17ms/step\n",
      "1/1 [==============================] - 0s 17ms/step\n",
      "1/1 [==============================] - 0s 17ms/step\n",
      "1/1 [==============================] - 0s 19ms/step\n",
      "1/1 [==============================] - 0s 18ms/step\n",
      "1/1 [==============================] - 0s 18ms/step\n",
      "1/1 [==============================] - 0s 17ms/step\n",
      "1/1 [==============================] - 0s 17ms/step\n",
      "1/1 [==============================] - 0s 17ms/step\n",
      "1/1 [==============================] - 0s 18ms/step\n",
      "1/1 [==============================] - 0s 17ms/step\n",
      "купить мужик шляпа кровать из магазин и хорошо себя стул она ещё вы она актёр у мы они быть в конец в очередь\n",
      "1/1 [==============================] - 0s 17ms/step\n",
      "1/1 [==============================] - 0s 17ms/step\n",
      "1/1 [==============================] - 0s 17ms/step\n",
      "1/1 [==============================] - 0s 17ms/step\n",
      "1/1 [==============================] - 0s 17ms/step\n",
      "1/1 [==============================] - 0s 17ms/step\n",
      "1/1 [==============================] - 0s 22ms/step\n",
      "1/1 [==============================] - 0s 18ms/step\n",
      "1/1 [==============================] - 0s 17ms/step\n",
      "1/1 [==============================] - 0s 18ms/step\n",
      "1/1 [==============================] - 0s 18ms/step\n",
      "1/1 [==============================] - 0s 17ms/step\n",
      "1/1 [==============================] - 0s 17ms/step\n",
      "1/1 [==============================] - 0s 18ms/step\n",
      "1/1 [==============================] - 0s 21ms/step\n",
      "1/1 [==============================] - 0s 17ms/step\n",
      "1/1 [==============================] - 0s 18ms/step\n",
      "1/1 [==============================] - 0s 29ms/step\n",
      "1/1 [==============================] - 0s 18ms/step\n",
      "1/1 [==============================] - 0s 19ms/step\n",
      "купить мужик шляпа жена она он два машинка за три рука и а что то девушка среди вы поднять проблема на свой ванная\n",
      "1/1 [==============================] - 0s 19ms/step\n",
      "1/1 [==============================] - 0s 17ms/step\n",
      "1/1 [==============================] - 0s 17ms/step\n",
      "1/1 [==============================] - 0s 17ms/step\n",
      "1/1 [==============================] - 0s 18ms/step\n",
      "1/1 [==============================] - 0s 17ms/step\n",
      "1/1 [==============================] - 0s 19ms/step\n",
      "1/1 [==============================] - 0s 18ms/step\n",
      "1/1 [==============================] - 0s 18ms/step\n",
      "1/1 [==============================] - 0s 17ms/step\n",
      "1/1 [==============================] - 0s 18ms/step\n",
      "1/1 [==============================] - 0s 17ms/step\n",
      "1/1 [==============================] - 0s 18ms/step\n",
      "1/1 [==============================] - 0s 18ms/step\n",
      "1/1 [==============================] - 0s 16ms/step\n",
      "1/1 [==============================] - 0s 17ms/step\n",
      "1/1 [==============================] - 0s 18ms/step\n",
      "1/1 [==============================] - 0s 18ms/step\n",
      "1/1 [==============================] - 0s 18ms/step\n",
      "1/1 [==============================] - 0s 18ms/step\n",
      "купить мужик шляпа кровать идти на машина ехать к кричать громко и понять ты что не не от это ваш приём в больница\n",
      "1/1 [==============================] - 0s 18ms/step\n",
      "1/1 [==============================] - 0s 18ms/step\n",
      "1/1 [==============================] - 0s 17ms/step\n",
      "1/1 [==============================] - 0s 17ms/step\n",
      "1/1 [==============================] - 0s 18ms/step\n",
      "1/1 [==============================] - 0s 20ms/step\n",
      "1/1 [==============================] - 0s 18ms/step\n",
      "1/1 [==============================] - 0s 26ms/step\n",
      "1/1 [==============================] - 0s 27ms/step\n",
      "1/1 [==============================] - 0s 37ms/step\n",
      "1/1 [==============================] - 0s 36ms/step\n",
      "1/1 [==============================] - 0s 36ms/step\n",
      "1/1 [==============================] - 0s 36ms/step\n",
      "1/1 [==============================] - 0s 39ms/step\n",
      "1/1 [==============================] - 0s 40ms/step\n",
      "1/1 [==============================] - 0s 37ms/step\n",
      "1/1 [==============================] - 0s 21ms/step\n",
      "1/1 [==============================] - 0s 19ms/step\n",
      "1/1 [==============================] - 0s 19ms/step\n",
      "1/1 [==============================] - 0s 20ms/step\n",
      "купить мужик шляпа котёнок и пить язык твой смотреть приходить они говорить воробей он вот а кричать ругаться а он разработчик говорить удивлённо\n",
      "1/1 [==============================] - 0s 18ms/step\n",
      "1/1 [==============================] - 0s 17ms/step\n",
      "1/1 [==============================] - 0s 16ms/step\n",
      "1/1 [==============================] - 0s 19ms/step\n",
      "1/1 [==============================] - 0s 18ms/step\n",
      "1/1 [==============================] - 0s 17ms/step\n",
      "1/1 [==============================] - 0s 20ms/step\n",
      "1/1 [==============================] - 0s 27ms/step\n",
      "1/1 [==============================] - 0s 37ms/step\n",
      "1/1 [==============================] - 0s 36ms/step\n",
      "1/1 [==============================] - 0s 23ms/step\n",
      "1/1 [==============================] - 0s 17ms/step\n",
      "1/1 [==============================] - 0s 17ms/step\n",
      "1/1 [==============================] - 0s 18ms/step\n",
      "1/1 [==============================] - 0s 17ms/step\n",
      "1/1 [==============================] - 0s 17ms/step\n",
      "1/1 [==============================] - 0s 19ms/step\n",
      "1/1 [==============================] - 0s 18ms/step\n",
      "1/1 [==============================] - 0s 18ms/step\n",
      "1/1 [==============================] - 0s 18ms/step\n",
      "купить мужик шляпа кровать из магазин и один замертво вы же я вы понять в она наш магазин и медведь твой 10 квартира\n",
      "1/1 [==============================] - 0s 17ms/step\n",
      "1/1 [==============================] - 0s 21ms/step\n",
      "1/1 [==============================] - 0s 17ms/step\n",
      "1/1 [==============================] - 0s 17ms/step\n",
      "1/1 [==============================] - 0s 17ms/step\n",
      "1/1 [==============================] - 0s 17ms/step\n",
      "1/1 [==============================] - 0s 19ms/step\n",
      "1/1 [==============================] - 0s 20ms/step\n",
      "1/1 [==============================] - 0s 17ms/step\n",
      "1/1 [==============================] - 0s 18ms/step\n",
      "1/1 [==============================] - 0s 17ms/step\n",
      "1/1 [==============================] - 0s 17ms/step\n",
      "1/1 [==============================] - 0s 18ms/step\n",
      "1/1 [==============================] - 0s 18ms/step\n",
      "1/1 [==============================] - 0s 18ms/step\n",
      "1/1 [==============================] - 0s 17ms/step\n",
      "1/1 [==============================] - 0s 16ms/step\n",
      "1/1 [==============================] - 0s 18ms/step\n",
      "1/1 [==============================] - 0s 18ms/step\n",
      "1/1 [==============================] - 0s 18ms/step\n",
      "купить мужик шляпа кровать а она сегодня в глаз но ты быть что вы мой сон на это быть один родитель молвить давать\n"
     ]
    }
   ],
   "source": [
    "for i in range(10):\n",
    "    print(generate_text('купить мужик шляпа', 20, model))"
   ]
  },
  {
   "cell_type": "markdown",
   "id": "503f7e8d-887d-4aab-97e4-d3a3c53abd77",
   "metadata": {},
   "source": [
    "Отстой честно говоря..."
   ]
  }
 ],
 "metadata": {
  "kernelspec": {
   "display_name": "Python 3 (ipykernel)",
   "language": "python",
   "name": "python3"
  },
  "language_info": {
   "codemirror_mode": {
    "name": "ipython",
    "version": 3
   },
   "file_extension": ".py",
   "mimetype": "text/x-python",
   "name": "python",
   "nbconvert_exporter": "python",
   "pygments_lexer": "ipython3",
   "version": "3.7.11"
  }
 },
 "nbformat": 4,
 "nbformat_minor": 5
}
