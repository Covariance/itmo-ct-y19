{
 "cells": [
  {
   "cell_type": "markdown",
   "id": "91bb1f1b-a32c-42f7-b78c-54b835748b47",
   "metadata": {},
   "source": [
    "# Utility\n",
    "\n",
    "Напишем несколько utility-классов, которые помогут нам в дальнейшем.\n",
    "\n",
    "Все они будут находиться в `utils.py`, однако здесь я приведу их краткое описание:\n",
    "\n",
    "1) Классы из ноутбука `00-preprocess`.\n",
    "2) Класс Pipeline, который представляет из себя последовательность шагов.\n",
    "3) Класс GridSearch, который позволяет инжектить параметры в подлежащий пайплайн чтобы находить оптимальную комбинацию гиперпараметров.\n",
    "\n",
    "А ещё мы переведём все с датафреймов на `np.ndarray`, чтобы быть эффективнее внутри реализаций."
   ]
  },
  {
   "cell_type": "markdown",
   "id": "2f3f05b6-6f1b-4271-a661-f62874cf162b",
   "metadata": {},
   "source": [
    "Поймём как мы организуем работу нашего пайплайна: сам полностью собранный предиктор будет предсказывать именно класс (то есть мы выбираем `argmax` вектору и проставляем такую категорию объекта). Для этого сделаем дополнительный шаг пайплайна. One-hot кодировать же мы будем данные конкретно при создании предиктора."
   ]
  },
  {
   "cell_type": "markdown",
   "id": "e3902239-783c-48e4-b0ad-b20b094e1614",
   "metadata": {},
   "source": [
    "## Test"
   ]
  },
  {
   "cell_type": "code",
   "execution_count": 1,
   "id": "5c287613-de35-4543-847a-4aba86cd127e",
   "metadata": {},
   "outputs": [],
   "source": [
    "import numpy as np\n",
    "import pandas as pd\n",
    "\n",
    "from matplotlib import pyplot as plt\n",
    "import seaborn as sns; sns.set_style()\n",
    "\n",
    "import utils\n",
    "\n",
    "%load_ext autoreload\n",
    "%autoreload 2\n",
    "%matplotlib inline"
   ]
  },
  {
   "cell_type": "code",
   "execution_count": 2,
   "id": "375c3cac-ffb5-4a7d-b46e-48e545fd2386",
   "metadata": {},
   "outputs": [],
   "source": [
    "X = pd.read_csv('data/processed/features.csv').to_numpy()\n",
    "y = pd.read_csv('data/processed/labels.csv')['class'].to_numpy()"
   ]
  },
  {
   "cell_type": "markdown",
   "id": "9bfe7ee6-2a0a-4406-9fdf-8ca0a1c4185d",
   "metadata": {},
   "source": [
    "Создадим глупый предиктор:"
   ]
  },
  {
   "cell_type": "code",
   "execution_count": 3,
   "id": "97538305-e1c3-42af-9093-b4605592fbe0",
   "metadata": {},
   "outputs": [],
   "source": [
    "from __future__ import annotations\n",
    "from collections import Counter\n",
    "\n",
    "class DummyPredictor(utils.BasicLayer):\n",
    "    def __init__(self, clever: bool = False):\n",
    "        super().__init__()\n",
    "        self.clever = clever\n",
    "        \n",
    "    def fit(self, X: np.ndarray, y: np.ndarray) -> DummyPredictor:\n",
    "        self.prediction = Counter(y).most_common(1)[0][0] if self.clever else y[0]\n",
    "        return self\n",
    "        \n",
    "    def transform(self, X: np.ndarray) -> np.ndarray:\n",
    "        return np.array([self.prediction] * X.shape[0])"
   ]
  },
  {
   "cell_type": "code",
   "execution_count": 4,
   "id": "24b2f8aa-e410-41c9-bd81-a2237db46f11",
   "metadata": {},
   "outputs": [],
   "source": [
    "pipeline = utils.Pipeline([\n",
    "    ('dummy', DummyPredictor())\n",
    "])"
   ]
  },
  {
   "cell_type": "code",
   "execution_count": 5,
   "id": "aa9c4d19-bd02-496f-b957-efc171d8caad",
   "metadata": {},
   "outputs": [],
   "source": [
    "grids = utils.GridSearch(pipeline, {\n",
    "    ('dummy', 'clever'): [True, False]\n",
    "})"
   ]
  },
  {
   "cell_type": "code",
   "execution_count": 6,
   "id": "fbbb28aa-5941-42de-8d94-4f25851028d8",
   "metadata": {},
   "outputs": [
    {
     "name": "stderr",
     "output_type": "stream",
     "text": [
      "2it [00:00, 96.14it/s]\n"
     ]
    },
    {
     "data": {
      "text/plain": [
       "[((True,), 0.18135376756066413), ((False,), 0.16596343178621661)]"
      ]
     },
     "execution_count": 6,
     "metadata": {},
     "output_type": "execute_result"
    }
   ],
   "source": [
    "grids.fit(X, y).history"
   ]
  },
  {
   "cell_type": "markdown",
   "id": "8f1adfbf-56bb-4b0b-a68c-95529935b73d",
   "metadata": {},
   "source": [
    "Как можно видеть, наш гридсерч с dummy классификатором работает (хоть и очень плохо)."
   ]
  }
 ],
 "metadata": {
  "kernelspec": {
   "display_name": "Python 3 (ipykernel)",
   "language": "python",
   "name": "python3"
  },
  "language_info": {
   "codemirror_mode": {
    "name": "ipython",
    "version": 3
   },
   "file_extension": ".py",
   "mimetype": "text/x-python",
   "name": "python",
   "nbconvert_exporter": "python",
   "pygments_lexer": "ipython3",
   "version": "3.7.11"
  }
 },
 "nbformat": 4,
 "nbformat_minor": 5
}
