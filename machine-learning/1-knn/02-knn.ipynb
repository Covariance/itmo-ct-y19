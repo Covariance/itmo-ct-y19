{
 "cells": [
  {
   "cell_type": "markdown",
   "id": "542a2560-e1fa-4d0e-81bc-6ac52c018d62",
   "metadata": {},
   "source": [
    "# Defining kNN\n",
    "\n",
    "Сделаем генерализованный слой для kNN-регрессии, опишем его в файле `knn.py`."
   ]
  },
  {
   "cell_type": "code",
   "execution_count": 1,
   "id": "24954e30-78e6-40cb-ad21-7955ba576268",
   "metadata": {},
   "outputs": [],
   "source": [
    "import numpy as np\n",
    "import pandas as pd\n",
    "\n",
    "from matplotlib import pyplot as plt\n",
    "import seaborn as sns; sns.set_style()\n",
    "\n",
    "import utils\n",
    "import knn\n",
    "\n",
    "%load_ext autoreload\n",
    "%autoreload 2\n",
    "%matplotlib inline"
   ]
  },
  {
   "cell_type": "markdown",
   "id": "32bcc805-2a90-4c10-835b-5d975a5e37ba",
   "metadata": {},
   "source": [
    "Теперь попробуем сделать что-нибудь простенькое с нашим kNN:"
   ]
  },
  {
   "cell_type": "code",
   "execution_count": 7,
   "id": "9d786102-24a9-4da8-904a-8cac6bd06d93",
   "metadata": {},
   "outputs": [
    {
     "data": {
      "text/plain": [
       "(array([[0., 0.],\n",
       "        [0., 1.],\n",
       "        [1., 0.],\n",
       "        [1., 1.]]),\n",
       " array([[0.],\n",
       "        [1.],\n",
       "        [1.],\n",
       "        [2.]]),\n",
       " array([[0.5, 0.5],\n",
       "        [0. , 0. ],\n",
       "        [0. , 1. ],\n",
       "        [1. , 1. ]]))"
      ]
     },
     "execution_count": 7,
     "metadata": {},
     "output_type": "execute_result"
    }
   ],
   "source": [
    "points = np.array([\n",
    "    [0, 0],\n",
    "    [0, 1],\n",
    "    [1, 0],\n",
    "    [1, 1]\n",
    "]).astype('float')\n",
    "\n",
    "labels = np.array([\n",
    "    [0],\n",
    "    [1],\n",
    "    [1],\n",
    "    [2]\n",
    "]).astype('float')\n",
    "\n",
    "test = np.array([\n",
    "    [.5, .5],\n",
    "    [.0, .0],\n",
    "    [.0, 1.],\n",
    "    [1., 1.]\n",
    "])\n",
    "\n",
    "points, labels, test"
   ]
  },
  {
   "cell_type": "code",
   "execution_count": 8,
   "id": "1d7ce6bc-1137-408c-a00e-1c7ad1776558",
   "metadata": {},
   "outputs": [
    {
     "data": {
      "text/plain": [
       "array([[0.],\n",
       "       [0.],\n",
       "       [1.],\n",
       "       [2.]])"
      ]
     },
     "execution_count": 8,
     "metadata": {},
     "output_type": "execute_result"
    }
   ],
   "source": [
    "knn.knnRegression(window_parameter = 1).fit(points, labels).transform(test)"
   ]
  },
  {
   "cell_type": "markdown",
   "id": "2a8493d4-ac82-48c1-9ef0-601c5edf1f49",
   "metadata": {},
   "source": [
    "Ну вроде что-то получается."
   ]
  }
 ],
 "metadata": {
  "kernelspec": {
   "display_name": "Python 3 (ipykernel)",
   "language": "python",
   "name": "python3"
  },
  "language_info": {
   "codemirror_mode": {
    "name": "ipython",
    "version": 3
   },
   "file_extension": ".py",
   "mimetype": "text/x-python",
   "name": "python",
   "nbconvert_exporter": "python",
   "pygments_lexer": "ipython3",
   "version": "3.7.11"
  }
 },
 "nbformat": 4,
 "nbformat_minor": 5
}
