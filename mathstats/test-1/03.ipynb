{
 "cells": [
  {
   "cell_type": "code",
   "execution_count": 1,
   "id": "cf1b0ea2-b2c3-4fe9-af7d-27cf2ad036fb",
   "metadata": {},
   "outputs": [],
   "source": [
    "import numpy as np\n",
    "import pandas as pd\n",
    "import matplotlib.pyplot as plt\n",
    "import seaborn as sns; sns.set_style()"
   ]
  },
  {
   "cell_type": "markdown",
   "id": "f63b90ec-403f-4e49-9496-7a21c9a1cd0f",
   "metadata": {},
   "source": [
    "Чтобы поймать Петю за руку, как дешёвку, будем делать скользящее окно по парам значений. Утверждается, что в честном случае распределение пар значений будем равномерным. Чтобы отлавливать случаи, когда это не так, будем пользоваться хи-квадратом."
   ]
  },
  {
   "cell_type": "code",
   "execution_count": 2,
   "id": "00a87b5a-5e8d-4ea3-b6eb-f3ec07d0fbd4",
   "metadata": {},
   "outputs": [],
   "source": [
    "def slices_from_sequence(seq, size=2):\n",
    "    result = []\n",
    "    for i in range(len(seq) - size + 1):\n",
    "        result.append(tuple(seq[i:i + size]))\n",
    "\n",
    "    return result"
   ]
  },
  {
   "cell_type": "code",
   "execution_count": 3,
   "id": "a1164b95-4e59-4ebd-ae8c-694053245568",
   "metadata": {},
   "outputs": [],
   "source": [
    "def bin_counts(bins, seq):\n",
    "    bins = {item : 0 for item in bins}\n",
    "    for item in seq:\n",
    "        if item not in bins.keys():\n",
    "            raise Exception('unexpected item in sequence: %s' % str(item))\n",
    "        bins[item] += 1\n",
    "    return list(bins.values())"
   ]
  },
  {
   "cell_type": "markdown",
   "id": "9f01b07c-67b3-4f68-8650-f3973f848d68",
   "metadata": {},
   "source": [
    "Выглядит справедливо. Теперь сделаем генераторы последовательностей по стратегиям Пети:"
   ]
  },
  {
   "cell_type": "code",
   "execution_count": 4,
   "id": "91cd5795-eb89-46a2-9dcf-0c932c8a09fb",
   "metadata": {},
   "outputs": [],
   "source": [
    "def genA(n: int = 100) -> np.ndarray:\n",
    "    return np.random.randint(0, 2, size=n)\n",
    "\n",
    "def genB(n: int = 100) -> np.ndarray:\n",
    "    return np.array([1, 0] * (2 * n))\n",
    "\n",
    "def genC(n: int = 100) -> np.ndarray:\n",
    "    return np.array([1, 0] * n + [0, 1] * n)\n",
    "\n",
    "def genD(n: int = 100) -> np.ndarray:\n",
    "    head = [1, 1, 0, 0] * (n // 2)\n",
    "    tail = [] if n % 2 == 0 else [1, 1]\n",
    "    return np.array(head + tail)\n",
    "\n",
    "def genE(n: int = 100) -> np.ndarray:\n",
    "    head = [1, 1, 1, 0, 0, 0] * (n // 3)\n",
    "    tail = [] if n % 3 == 0 else [1, 1] if n % 3 == 1 else [1, 1, 1, 0]\n",
    "    return np.array(head + tail)\n",
    "\n",
    "gens = {\n",
    "    'A' : genA,\n",
    "    'B' : genB,\n",
    "    'C' : genC,\n",
    "    'D' : genD,\n",
    "    'E' : genE\n",
    "}"
   ]
  },
  {
   "cell_type": "markdown",
   "id": "e253169f-4336-4b84-a5b2-73afdf546b93",
   "metadata": {},
   "source": [
    "Если мы сделаем окошко шириной 2, оно должно сработать во всех случаях, кроме D, на который мы напишем дополнительный тест, а пока что проверим на остальных:"
   ]
  },
  {
   "cell_type": "code",
   "execution_count": 5,
   "id": "8921c68f-03f6-4a4b-8ee6-53aa8a65ffc2",
   "metadata": {},
   "outputs": [],
   "source": [
    "from scipy.stats import chisquare\n",
    "\n",
    "def test_2_slide(seq, bound: float = .05) -> bool:\n",
    "    slices = slices_from_sequence(seq)\n",
    "    counts = bin_counts((\n",
    "        (0, 0),\n",
    "        (0, 1),\n",
    "        (1, 0),\n",
    "        (1, 1),\n",
    "    ), slices)\n",
    "    _, pvalue = chisquare(counts)\n",
    "    return pvalue > .05"
   ]
  },
  {
   "cell_type": "code",
   "execution_count": 6,
   "id": "3c63b661-190c-4113-9a42-e08d61edaaba",
   "metadata": {},
   "outputs": [
    {
     "name": "stdout",
     "output_type": "stream",
     "text": [
      "Generator A, 0.07 rejected by 2-slide\n",
      "Generator B, 1.00 rejected by 2-slide\n",
      "Generator C, 1.00 rejected by 2-slide\n",
      "Generator D, 0.00 rejected by 2-slide\n",
      "Generator E, 1.00 rejected by 2-slide\n"
     ]
    }
   ],
   "source": [
    "REPEATS = 10_000\n",
    "\n",
    "for name, generator in gens.items():\n",
    "    rejected = 0\n",
    "    for _ in range(REPEATS):\n",
    "        seq = generator()\n",
    "        if not test_2_slide(seq):\n",
    "            rejected += 1\n",
    "    \n",
    "    print('Generator %s, %.2f rejected by 2-slide' % (name, rejected / REPEATS))"
   ]
  },
  {
   "cell_type": "markdown",
   "id": "28310f8e-be19-44a6-a730-7c01ff0a289e",
   "metadata": {},
   "source": [
    "Как можно видеть, на пункте D наш подход даёт сбой, потому что для скользящего окна длины 2 он производит практически идеальные результаты. Сделаем второй тест, который будет делать скользящее окно длины 3, и совместим эти тесты:"
   ]
  },
  {
   "cell_type": "code",
   "execution_count": 7,
   "id": "3ff57630-a147-4fd1-9064-929e4858cf69",
   "metadata": {},
   "outputs": [],
   "source": [
    "def test_3_slide(seq, bound: float = .05) -> bool:\n",
    "    slices = slices_from_sequence(seq, size=3)\n",
    "    counts = bin_counts((\n",
    "        (0, 0, 0),\n",
    "        (0, 0, 1),\n",
    "        (0, 1, 0),\n",
    "        (0, 1, 1),\n",
    "        (1, 0, 0),\n",
    "        (1, 0, 1),\n",
    "        (1, 1, 0),\n",
    "        (1, 1, 1),\n",
    "    ), slices)\n",
    "    _, pvalue = chisquare(counts)\n",
    "    return pvalue > .05"
   ]
  },
  {
   "cell_type": "code",
   "execution_count": 8,
   "id": "22a9820c-cbca-4153-8fb1-170156f9c9fd",
   "metadata": {},
   "outputs": [
    {
     "name": "stdout",
     "output_type": "stream",
     "text": [
      "Generator A, 0.10 rejected by 3-slide\n",
      "Generator B, 1.00 rejected by 3-slide\n",
      "Generator C, 1.00 rejected by 3-slide\n",
      "Generator D, 1.00 rejected by 3-slide\n",
      "Generator E, 1.00 rejected by 3-slide\n"
     ]
    }
   ],
   "source": [
    "for name, generator in gens.items():\n",
    "    rejected = 0\n",
    "    for _ in range(REPEATS):\n",
    "        seq = generator()\n",
    "        if not test_3_slide(seq):\n",
    "            rejected += 1\n",
    "    \n",
    "    print('Generator %s, %.2f rejected by 3-slide' % (name, rejected / REPEATS))"
   ]
  },
  {
   "cell_type": "markdown",
   "id": "e2df126b-41ab-488e-830f-300b2e3ce5e1",
   "metadata": {},
   "source": [
    "А, стоп, нам нормально и просто 3-slide сделать, я почему-то думал, что его E пройдет, а теперь понял, почему не пройдёт)\n",
    "\n",
    "Надо теперь посчитать, начиная с каких n тест начинает работать:"
   ]
  },
  {
   "cell_type": "code",
   "execution_count": 9,
   "id": "75696ebc-92ac-4930-b04a-f17282f3d9b6",
   "metadata": {},
   "outputs": [
    {
     "name": "stdout",
     "output_type": "stream",
     "text": [
      "n=2 is enough for generator B\n",
      "n=3 is enough for generator C\n"
     ]
    },
    {
     "name": "stderr",
     "output_type": "stream",
     "text": [
      "/home/covariance/.local/lib/python3.8/site-packages/scipy/stats/stats.py:6707: RuntimeWarning: invalid value encountered in true_divide\n",
      "  terms = (f_obs_float - f_exp)**2 / f_exp\n"
     ]
    },
    {
     "name": "stdout",
     "output_type": "stream",
     "text": [
      "n=1 is enough for generator D\n",
      "n=1 is enough for generator E\n"
     ]
    }
   ],
   "source": [
    "for name, generator in gens.items():\n",
    "    if name == 'A':\n",
    "        continue # Strange to test this one\n",
    "    \n",
    "    n = 1\n",
    "    while True:\n",
    "        rejected = 0\n",
    "        for _ in range(REPEATS):\n",
    "            seq = generator(n=n)\n",
    "            if not test_3_slide(seq):\n",
    "                rejected += 1\n",
    "        if rejected == REPEATS:\n",
    "            print('n=%d is enough for generator %s' % (n, name))\n",
    "            break\n",
    "        n += 1"
   ]
  },
  {
   "cell_type": "markdown",
   "id": "8f5435ef-e88b-40a7-8f74-73c75fa449ec",
   "metadata": {},
   "source": [
    "Получается, для алгоритма достаточно $n=3$. Даже подозрительно хорошо. А, это понятно, у нас некоторые методы получают слишком мало повторений. Давайте попробуем все $n$ от $1$ до $10$."
   ]
  },
  {
   "cell_type": "code",
   "execution_count": 10,
   "id": "b6dfeaee-a246-4761-81fd-fe5c61792ac0",
   "metadata": {},
   "outputs": [
    {
     "name": "stdout",
     "output_type": "stream",
     "text": [
      "Generator B: [0.0, 1.0, 1.0, 1.0, 1.0, 1.0, 1.0, 1.0, 1.0, 1.0]\n",
      "Generator C: [0.0, 0.0, 1.0, 1.0, 1.0, 1.0, 1.0, 1.0, 1.0, 1.0]\n",
      "Generator D: [1.0, 0.0, 0.0, 0.0, 0.0, 0.0, 0.0, 1.0, 1.0, 1.0]\n",
      "Generator E: [1.0, 0.0, 0.0, 0.0, 0.0, 0.0, 0.0, 0.0, 0.0, 0.0]\n"
     ]
    }
   ],
   "source": [
    "for name, generator in gens.items():\n",
    "    if name == 'A':\n",
    "        continue # Strange to test this one\n",
    "    rejects = []\n",
    "    for n in range(1, 11):\n",
    "        rejected = 0\n",
    "        for _ in range(REPEATS):\n",
    "            seq = generator(n=n)\n",
    "            if not test_3_slide(seq):\n",
    "                rejected += 1\n",
    "        rejects.append(rejected / REPEATS)\n",
    "    print('Generator %s: %s' % (name, str(rejects)))"
   ]
  },
  {
   "cell_type": "markdown",
   "id": "733a4a35-34e5-4213-8e2e-d6b44c78aff8",
   "metadata": {},
   "source": [
    "Как можно заметить, $n=10$ нам не хватает только для теста E, и это понятно, потому что там не встречаются только две перестановки."
   ]
  },
  {
   "cell_type": "code",
   "execution_count": 11,
   "id": "3d77388a-f0ac-4898-b3ba-dd807efb9529",
   "metadata": {},
   "outputs": [
    {
     "name": "stdout",
     "output_type": "stream",
     "text": [
      "Generator E: [1.0, 0.0, 0.0, 0.0, 0.0, 0.0, 0.0, 0.0, 0.0, 0.0, 0.0, 0.0, 0.0, 0.0, 0.0, 0.0, 0.0, 0.0, 0.0, 0.0, 0.0, 0.0, 1.0, 1.0]\n"
     ]
    }
   ],
   "source": [
    "rejects = []\n",
    "for n in range(1, 25):\n",
    "    rejected = 0\n",
    "    for _ in range(REPEATS):\n",
    "        seq = genE(n=n)\n",
    "        if not test_3_slide(seq):\n",
    "            rejected += 1\n",
    "    rejects.append(rejected / REPEATS)\n",
    "print('Generator E: %s' % str(rejects))"
   ]
  },
  {
   "cell_type": "markdown",
   "id": "cbfebabd-fe73-4f2e-8d37-7c7c9204bccb",
   "metadata": {},
   "source": [
    "Теперь нам хватает $n=23$. В целом можно было бы попробовать комбинацию двух тестов, вдруг сойдётся при меньшем $n$:"
   ]
  },
  {
   "cell_type": "code",
   "execution_count": 12,
   "id": "7ab3d87e-823a-4085-b814-c89e632cfc65",
   "metadata": {},
   "outputs": [
    {
     "name": "stdout",
     "output_type": "stream",
     "text": [
      "Generator A, 0.11 rejected by 2-3-slide\n",
      "Generator B, 1.00 rejected by 2-3-slide\n",
      "Generator C, 1.00 rejected by 2-3-slide\n",
      "Generator D, 1.00 rejected by 2-3-slide\n",
      "Generator E, 1.00 rejected by 2-3-slide\n"
     ]
    }
   ],
   "source": [
    "for name, generator in gens.items():\n",
    "    rejected = 0\n",
    "    for _ in range(REPEATS):\n",
    "        seq = generator()\n",
    "        if (not test_3_slide(seq)) or (not test_2_slide(seq)):\n",
    "            rejected += 1\n",
    "    \n",
    "    print('Generator %s, %.2f rejected by 2-3-slide' % (name, rejected / REPEATS))"
   ]
  },
  {
   "cell_type": "markdown",
   "id": "735ce0fd-beb5-43b2-963e-2f2ca523cad1",
   "metadata": {},
   "source": [
    "От него нам нужно, чтобы мы довольно редко откидывали генератор А, поэтому добавим на отсечения внутри самих тестов поправку Бонферрони:"
   ]
  },
  {
   "cell_type": "code",
   "execution_count": 13,
   "id": "3bb5b896-8019-4933-a07d-5748cf074a59",
   "metadata": {},
   "outputs": [
    {
     "name": "stdout",
     "output_type": "stream",
     "text": [
      "Generator A, 0.11 rejected by 2-3-slide\n",
      "Generator B, 1.00 rejected by 2-3-slide\n",
      "Generator C, 1.00 rejected by 2-3-slide\n",
      "Generator D, 1.00 rejected by 2-3-slide\n",
      "Generator E, 1.00 rejected by 2-3-slide\n"
     ]
    }
   ],
   "source": [
    "for name, generator in gens.items():\n",
    "    rejected = 0\n",
    "    for _ in range(REPEATS):\n",
    "        seq = generator()\n",
    "        if (not test_3_slide(seq, bound=0.025)) or (not test_2_slide(seq, bound=0.025)):\n",
    "            rejected += 1\n",
    "    \n",
    "    print('Generator %s, %.2f rejected by 2-3-slide' % (name, rejected / REPEATS))"
   ]
  },
  {
   "cell_type": "markdown",
   "id": "c68b3624-85b0-41a7-897e-92ee8443d3f6",
   "metadata": {},
   "source": [
    "А теперь найдём достаточное $n$ для того, чтобы этот тест работал:"
   ]
  },
  {
   "cell_type": "code",
   "execution_count": 15,
   "id": "ed1bda97-6e2a-44cf-8b78-044a83aaf529",
   "metadata": {},
   "outputs": [
    {
     "name": "stdout",
     "output_type": "stream",
     "text": [
      "Generator B: [0.0, 1.0, 1.0, 1.0, 1.0, 1.0, 1.0, 1.0, 1.0, 1.0, 1.0, 1.0, 1.0, 1.0, 1.0, 1.0, 1.0, 1.0, 1.0, 1.0]\n",
      "Generator C: [0.0, 0.0, 1.0, 1.0, 1.0, 1.0, 1.0, 1.0, 1.0, 1.0, 1.0, 1.0, 1.0, 1.0, 1.0, 1.0, 1.0, 1.0, 1.0, 1.0]\n",
      "Generator D: [1.0, 0.0, 0.0, 0.0, 0.0, 0.0, 0.0, 1.0, 1.0, 1.0, 1.0, 1.0, 1.0, 1.0, 1.0, 1.0, 1.0, 1.0, 1.0, 1.0]\n",
      "Generator E: [1.0, 0.0, 0.0, 0.0, 0.0, 0.0, 0.0, 0.0, 0.0, 0.0, 0.0, 0.0, 0.0, 0.0, 0.0, 0.0, 0.0, 0.0, 0.0, 0.0]\n"
     ]
    }
   ],
   "source": [
    "for name, generator in gens.items():\n",
    "    if name == 'A':\n",
    "        continue # Strange to test this one\n",
    "    rejects = []\n",
    "    for n in range(1, 21):\n",
    "        rejected = 0\n",
    "        for _ in range(REPEATS):\n",
    "            seq = generator(n=n)\n",
    "            if (not test_3_slide(seq, bound=0.025)) or (not test_2_slide(seq, bound=0.025)):\n",
    "                rejected += 1\n",
    "        rejects.append(rejected / REPEATS)\n",
    "    print('Generator %s: %s' % (name, str(rejects)))"
   ]
  },
  {
   "cell_type": "markdown",
   "id": "ac511997-e54c-4076-8374-222eb213666f",
   "metadata": {},
   "source": [
    "Ладно, улучшение не получилось."
   ]
  }
 ],
 "metadata": {
  "kernelspec": {
   "display_name": "Python 3",
   "language": "python",
   "name": "python3"
  },
  "language_info": {
   "codemirror_mode": {
    "name": "ipython",
    "version": 3
   },
   "file_extension": ".py",
   "mimetype": "text/x-python",
   "name": "python",
   "nbconvert_exporter": "python",
   "pygments_lexer": "ipython3",
   "version": "3.8.8"
  }
 },
 "nbformat": 4,
 "nbformat_minor": 5
}
