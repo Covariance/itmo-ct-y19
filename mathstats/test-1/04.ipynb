{
 "cells": [
  {
   "cell_type": "code",
   "execution_count": 1,
   "id": "72d326a2-5dc5-4efc-a32b-be286aa52347",
   "metadata": {},
   "outputs": [],
   "source": [
    "import numpy as np\n",
    "import pandas as pd\n",
    "import matplotlib.pyplot as plt\n",
    "import seaborn as sns; sns.set_style()"
   ]
  },
  {
   "cell_type": "code",
   "execution_count": 8,
   "id": "69703328-d4e5-4c41-b971-4fc6d45dfd93",
   "metadata": {},
   "outputs": [],
   "source": [
    "xy1, xy2 = pd.read_csv('data/04/xy1.csv').drop('Unnamed: 0', axis=1), pd.read_csv('data/04/xy2.csv').drop('Unnamed: 0', axis=1)"
   ]
  },
  {
   "cell_type": "markdown",
   "id": "eaf4aa00-6711-46c5-9e34-8e605c320908",
   "metadata": {},
   "source": [
    "Получается так: мы наблюдаем эксперименты $(X_i, Y_i)$ и нам хочется проверить гипотезу о том, что $X$ и $Y$ - незаивисимы.\n",
    "\n",
    "Сложно, сложно, ничего не ясно."
   ]
  }
 ],
 "metadata": {
  "kernelspec": {
   "display_name": "Python 3",
   "language": "python",
   "name": "python3"
  },
  "language_info": {
   "codemirror_mode": {
    "name": "ipython",
    "version": 3
   },
   "file_extension": ".py",
   "mimetype": "text/x-python",
   "name": "python",
   "nbconvert_exporter": "python",
   "pygments_lexer": "ipython3",
   "version": "3.8.8"
  }
 },
 "nbformat": 4,
 "nbformat_minor": 5
}
