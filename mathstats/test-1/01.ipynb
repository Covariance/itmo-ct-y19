{
 "cells": [
  {
   "cell_type": "code",
   "execution_count": 1,
   "id": "22273177-b5d4-4a5a-98cf-5aace0ebf2be",
   "metadata": {},
   "outputs": [],
   "source": [
    "import numpy as np\n",
    "import pandas as pd\n",
    "import matplotlib.pyplot as plt\n",
    "import seaborn as sns; sns.set_style()"
   ]
  },
  {
   "cell_type": "markdown",
   "id": "ab2d17a7-351f-4931-8ca1-3bd9e8f30d20",
   "metadata": {},
   "source": [
    "# a"
   ]
  },
  {
   "cell_type": "markdown",
   "id": "21bd24e5-c870-4172-a60a-62cf5ad1a3a8",
   "metadata": {},
   "source": [
    "Мысль номер раз: сделать почти как на практике, следующую штуку:\n",
    "\n",
    "Представим, что мы делаем фотографии попарно, сначала 1 и 5, потом 2 и 6, и так далее, при этом каждый раз Маша говорит нам, какая из этих фотографий лучше. Тогда выразим математически высказывание \"качество фотографии на телефон А ниже качества фотографии на телефон Б\" как:\n",
    "\n",
    "$X$ - случайная величина, равная качеству фотографии на телефон А, $Y$ - с.в., равная качеству фотографии на телефон Б, тогда $P(X < Y) > .5$. Соответственно, это нашей нулевой гипотезой будет то, что $P(X < Y) = .5$, а альтернативаной - что $P(X < Y) > .5$.\n",
    "\n",
    "Так как все четыре эксперимента, которые мы провели до этого, были независимыми и показали, что $X<Y$, то при $P(X < Y) = .5$ вероятность этого будет меньше или равна $0.0625$, что больше чем уровень значимости, то есть гипотеза не отвергается.\n",
    "\n",
    "Однако можно подумать о том, что наша интерпретация эксперимента никак не учитывает тот факт, что ВСЕ измерения одного фотоаппарата были лучше ВСЕХ измерений другого. Как насчёт изменить наш взгляд на эту ситуацию и рассмотреть все попарные сравнения?\n",
    "\n",
    "Тогда вероятность будет равна $2^{-16}$, а это очень маленькая величина, то есть нулевая гипотеза будет отвергнута. Но тут можно обратить внимание на тот факт, что на самом деле это сильно зависит от распределения $X$ и $Y$, в отличии от первого теста. Давайте промоделируем обе ситуации:"
   ]
  },
  {
   "cell_type": "code",
   "execution_count": 2,
   "id": "018faecd-72b0-4867-a216-b882ee681c69",
   "metadata": {},
   "outputs": [
    {
     "data": {
      "text/plain": [
       "0.062507"
      ]
     },
     "execution_count": 2,
     "metadata": {},
     "output_type": "execute_result"
    }
   ],
   "source": [
    "# 1\n",
    "def check_1(x: np.ndarray, y: np.ndarray) -> bool:\n",
    "    for i in range(len(x)):\n",
    "        if x[i] >= y[i]:\n",
    "            return False\n",
    "    return True\n",
    "\n",
    "# We do not depend on distribution\n",
    "successes = 0\n",
    "total = 1_000_000\n",
    "\n",
    "for _ in range(total):\n",
    "    x = np.random.uniform(size=4)\n",
    "    y = np.random.uniform(size=4)\n",
    "    if check_1(x, y):\n",
    "        successes += 1\n",
    "        \n",
    "successes / total"
   ]
  },
  {
   "cell_type": "code",
   "execution_count": 3,
   "id": "49f54216-ede0-482c-a600-46b4569de938",
   "metadata": {},
   "outputs": [
    {
     "data": {
      "text/plain": [
       "(0.014417, 0.014238)"
      ]
     },
     "execution_count": 3,
     "metadata": {},
     "output_type": "execute_result"
    }
   ],
   "source": [
    "def check_2(x: np.ndarray, y: np.ndarray) -> bool:\n",
    "    for X in x:\n",
    "        for Y in y:\n",
    "            if X >= Y:\n",
    "                return False\n",
    "    return True\n",
    "\n",
    "# We DO depend on distribution\n",
    "\n",
    "def test_with_gen(gen, total: int = 1_000_000, size: int = 4) -> float:\n",
    "    successes = 0\n",
    "    \n",
    "    for _ in range(total):\n",
    "        x = gen(size=size)\n",
    "        y = gen(size=size)\n",
    "        if check_2(x, y):\n",
    "            successes += 1\n",
    "\n",
    "    return successes / total\n",
    "\n",
    "# So lets test with uniform and normal\n",
    "test_with_gen(np.random.uniform), test_with_gen(np.random.normal)"
   ]
  },
  {
   "cell_type": "markdown",
   "id": "dd953144-f59e-4451-9072-5ca685ec36e7",
   "metadata": {},
   "source": [
    "Это показывает, что я облажался в своих высказываниях! Потому что на самом деле второй тест можно свести к тому, что *минимум* из выборки $y$ больше, чем *максимум* из выборки $x$. Это считается иначе:\n",
    "\n",
    "$$P(Y_{min} > X_{max}) = \\sum P(Y_i > X_j | (Y_i \\leq Y_{k}) \\text{ and } (X_j \\geq X_k)) \\cdot P(Y_i \\leq Y_k) \\cdot (X_j \\geq X_k)) = 16 \\cdot (2^{-1} \\cdot 2^{-3} \\cdot 2^{-3})$$\n",
    "\n",
    "Всё ещё не сходится, давайте поэкспериментируем с количеством тестов:"
   ]
  },
  {
   "cell_type": "code",
   "execution_count": 4,
   "id": "2893a16e-baac-4c41-8dac-51d5d13d7a2b",
   "metadata": {},
   "outputs": [],
   "source": [
    "results = [test_with_gen(np.random.uniform, size=sz, total=10_000_000) for sz in range(1, 7)]"
   ]
  },
  {
   "cell_type": "code",
   "execution_count": 5,
   "id": "3661c419-d996-429a-b438-6af4411faa56",
   "metadata": {},
   "outputs": [
    {
     "data": {
      "text/plain": [
       "[0.4999309, 0.1666464, 0.0500196, 0.0141981, 0.0039812, 0.0010797]"
      ]
     },
     "execution_count": 5,
     "metadata": {},
     "output_type": "execute_result"
    }
   ],
   "source": [
    "results"
   ]
  },
  {
   "cell_type": "markdown",
   "id": "4b4ad2b9-0ae7-44e0-9420-334bdbcdb8cd",
   "metadata": {},
   "source": [
    "Выглядит забавно, потому что я не могу узнать эту последовательность. А что если посмотреть на обратную?"
   ]
  },
  {
   "cell_type": "code",
   "execution_count": 6,
   "id": "e6ff131c-4e4f-4871-ab87-8674c39716ee",
   "metadata": {},
   "outputs": [
    {
     "data": {
      "text/plain": [
       "array([  2.00027644,   6.00072969,  19.99216307,  70.43195921,\n",
       "       251.18054858, 926.18319904])"
      ]
     },
     "execution_count": 6,
     "metadata": {},
     "output_type": "execute_result"
    }
   ],
   "source": [
    "1 / np.array(results)"
   ]
  },
  {
   "cell_type": "markdown",
   "id": "0e8ff02b-40b5-4589-ae53-1333041e8d09",
   "metadata": {},
   "source": [
    "Заходим в OEIS, находим [вот это](https://oeis.org/A000984). Стыдно, блин, так облажаться и забыть про это. В общем, да, второй тест даёт нам достаточную значимость отказа."
   ]
  },
  {
   "cell_type": "markdown",
   "id": "82105af8-52bf-46cb-a673-f0f708f7078b",
   "metadata": {},
   "source": [
    "# b"
   ]
  },
  {
   "cell_type": "markdown",
   "id": "43e4bda8-1963-4324-bbee-94929b21850e",
   "metadata": {},
   "source": [
    "Здесь сразу сделаем второй тест из вышеописанных, собственно, посчитав количество вариантов для последовательности оказаться ровно в таком порядке."
   ]
  },
  {
   "cell_type": "code",
   "execution_count": 7,
   "id": "24572f50-5b5e-4beb-b21e-b75ee2ea23be",
   "metadata": {},
   "outputs": [
    {
     "data": {
      "text/plain": [
       "0.028696"
      ]
     },
     "execution_count": 7,
     "metadata": {},
     "output_type": "execute_result"
    }
   ],
   "source": [
    "def check_3(x: np.ndarray, y: np.ndarray) -> bool:\n",
    "    x.sort()\n",
    "    y.sort()\n",
    "    return x[2] < y[0] and x[3] > y[0] and x[3] < y[1]\n",
    "\n",
    "successes = 0\n",
    "    \n",
    "for _ in range(total):\n",
    "    x = np.random.normal(size=4)\n",
    "    y = np.random.normal(size=4)\n",
    "    if check_3(x, y) or check_2(x, y):\n",
    "        successes += 1\n",
    "\n",
    "successes / total"
   ]
  },
  {
   "cell_type": "markdown",
   "id": "989f1b12-b000-4ef5-ad59-d33e0008e031",
   "metadata": {},
   "source": [
    "Теперь значимость будет равна $\\frac{2}{70}$, что всё ещё более значимо, чем $0.05$."
   ]
  },
  {
   "cell_type": "markdown",
   "id": "9d5c4b99-fc8f-4cae-8e16-d13a9b49f1b0",
   "metadata": {},
   "source": [
    "## P.S.\n",
    "\n",
    "Второй тест на самом деле честно работает только для одинаково распределённых величин, если мы засунем туда разные величины с одинаковым \"центром\" (ну типа как матожидание только вероятность быть справа и слева равна), то все сломается."
   ]
  },
  {
   "cell_type": "markdown",
   "id": "ded7b767-b319-42f7-8fbf-1c5df65d7b66",
   "metadata": {},
   "source": [
    "# c"
   ]
  },
  {
   "cell_type": "code",
   "execution_count": 8,
   "id": "169341ed-c2d0-4805-b581-3fd1592b0f43",
   "metadata": {},
   "outputs": [],
   "source": [
    "tws1, tws2 = pd.read_csv('data/01/tws1.csv', sep=' ').to_numpy().flatten(), pd.read_csv('data/01/tws2.csv', sep=' ').to_numpy().flatten()"
   ]
  },
  {
   "cell_type": "code",
   "execution_count": 9,
   "id": "03114f51-6bb1-4b36-863d-ac1693df0e3c",
   "metadata": {},
   "outputs": [
    {
     "data": {
      "text/plain": [
       "MannwhitneyuResult(statistic=9456.0, pvalue=0.7733823497835443)"
      ]
     },
     "execution_count": 9,
     "metadata": {},
     "output_type": "execute_result"
    }
   ],
   "source": [
    "from scipy.stats import mannwhitneyu as mnu\n",
    "\n",
    "mnu(tws1, tws2)"
   ]
  },
  {
   "cell_type": "markdown",
   "id": "5b346b3e-49be-47f2-8a6c-190297487e1c",
   "metadata": {},
   "source": [
    "MNU говорит нет."
   ]
  },
  {
   "cell_type": "markdown",
   "id": "fc52cdd3-106d-434b-97f9-88f6b7951530",
   "metadata": {},
   "source": [
    "# d"
   ]
  },
  {
   "cell_type": "markdown",
   "id": "6871bbd2-aeb8-41ba-876c-09c14d8c7256",
   "metadata": {},
   "source": [
    "## a\n",
    "\n",
    "Получаем сумму рангов для $X$ равную $1+2+3+4$, сумму рангов для $Y$, равную $5+6+7+8$. Тогда:\n",
    "\n",
    "$$\n",
    "\\begin{split}\n",
    "    &U_1 = 4 \\cdot 4 + \\frac{4 \\cdot 5}{2} - R_1 = 16 + 10 - 10 = 16\\\\\n",
    "    &U_2 = 4 \\cdot 4 + \\frac{4 \\cdot 5}{2} - R_2 = 16 + 10 - 26 = 0\n",
    "\\end{split}\n",
    "$$\n",
    "\n",
    "Согласно [таблице](https://math.usask.ca/~laverty/S245/Tables/wmw.pdf), получаем **достаточный** уровень значимости чтобы отклонить нулеву гипотезу."
   ]
  },
  {
   "cell_type": "markdown",
   "id": "26a2750d-3448-4ea1-b097-d9419021c957",
   "metadata": {},
   "source": [
    "## b\n",
    "\n",
    "Получаем сумму рангов для $X$ равную $1+2+3+5$, сумму рангов для $Y$, равную $4+6+7+8$. Тогда:\n",
    "\n",
    "$$\n",
    "\\begin{split}\n",
    "    &U_1 = 4 \\cdot 4 + \\frac{4 \\cdot 5}{2} - R_1 = 16 + 10 - 11 = 15\\\\\n",
    "    &U_2 = 4 \\cdot 4 + \\frac{4 \\cdot 5}{2} - R_2 = 16 + 10 - 25 = 1\n",
    "\\end{split}\n",
    "$$\n",
    "\n",
    "Согласно [таблице](https://math.usask.ca/~laverty/S245/Tables/wmw.pdf), получаем **недостаточный** уровень значимости чтобы отклонить нулеву гипотезу."
   ]
  }
 ],
 "metadata": {
  "kernelspec": {
   "display_name": "Python 3",
   "language": "python",
   "name": "python3"
  },
  "language_info": {
   "codemirror_mode": {
    "name": "ipython",
    "version": 3
   },
   "file_extension": ".py",
   "mimetype": "text/x-python",
   "name": "python",
   "nbconvert_exporter": "python",
   "pygments_lexer": "ipython3",
   "version": "3.8.8"
  }
 },
 "nbformat": 4,
 "nbformat_minor": 5
}
