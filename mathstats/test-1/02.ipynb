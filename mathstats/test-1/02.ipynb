{
 "cells": [
  {
   "cell_type": "code",
   "execution_count": 1,
   "id": "90681aa9-279c-478c-9a93-3b4d3f7b39a0",
   "metadata": {},
   "outputs": [],
   "source": [
    "import numpy as np\n",
    "import pandas as pd\n",
    "import matplotlib.pyplot as plt\n",
    "import seaborn as sns; sns.set_style()"
   ]
  },
  {
   "cell_type": "code",
   "execution_count": 2,
   "id": "b0f2b22b-622a-48e9-acd3-b5c95c5d3b0a",
   "metadata": {},
   "outputs": [],
   "source": [
    "def read(name: str) -> np.ndarray:\n",
    "    return pd.read_csv('data/02/%s.csv' % name, header=None).to_numpy().flatten()\n",
    "\n",
    "p1, v1, p2, v2, p3, v3 = read('p1'), read('v1'), read('p2'), read('v2'), read('p3'), read('v3')"
   ]
  },
  {
   "cell_type": "markdown",
   "id": "1190684a-1d69-4430-af63-44a60f51bc86",
   "metadata": {},
   "source": [
    "# a\n",
    "\n",
    "В этом пункте выборки зависимые, так что давайте просто запустим соответствующий t-тест:"
   ]
  },
  {
   "cell_type": "code",
   "execution_count": 3,
   "id": "b5330cd0-e7c4-4b3b-90a7-9b04ab85555d",
   "metadata": {},
   "outputs": [
    {
     "data": {
      "text/plain": [
       "(Ttest_relResult(statistic=-9.1523398855791, pvalue=7.7213837863286e-15),\n",
       " Ttest_relResult(statistic=-1.46826008535447, pvalue=0.14520376494190948),\n",
       " Ttest_relResult(statistic=1.183400962967836, pvalue=0.23948417065171815))"
      ]
     },
     "execution_count": 3,
     "metadata": {},
     "output_type": "execute_result"
    }
   ],
   "source": [
    "from scipy.stats import ttest_rel\n",
    "\n",
    "ttest_rel(p1, v1), ttest_rel(p2, v2), ttest_rel(p3, v3)"
   ]
  },
  {
   "cell_type": "markdown",
   "id": "a27f0da2-83ac-4367-803e-230aa1c1d545",
   "metadata": {},
   "source": [
    "# b\n",
    "\n",
    "В этом пункте выборки независимые, так что тест нужен другой:"
   ]
  },
  {
   "cell_type": "code",
   "execution_count": 4,
   "id": "72a7a91a-0969-4531-9887-62f7e1820ae3",
   "metadata": {},
   "outputs": [
    {
     "data": {
      "text/plain": [
       "(Ttest_indResult(statistic=-0.66764150158196, pvalue=0.5051398774750848),\n",
       " Ttest_indResult(statistic=-2.0726985330891523, pvalue=0.03949528773227483),\n",
       " Ttest_indResult(statistic=1.1356227084138462, pvalue=0.25748724226531144))"
      ]
     },
     "execution_count": 4,
     "metadata": {},
     "output_type": "execute_result"
    }
   ],
   "source": [
    "from scipy.stats import ttest_ind\n",
    "\n",
    "ttest_ind(p1, v1), ttest_ind(p2, v2), ttest_ind(p3, v3)"
   ]
  },
  {
   "cell_type": "markdown",
   "id": "062f6099-1151-4e9c-9302-d1cb3a0cd3a5",
   "metadata": {},
   "source": [
    "# Выводы\n",
    "\n",
    "В обоих случаях нулевая гипотеза это \"алгоритмы существенно не различаются\", альтернативная гипотеза - не одинаково эффективны.\n",
    "\n",
    "В пункте (a) нулевая гипотеза отвергается только для первого набора данных (уровень значимости везде выбираем $0.05$), в пункте (b) только для второго."
   ]
  }
 ],
 "metadata": {
  "kernelspec": {
   "display_name": "Python 3",
   "language": "python",
   "name": "python3"
  },
  "language_info": {
   "codemirror_mode": {
    "name": "ipython",
    "version": 3
   },
   "file_extension": ".py",
   "mimetype": "text/x-python",
   "name": "python",
   "nbconvert_exporter": "python",
   "pygments_lexer": "ipython3",
   "version": "3.8.8"
  }
 },
 "nbformat": 4,
 "nbformat_minor": 5
}
