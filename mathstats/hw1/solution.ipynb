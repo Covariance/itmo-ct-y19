{
 "cells": [
  {
   "cell_type": "code",
   "execution_count": 1,
   "id": "d38ae120-6347-4c5b-a8e0-9039fa9c8d21",
   "metadata": {},
   "outputs": [],
   "source": [
    "import numpy as np\n",
    "import matplotlib.pyplot as plt"
   ]
  },
  {
   "cell_type": "markdown",
   "id": "52037502-b2c3-42b5-aad3-56bab71d1dc7",
   "metadata": {},
   "source": [
    "# 1\n",
    "\n",
    "*(Напоминание:)* В настольной игре Settlers of Catan в начале каждого хода игрок кидает два D6 кубика, складывает значения на них, и\n",
    "последствия зависят от значения этой суммы.\n",
    "Однажды так получилось, что Вася с друзьями собрался поиграть,\n",
    "игровое поле у него было, а кубиков не было. Тогда Вася нагуглил\n",
    "генератор, который возвращал целые числа от $2$ до $12$. Петя подозревает, что генератор неправильный, и предложил три теста:"
   ]
  },
  {
   "cell_type": "markdown",
   "id": "0cf3ac3e-5a82-4357-87c5-a8eebe5625a5",
   "metadata": {},
   "source": [
    "## (1)\n",
    "\n",
    "Тест, который проверяет частоту каждого значения суммы кубиков, и если хотя бы одна попала в $0.0078$-критическую область,\n",
    "то отвергается гипотеза о том, что распределение “честное”. (Напомню, $0.0078$ подобрано так, чтобы вероятность ложноположительной ошибки была $0.05$).\n",
    "\n",
    "## (2)\n",
    "\n",
    "Строится статистика:\n",
    "\n",
    "$$\\sum_{i=1}^{12} \\frac{|\\#\\{\\text{количество выпадений i}\\} - 225P(i)|}{\\sqrt{225\\cdot P(i) \\cdot (1-P(i))}}$$\n",
    "\n",
    "Если значение этой статистики выше $0.95$-квантили ее распределения при нулевой гипотезе, нулевая гипотеза отклоняется.\n",
    "\n",
    "## (3)\n",
    "\n",
    "Строится статистика хи-квадрат:\n",
    "\n",
    "$$\\sum_{i=1}^{12} \\frac{(\\#\\{\\text{количество выпадений i}\\} - 225P(i))^2}{225\\cdot P(i) \\cdot (1-P(i))}$$\n",
    "\n",
    "Если значение этой статистики выше $0.95$-квантили ее распределения при нулевой гипотезе, нулевая гипотеза отклоняется."
   ]
  },
  {
   "cell_type": "code",
   "execution_count": 2,
   "id": "56ec23d7-b3b8-47af-9f37-4821b5c49f13",
   "metadata": {},
   "outputs": [],
   "source": [
    "from scipy.stats import binom\n",
    "\n",
    "# Храним сэмплы как [cnt(2), cnt(3), ... , cnt(12)], то есть к индексу + 2 для значения броска\n",
    "\n",
    "def roll_p(roll):\n",
    "    return ((roll - 1) if roll <= 7 else (13 - roll)) / 36\n",
    "\n",
    "roll_probs = np.array([roll_p(i) for i in range(2, 13)])"
   ]
  },
  {
   "cell_type": "code",
   "execution_count": 3,
   "id": "a3c437f3-93fe-4e17-a02e-74c3d7199735",
   "metadata": {},
   "outputs": [],
   "source": [
    "alpha = 0.0078\n",
    "\n",
    "def find_lower_bound(roll):\n",
    "    prob = 0.\n",
    "    cnt = 0\n",
    "    while prob < alpha / 2:\n",
    "        cnt += 1\n",
    "        prob += binom.pmf(cnt, 225, roll_probs[roll])\n",
    "    return cnt\n",
    "\n",
    "def find_upper_bound(roll):\n",
    "    prob = 1.\n",
    "    cnt = 0\n",
    "    while prob > 1 - alpha / 2:\n",
    "        cnt += 1\n",
    "        prob -= binom.pmf(225 - cnt, 225, roll_probs[roll])\n",
    "    return 225 - cnt\n",
    "\n",
    "lower_bounds = [find_lower_bound(x) for x in range(11)]\n",
    "upper_bounds = [find_upper_bound(x) for x in range(11)]\n",
    "\n",
    "def test_one(rolls):\n",
    "    return any([rolls[x] < lower_bounds[x] or upper_bounds[x] < rolls[x] for x in range(len(rolls))])"
   ]
  },
  {
   "cell_type": "code",
   "execution_count": 4,
   "id": "01b3cd60-5ae9-4ebc-8edb-00cf1643f500",
   "metadata": {},
   "outputs": [],
   "source": [
    "def test_two(rolls):\n",
    "    return (np.abs(rolls - 225 * roll_probs) / np.sqrt(225 * (1 - roll_probs) * roll_probs)).sum() > 12.392"
   ]
  },
  {
   "cell_type": "code",
   "execution_count": 5,
   "id": "7b80a10a-3a57-478c-a75a-bae5d70d3726",
   "metadata": {},
   "outputs": [],
   "source": [
    "def test_three(rolls):\n",
    "    return ((rolls - 225 * roll_probs) ** 2 / (225 * (1 - roll_probs) * roll_probs)).sum() > 20.125"
   ]
  },
  {
   "cell_type": "markdown",
   "id": "236d99eb-32a9-4e3c-abb0-ec3bd8ef8676",
   "metadata": {},
   "source": [
    "Давайте проверим, что ложноположительная ошибка действительно $0.05$ и я нигде не налажал:"
   ]
  },
  {
   "cell_type": "code",
   "execution_count": 6,
   "id": "3e0b4d50-b442-4fa5-9b59-097e12d48b49",
   "metadata": {},
   "outputs": [
    {
     "data": {
      "text/plain": [
       "(0.05227, 0.04842, 0.05016)"
      ]
     },
     "execution_count": 6,
     "metadata": {},
     "output_type": "execute_result"
    }
   ],
   "source": [
    "def sample_from_samples(samples):\n",
    "    u, c = np.unique(samples, return_counts=True)\n",
    "    mp = dict(zip(u, c))\n",
    "    return np.array([mp[key] if key in mp.keys() else 0. for key in range(2, 13)])\n",
    "\n",
    "samples = np.array([sample_from_samples(np.random.randint(low=1, high=7, size=225) + np.random.randint(low=1, high=7, size=225)) for _ in range(100_000)])\n",
    "\n",
    "def count_false_positive(samples, test):\n",
    "    return sum([test(sample) for sample in samples]) / len(samples)\n",
    "\n",
    "count_false_positive(samples, test_one), count_false_positive(samples, test_two), count_false_positive(samples, test_three)"
   ]
  },
  {
   "cell_type": "markdown",
   "id": "111b3944-1179-4c68-967b-9900e00037bb",
   "metadata": {},
   "source": [
    "Возникает естественный вопрос, какой из подходов лучше. Все три подхода таковы, что вероятность ложноположительной ошибки составляет $0.05$. Давайте оценим вероятность ложноотрицательной ошибки. Очевидно, что эта вероятность зависит от того, как именно нарушаются правила (Anna Karenina principle). Рассмотрим следующие варианты:\n",
    "## (a)\n",
    "С вероятностью $1 − p$ мошенник генерирует значение честно, с\n",
    "вероятностью $p$ возвращает значение $7$;\n",
    "## (b)\n",
    "С вероятностью $1 − p$ мошенник генерирует значение честно, с\n",
    "вероятностью p возвращает значение 12;\n",
    "## (c)\n",
    "С вероятностью $1 − p$ мошенник генерирует значение честно, с\n",
    "вероятностью $p$ он кидает только один кубик и возвращает его\n",
    "значение;\n",
    "\n",
    "В каждом случае найдите мощность критериев для $p = 0.03$, $p =\n",
    "0.07$, $p = 0.2$. Постройте графики зависимости мощности критериев\n",
    "для каждого случая."
   ]
  },
  {
   "cell_type": "code",
   "execution_count": 7,
   "id": "2a4074ad-68be-41e6-8ad9-77c943fdb098",
   "metadata": {},
   "outputs": [],
   "source": [
    "def gen_sample_a(p):\n",
    "    return sample_from_samples(np.array([np.random.randint(low=1, high=7) + np.random.randint(low=1, high=7) if x else 7 for x in (np.random.uniform(size=225) > p)]))\n",
    "\n",
    "def gen_sample_b(p):\n",
    "    return sample_from_samples(np.array([np.random.randint(low=1, high=7) + np.random.randint(low=1, high=7) if x else 12 for x in (np.random.uniform(size=225) > p)]))\n",
    "\n",
    "def gen_sample_c(p):\n",
    "    return sample_from_samples(np.array([np.random.randint(low=1, high=7) + np.random.randint(low=1, high=7) if x else 1 + np.random.randint(low=1, high=7) for x in (np.random.uniform(size=225) > p)]))"
   ]
  },
  {
   "cell_type": "code",
   "execution_count": 8,
   "id": "2247897d-1eb0-4394-90d2-cf17f16c5d39",
   "metadata": {},
   "outputs": [
    {
     "name": "stdout",
     "output_type": "stream",
     "text": [
      "test_one a 0.03 -> 0.088\n",
      "test_one a 0.07 -> 0.349\n",
      "test_one a 0.2 -> 0.999\n",
      "test_one b 0.03 -> 0.316\n",
      "test_one b 0.07 -> 0.942\n",
      "test_one b 0.2 -> 1.0\n",
      "test_one c 0.03 -> 0.056\n",
      "test_one c 0.07 -> 0.085\n",
      "test_one c 0.2 -> 0.447\n",
      "test_two a 0.03 -> 0.086\n",
      "test_two a 0.07 -> 0.23\n",
      "test_two a 0.2 -> 0.971\n",
      "test_two b 0.03 -> 0.215\n",
      "test_two b 0.07 -> 0.768\n",
      "test_two b 0.2 -> 1.0\n",
      "test_two c 0.03 -> 0.069\n",
      "test_two c 0.07 -> 0.103\n",
      "test_two c 0.2 -> 0.6\n",
      "test_three a 0.03 -> 0.089\n",
      "test_three a 0.07 -> 0.266\n",
      "test_three a 0.2 -> 0.998\n",
      "test_three b 0.03 -> 0.388\n",
      "test_three b 0.07 -> 0.953\n",
      "test_three b 0.2 -> 1.0\n",
      "test_three c 0.03 -> 0.057\n",
      "test_three c 0.07 -> 0.13\n",
      "test_three c 0.2 -> 0.688\n"
     ]
    }
   ],
   "source": [
    "for test in (test_one, test_two, test_three):\n",
    "    for gen_sample in ((gen_sample_a, 'a'), (gen_sample_b, 'b'), (gen_sample_c, 'c')):\n",
    "        for p in (0.03, 0.07, 0.2):\n",
    "            print(test.__name__, gen_sample[1], p, \"->\", count_false_positive([gen_sample[0](p) for _ in range(1_000)], test))"
   ]
  },
  {
   "cell_type": "code",
   "execution_count": 9,
   "id": "8b424c3d-f075-412d-bbdd-689df6959f95",
   "metadata": {},
   "outputs": [
    {
     "data": {
      "image/png": "[encoded data removed]",
      "text/plain": [
       "<Figure size 432x288 with 1 Axes>"
      ]
     },
     "metadata": {
      "needs_background": "light"
     },
     "output_type": "display_data"
    },
    {
     "data": {
      "image/png": "[encoded data removed]",
      "text/plain": [
       "<Figure size 432x288 with 1 Axes>"
      ]
     },
     "metadata": {
      "needs_background": "light"
     },
     "output_type": "display_data"
    },
    {
     "data": {
      "image/png": "[encoded data removed]",
      "text/plain": [
       "<Figure size 432x288 with 1 Axes>"
      ]
     },
     "metadata": {
      "needs_background": "light"
     },
     "output_type": "display_data"
    }
   ],
   "source": [
    "args = np.linspace(0, 1, num=50)\n",
    "\n",
    "for gen_sample in ((np.vectorize(gen_sample_a), 'a'), (np.vectorize(gen_sample_b), 'b'), (np.vectorize(gen_sample_c), 'c')):\n",
    "    val_one = [count_false_positive([gen_sample[0](arg) for _ in range(100)], test_one) for arg in args]\n",
    "    val_two = [count_false_positive([gen_sample[0](arg) for _ in range(100)], test_two) for arg in args]\n",
    "    val_three = [count_false_positive([gen_sample[0](arg) for _ in range(100)], test_three) for arg in args]\n",
    "    plt.plot(args, val_one, 'r', args, val_two, 'g', args, val_three, 'b')\n",
    "    plt.show()"
   ]
  },
  {
   "cell_type": "markdown",
   "id": "cc3c61e1-a503-4985-9b3b-ad9a37e3fe5f",
   "metadata": {},
   "source": [
    "# 2\n",
    "\n",
    "## (a)\n",
    "Проверьте с помощью критерия хи-квадрат, принадлежат ли предложенные ниже выборки распределению Пуассона $\\Pi_\\lambda$ с $\\lambda = 4$.\n",
    "Для этого разбейте вещественную прямую на бины:\n",
    "$$\\{0, 1, 2\\}, \\{3\\}, \\{4\\}, \\{5\\}, \\{6, 7\\}, [8, \\infty)$$\n",
    "\n",
    "Какое распределение имеет статистика критерия (название, не гистограмма) при нулевой гипотезе?\n",
    "\n",
    "## (b)\n",
    "Проверьте с помощью критерия хи-квадрат, принадлежат ли предложенные ниже выборки распределению Пуассона $\\Pi_\\lambda$ с неизвестным $\\lambda$. Для этого оцените $\\lambda$ из данных (как среднее по выборке)\n",
    "разбейте вещественную прямую на бины:\n",
    "$$\\{0, 1, 2\\}, \\{3\\}, \\{4\\}, \\{5\\}, \\{6, 7\\}, [8, \\infty)$$\n",
    "Какое распределение имеет статистика критерия (название, не\n",
    "гистограмма) при нулевой гипотезе?"
   ]
  },
  {
   "cell_type": "code",
   "execution_count": 10,
   "id": "558f396b-f4bf-46cc-bbf5-d350f8718518",
   "metadata": {},
   "outputs": [],
   "source": [
    "sample_2a = {3 : 25, 4 : 23, 5 : 13, 2 : 12, 7 : 8, 6 : 6, 8 : 5, 9 : 3, 1 : 3, 10 : 1, 0 : 1}\n",
    "sample_2b = {2 : 18, 4 : 16, 3 : 15, 5 : 14, 6 : 11, 8 : 8, 7 : 8, 1 : 4, 9 : 3, 0 : 2, 10 : 1}\n",
    "sample_2c = {4 : 29, 2 : 15, 6 : 15, 3 : 13, 1 : 11, 5 : 10, 8 : 3, 7 : 3, 0 : 1}"
   ]
  },
  {
   "cell_type": "code",
   "execution_count": 11,
   "id": "f3b5beb1-08c3-4f37-87e1-ce80cd09cbab",
   "metadata": {},
   "outputs": [],
   "source": [
    "def bin_sample(s):\n",
    "    return np.array([s[0] + s[1] + s[2], s[3], s[4], s[5], s[6] + s[7], sum([s[i] if i > 7 else 0 for i in s.keys()])])\n",
    "\n",
    "bin_sample_2a = bin_sample(sample_2a)\n",
    "bin_sample_2b = bin_sample(sample_2b)\n",
    "bin_sample_2c = bin_sample(sample_2c)"
   ]
  },
  {
   "cell_type": "code",
   "execution_count": 12,
   "id": "88507968-7188-4c5e-a033-bec583ea0cbf",
   "metadata": {},
   "outputs": [],
   "source": [
    "from scipy.stats import poisson\n",
    "\n",
    "def xi_squared(ps, ns):\n",
    "    return ((ns - ns.sum() * ps) ** 2 / (ns.sum() * ps)).sum()\n",
    "\n",
    "def binned_poisson(lambd):\n",
    "    return np.array([poisson.pmf(0, lambd) + poisson.pmf(1, lambd) + poisson.pmf(2, lambd), poisson.pmf(3, lambd), poisson.pmf(4, lambd), poisson.pmf(5, lambd), poisson.pmf(6, lambd) + poisson.pmf(7, lambd), 1. - poisson.cdf(7, lambd)])"
   ]
  },
  {
   "cell_type": "code",
   "execution_count": 13,
   "id": "7ef3e432-a121-436e-8223-19660a1f115e",
   "metadata": {},
   "outputs": [
    {
     "data": {
      "text/plain": [
       "(8.444342764922272, 11.561246364609007, 10.260852872397093)"
      ]
     },
     "execution_count": 13,
     "metadata": {},
     "output_type": "execute_result"
    }
   ],
   "source": [
    "xi_squared(binned_poisson(4), bin_sample_2a), xi_squared(binned_poisson(4), bin_sample_2b), xi_squared(binned_poisson(4), bin_sample_2c)"
   ]
  },
  {
   "cell_type": "code",
   "execution_count": 14,
   "id": "a5ccabc6-e893-4f88-b239-40a585fb560d",
   "metadata": {},
   "outputs": [],
   "source": [
    "def sample_mean(sel):\n",
    "    return sum([sel[k] * k for k in sel.keys()]) / sum(sel.values())\n",
    "\n",
    "lambda_a = sample_mean(sample_2a)\n",
    "lambda_b = sample_mean(sample_2b)\n",
    "lambda_c = sample_mean(sample_2c)"
   ]
  },
  {
   "cell_type": "code",
   "execution_count": 15,
   "id": "79e8ae6b-4a8c-410b-bee5-de1cbe39e460",
   "metadata": {},
   "outputs": [
    {
     "data": {
      "text/plain": [
       "(6.8268043269421215, 5.189205155994414, 10.062814072256842)"
      ]
     },
     "execution_count": 15,
     "metadata": {},
     "output_type": "execute_result"
    }
   ],
   "source": [
    "xia, xib, xic = xi_squared(binned_poisson(lambda_a), bin_sample_2a), xi_squared(binned_poisson(lambda_b), bin_sample_2b), xi_squared(binned_poisson(lambda_c), bin_sample_2c)\n",
    "\n",
    "xia, xib, xic"
   ]
  },
  {
   "cell_type": "code",
   "execution_count": 16,
   "id": "7561c73b-dcce-4a5d-948d-c80c490160f2",
   "metadata": {},
   "outputs": [
    {
     "data": {
      "text/plain": [
       "(0.7661569597709076, 0.6067713814388382, 0.9265251235532614)"
      ]
     },
     "execution_count": 16,
     "metadata": {},
     "output_type": "execute_result"
    }
   ],
   "source": [
    "from scipy.stats import chi2\n",
    "\n",
    "chi2.cdf(xia, df=5), chi2.cdf(xib, df=5), chi2.cdf(xic, df=5)"
   ]
  },
  {
   "cell_type": "code",
   "execution_count": 17,
   "id": "712ddbcd-2f09-41bc-a14d-e474f70a4aa9",
   "metadata": {},
   "outputs": [
    {
     "data": {
      "text/plain": [
       "array([ 4, 96])"
      ]
     },
     "execution_count": 17,
     "metadata": {},
     "output_type": "execute_result"
    }
   ],
   "source": [
    "np.array([sample_2a[0] + sample_2a[1], sum(sample_2a.values()) - sample_2a[0] - sample_2a[1]])"
   ]
  },
  {
   "cell_type": "code",
   "execution_count": 18,
   "id": "b0f8edda-366a-4631-a4fb-0621eaa74537",
   "metadata": {},
   "outputs": [
    {
     "data": {
      "text/plain": [
       "(2.195734445403083, 1.0246895269903575, 3.2966774803488534)"
      ]
     },
     "execution_count": 18,
     "metadata": {},
     "output_type": "execute_result"
    }
   ],
   "source": [
    "def wtf_xi(sample):\n",
    "    lambd = sample_mean(sample)\n",
    "    ns2a = np.array([sample[0] + sample[1], sum(sample.values()) - sample[0] - sample[1]])\n",
    "    ps2a = np.array([poisson.pmf(0, lambd) + poisson.pmf(1, lambd), 1 - poisson.pmf(0, lambd) + poisson.pmf(1, lambd)])\n",
    "\n",
    "    return ((ns2a - ns2a.sum() * ps2a) ** 2 / (ns2a.sum() * ps2a)).sum()\n",
    "\n",
    "wtf_xi(sample_2a), wtf_xi(sample_2b), wtf_xi(sample_2c)"
   ]
  },
  {
   "cell_type": "markdown",
   "id": "b4599e49-2d02-4bb7-a0f7-172f56c67a35",
   "metadata": {},
   "source": [
    "# 3"
   ]
  },
  {
   "cell_type": "code",
   "execution_count": 19,
   "id": "52a0d5a1-1e4a-4e3f-b4fd-bcee456a1805",
   "metadata": {},
   "outputs": [
    {
     "data": {
      "text/plain": [
       "(-2.9999956593182, 2.99989221418179)"
      ]
     },
     "execution_count": 19,
     "metadata": {},
     "output_type": "execute_result"
    }
   ],
   "source": [
    "import pandas as pd\n",
    "\n",
    "isit = pd.read_csv('isitgauss.csv')['y'].to_numpy()\n",
    "\n",
    "isit.min(), isit.max()"
   ]
  },
  {
   "cell_type": "code",
   "execution_count": 20,
   "id": "6c69f2ab-809f-4924-91cf-e087ef2257aa",
   "metadata": {},
   "outputs": [
    {
     "data": {
      "text/plain": [
       "(array([ 245,  453,  890, 1483, 3844, 1483,  913,  450,  239]),\n",
       " array([0.02275013, 0.04405707, 0.09184805, 0.14988228, 0.38292492,\n",
       "        0.14988228, 0.09184805, 0.04405707, 0.02275013]),\n",
       " 3.7863248262363163)"
      ]
     },
     "execution_count": 20,
     "metadata": {},
     "output_type": "execute_result"
    },
    {
     "data": {
      "image/png": "[encoded data removed]",
      "text/plain": [
       "<Figure size 432x288 with 1 Axes>"
      ]
     },
     "metadata": {
      "needs_background": "light"
     },
     "output_type": "display_data"
    }
   ],
   "source": [
    "from scipy.stats import norm\n",
    "\n",
    "ps_gauss = np.array([norm.cdf(-2), norm.cdf(-1.5) - norm.cdf(-2), norm.cdf(-1) - norm.cdf(-1.5), norm.cdf(-0.5) - norm.cdf(-1), norm.cdf(0.5) - norm.cdf(-0.5), norm.cdf(1) - norm.cdf(0.5), norm.cdf(1.5) - norm.cdf(1), norm.cdf(2) - norm.cdf(1.5), 1. - norm.cdf(2)])\n",
    "\n",
    "binned_float, _, _ = plt.hist(isit, bins=[-3, -2, -1.5, -1, -0.5, 0.5, 1, 1.5, 2, 3])\n",
    "\n",
    "binned_int = binned_float.astype(int)\n",
    "\n",
    "binned_int, ps_gauss, xi_squared(ps_gauss, binned_int)"
   ]
  },
  {
   "cell_type": "markdown",
   "id": "985b3a99-4672-4e78-b478-274620be750b",
   "metadata": {},
   "source": [
    "# 4"
   ]
  },
  {
   "cell_type": "code",
   "execution_count": 21,
   "id": "82a06199-cfb9-4780-831f-13685316c06f",
   "metadata": {},
   "outputs": [
    {
     "data": {
      "text/html": [
       "<div>\n",
       "<style scoped>\n",
       "    .dataframe tbody tr th:only-of-type {\n",
       "        vertical-align: middle;\n",
       "    }\n",
       "\n",
       "    .dataframe tbody tr th {\n",
       "        vertical-align: top;\n",
       "    }\n",
       "\n",
       "    .dataframe thead th {\n",
       "        text-align: right;\n",
       "    }\n",
       "</style>\n",
       "<table border=\"1\" class=\"dataframe\">\n",
       "  <thead>\n",
       "    <tr style=\"text-align: right;\">\n",
       "      <th></th>\n",
       "      <th>C</th>\n",
       "      <th>1</th>\n",
       "    </tr>\n",
       "  </thead>\n",
       "  <tbody>\n",
       "    <tr>\n",
       "      <th>0</th>\n",
       "      <td>G</td>\n",
       "      <td>0</td>\n",
       "    </tr>\n",
       "    <tr>\n",
       "      <th>1</th>\n",
       "      <td>G</td>\n",
       "      <td>0</td>\n",
       "    </tr>\n",
       "    <tr>\n",
       "      <th>2</th>\n",
       "      <td>T</td>\n",
       "      <td>1</td>\n",
       "    </tr>\n",
       "    <tr>\n",
       "      <th>3</th>\n",
       "      <td>G</td>\n",
       "      <td>0</td>\n",
       "    </tr>\n",
       "    <tr>\n",
       "      <th>4</th>\n",
       "      <td>G</td>\n",
       "      <td>1</td>\n",
       "    </tr>\n",
       "  </tbody>\n",
       "</table>\n",
       "</div>"
      ],
      "text/plain": [
       "   C  1\n",
       "0  G  0\n",
       "1  G  0\n",
       "2  T  1\n",
       "3  G  0\n",
       "4  G  1"
      ]
     },
     "execution_count": 21,
     "metadata": {},
     "output_type": "execute_result"
    }
   ],
   "source": [
    "df = pd.read_csv('onesnp.csv')\n",
    "\n",
    "df.head()"
   ]
  },
  {
   "cell_type": "code",
   "execution_count": 22,
   "id": "590ebac1-cdbe-40c5-abfa-5aa4457d4980",
   "metadata": {},
   "outputs": [
    {
     "name": "stdout",
     "output_type": "stream",
     "text": [
      "A 0 1224 1 1199\n",
      "C 0 1259 1 1266\n",
      "G 0 1286 1 1253\n",
      "T 0 1237 1 1276\n"
     ]
    }
   ],
   "source": [
    "arr = {'A':[1224, 1199], 'C': [1259, 1266], 'G': [1286, 1253], 'T': [1237, 1276]}\n",
    "\n",
    "for nuc, vals in arr.items():\n",
    "    print(nuc, 0, vals[0], 1, vals[1])"
   ]
  }
 ],
 "metadata": {
  "kernelspec": {
   "display_name": "Python 3 (ipykernel)",
   "language": "python",
   "name": "python3"
  },
  "language_info": {
   "codemirror_mode": {
    "name": "ipython",
    "version": 3
   },
   "file_extension": ".py",
   "mimetype": "text/x-python",
   "name": "python",
   "nbconvert_exporter": "python",
   "pygments_lexer": "ipython3",
   "version": "3.7.11"
  }
 },
 "nbformat": 4,
 "nbformat_minor": 5
}
