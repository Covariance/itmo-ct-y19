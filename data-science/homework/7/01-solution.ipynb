{
 "cells": [
  {
   "cell_type": "code",
   "execution_count": 1,
   "id": "9640eab8-ac86-4f63-851d-760245c11584",
   "metadata": {},
   "outputs": [],
   "source": [
    "import numpy as np\n",
    "import pandas as pd\n",
    "from matplotlib import pyplot as plt\n",
    "%matplotlib inline\n",
    "import seaborn as sns; sns.set_style()\n",
    "from tqdm.notebook import tqdm"
   ]
  },
  {
   "cell_type": "markdown",
   "id": "8d96d0de-fad0-41c5-9f3e-95c5520a4ac8",
   "metadata": {},
   "source": [
    "Сначала загрузим себе датасет с философскими и религиозными текстами с Kaggle:"
   ]
  },
  {
   "cell_type": "code",
   "execution_count": 2,
   "id": "6cb12b70-8a6d-4f4b-99a4-279478672196",
   "metadata": {},
   "outputs": [],
   "source": [
    "import kaggle\n",
    "\n",
    "kaggle.api.authenticate()\n",
    "\n",
    "kaggle.api.dataset_download_files('tentotheminus9/religious-and-philosophical-texts', path='data/religious', unzip=True)"
   ]
  },
  {
   "cell_type": "markdown",
   "id": "4c5dda1f-49c7-4807-8505-053655ba2ca4",
   "metadata": {},
   "source": [
    "Возьмём в качестве нашего текста проповеди Будды. Немного предобработки, чтобы обрезать заголовок и индекс с лицензием, не помешает:"
   ]
  },
  {
   "cell_type": "code",
   "execution_count": 3,
   "id": "330337bd-2069-43c5-ad4c-f1428fe2f1d6",
   "metadata": {},
   "outputs": [
    {
     "data": {
      "text/plain": [
       "['I.\\n',\n",
       " '\\n',\n",
       " 'REJOICE!\\n',\n",
       " '\\n',\n",
       " '\\n',\n",
       " 'Rejoice at the glad tidings! The Buddha, our Lord, has found the\\n',\n",
       " 'root of all evil; he has shown us the way of salvation.              1\\n',\n",
       " '\\n',\n",
       " 'The Buddha dispels the illusions of our mind and redeems us from\\n',\n",
       " 'the terror of death.                                                 2\\n']"
      ]
     },
     "execution_count": 3,
     "metadata": {},
     "output_type": "execute_result"
    }
   ],
   "source": [
    "text_lines = open('data/religious/35895-0.txt', 'r').readlines()[526:9639]\n",
    "\n",
    "text_lines[:10]"
   ]
  },
  {
   "cell_type": "markdown",
   "id": "b1479c8d-4e25-4126-aea7-ed42e63ce94c",
   "metadata": {},
   "source": [
    "Так как эта книга в довольно интересном формате, то строчки получаются очень грязными. Почистим их чуть позже (будем использовать разные способы для этого)."
   ]
  },
  {
   "cell_type": "code",
   "execution_count": 4,
   "id": "01daa9ba-edf4-4e36-882e-7db6a577cf81",
   "metadata": {},
   "outputs": [
    {
     "data": {
      "text/plain": [
       "(10670,\n",
       " [('I.', 2),\n",
       "  ('REJOICE!', 1),\n",
       "  ('Rejoice', 2),\n",
       "  ('at', 162),\n",
       "  ('the', 5420),\n",
       "  ('glad', 8),\n",
       "  ('tidings!', 3),\n",
       "  ('The', 361),\n",
       "  ('Buddha,', 92),\n",
       "  ('our', 110)])"
      ]
     },
     "execution_count": 4,
     "metadata": {},
     "output_type": "execute_result"
    }
   ],
   "source": [
    "from typing import List\n",
    "from collections import Counter\n",
    "from itertools import chain\n",
    "\n",
    "def build_vocab(texts: List[str]) -> Counter:\n",
    "    words = list(chain.from_iterable([text.split() for text in texts]))\n",
    "    vocab = Counter(words)\n",
    "    return vocab\n",
    "\n",
    "vocab = build_vocab(text_lines)\n",
    "\n",
    "len(vocab), list(vocab.items())[:10]"
   ]
  },
  {
   "cell_type": "markdown",
   "id": "d2198eb0-5d8e-48d2-b4bf-170b09dfc02b",
   "metadata": {},
   "source": [
    "Определённо это не то как мы хотим видеть наши слова. [Украдём](https://www.kaggle.com/alxmamaev/how-to-easy-preprocess-russian-text) с kaggle классный препроцессор:"
   ]
  },
  {
   "cell_type": "code",
   "execution_count": 5,
   "id": "c4c8206c-c4f3-4412-a7a0-6ec27e96b5b5",
   "metadata": {},
   "outputs": [],
   "source": [
    "import nltk\n",
    "from nltk.corpus import stopwords\n",
    "from nltk.stem import WordNetLemmatizer\n",
    "from typing import Iterable\n",
    "\n",
    "class TextPreprocessor:\n",
    "    def __init__(self):\n",
    "        nltk.download('stopwords')\n",
    "        nltk.download('wordnet')\n",
    "        self.lemmatizer_ = WordNetLemmatizer()\n",
    "        self.stopwords_ = stopwords.words('english')\n",
    "\n",
    "    def remove_litter(self, text: str) -> str:\n",
    "        is_allowed_char = lambda c: c.isalpha() or c == ' '\n",
    "        text = ''.join(list(filter(is_allowed_char, text)))\n",
    "        return text\n",
    "        \n",
    "    def remove_stopwords(self, tokens: Iterable[str]) -> Iterable[str]:\n",
    "        return filter(lambda token : token not in self.stopwords_, tokens)\n",
    "    \n",
    "    def lemmatize(self, tokens: Iterable[str]) -> Iterable[str]:\n",
    "        return map(self.lemmatizer_.lemmatize, tokens)\n",
    "    \n",
    "    def preprocess(self, text: str, lemmatize=True) -> str:\n",
    "        result = self.remove_litter(text.lower())\n",
    "        result = self.remove_stopwords(result.split())\n",
    "        if lemmatize:\n",
    "            result = self.lemmatize(result)\n",
    "        return ' '.join(result)\n",
    "    \n",
    "    def preprocess_all(self, texts: Iterable[str], lemmatize=True) -> List[str]:\n",
    "        processed = map(lambda text : self.preprocess(text, lemmatize=lemmatize), texts)\n",
    "        filtered = filter(lambda text : len(text) > 0, processed)\n",
    "        \n",
    "        return list(filtered)"
   ]
  },
  {
   "cell_type": "code",
   "execution_count": 6,
   "id": "0cda78e1-938d-4439-bc6f-6228846305b5",
   "metadata": {},
   "outputs": [
    {
     "name": "stderr",
     "output_type": "stream",
     "text": [
      "[nltk_data] Downloading package stopwords to\n",
      "[nltk_data]     /home/covariance/nltk_data...\n",
      "[nltk_data]   Package stopwords is already up-to-date!\n",
      "[nltk_data] Downloading package wordnet to\n",
      "[nltk_data]     /home/covariance/nltk_data...\n",
      "[nltk_data]   Package wordnet is already up-to-date!\n"
     ]
    },
    {
     "data": {
      "application/vnd.jupyter.widget-view+json": {
       "model_id": "3042d28f71774a38b7504a30226c973c",
       "version_major": 2,
       "version_minor": 0
      },
      "text/plain": [
       "  0%|          | 0/9113 [00:00<?, ?it/s]"
      ]
     },
     "metadata": {},
     "output_type": "display_data"
    },
    {
     "data": {
      "text/plain": [
       "(5386,\n",
       " [('one', 758),\n",
       "  ('blessed', 526),\n",
       "  ('said', 367),\n",
       "  ('truth', 362),\n",
       "  ('thou', 304),\n",
       "  ('buddha', 289),\n",
       "  ('life', 212),\n",
       "  ('man', 195),\n",
       "  ('thy', 182),\n",
       "  ('world', 165),\n",
       "  ('king', 164),\n",
       "  ('mind', 162),\n",
       "  ('good', 149),\n",
       "  ('self', 148),\n",
       "  ('lord', 146)])"
      ]
     },
     "execution_count": 6,
     "metadata": {},
     "output_type": "execute_result"
    }
   ],
   "source": [
    "tp = TextPreprocessor()\n",
    "    \n",
    "processed_text_lines = tp.preprocess_all(tqdm(text_lines))\n",
    "processed_vocab = build_vocab(processed_text_lines)\n",
    "\n",
    "len(processed_vocab), processed_vocab.most_common(15)"
   ]
  },
  {
   "cell_type": "markdown",
   "id": "5b5af838-390e-40c3-912e-11fb8a1605c4",
   "metadata": {},
   "source": [
    "## Модельки"
   ]
  },
  {
   "cell_type": "markdown",
   "id": "cd4c6369-b1d2-4be4-a5a5-fa0ace665568",
   "metadata": {},
   "source": [
    "Объявим несколько хелперов:"
   ]
  },
  {
   "cell_type": "code",
   "execution_count": 7,
   "id": "1516b701-7612-41c4-8825-cc6910cfe6f6",
   "metadata": {},
   "outputs": [],
   "source": [
    "def visualize_vec(vec, name):\n",
    "    _, ax = plt.subplots(figsize=(10, .5))\n",
    "    ax.tick_params(left=False, bottom=False)\n",
    "    ax.set_title(name)\n",
    "    sns.heatmap([vec], cmap=sns.color_palette('mako'), yticklabels=False, xticklabels=False, cbar=False)\n",
    "    plt.show()"
   ]
  },
  {
   "cell_type": "markdown",
   "id": "5249fc58-dcfa-4c62-9e01-c71f755a952f",
   "metadata": {},
   "source": [
    "### gensim"
   ]
  },
  {
   "cell_type": "code",
   "execution_count": 8,
   "id": "a155c1f1-4c3f-4f40-a8c2-3bec7f4b4ce9",
   "metadata": {},
   "outputs": [],
   "source": [
    "from gensim.models import Word2Vec\n",
    "\n",
    "model_gensim = Word2Vec(\n",
    "    sentences=[line.split() for line in processed_text_lines],\n",
    "    sg=False,  # cbow model\n",
    "    window=5,\n",
    "    seed=42, \n",
    "    min_count=1\n",
    ")\n",
    "\n",
    "def get_gensim_vec(name):\n",
    "    return model_gensim.wv[name]"
   ]
  },
  {
   "cell_type": "code",
   "execution_count": 9,
   "id": "abe15a62-a74e-433b-b261-eebfaa1f7b35",
   "metadata": {},
   "outputs": [
    {
     "data": {
      "image/png": "[encoded data removed]",
      "text/plain": [
       "<Figure size 720x36 with 1 Axes>"
      ]
     },
     "metadata": {},
     "output_type": "display_data"
    },
    {
     "data": {
      "image/png": "[encoded data removed]",
      "text/plain": [
       "<Figure size 720x36 with 1 Axes>"
      ]
     },
     "metadata": {},
     "output_type": "display_data"
    }
   ],
   "source": [
    "visualize_vec(get_gensim_vec('buddha'), 'buddha')\n",
    "visualize_vec(get_gensim_vec('buddha') - get_gensim_vec('blessed'), 'buddha - blessed')"
   ]
  },
  {
   "cell_type": "code",
   "execution_count": 10,
   "id": "f7e6f32a-7b8b-4bc2-be14-2ee7ce74ba86",
   "metadata": {},
   "outputs": [
    {
     "data": {
      "text/plain": [
       "[('like', 0.996953010559082),\n",
       " ('world', 0.996798038482666),\n",
       " ('mind', 0.9964592456817627),\n",
       " ('one', 0.9963293075561523),\n",
       " ('truth', 0.9962827563285828),\n",
       " ('great', 0.9960709810256958),\n",
       " ('let', 0.9960565567016602),\n",
       " ('thou', 0.9960248470306396),\n",
       " ('man', 0.9958925247192383),\n",
       " ('heart', 0.9958759546279907)]"
      ]
     },
     "execution_count": 10,
     "metadata": {},
     "output_type": "execute_result"
    }
   ],
   "source": [
    "model_gensim.wv.most_similar('buddha')"
   ]
  },
  {
   "cell_type": "markdown",
   "id": "15d08d08-e4ee-48c7-bdbe-b758b0106bed",
   "metadata": {},
   "source": [
    "### BERT"
   ]
  },
  {
   "cell_type": "code",
   "execution_count": 11,
   "id": "76170f5b-f14f-4151-8d85-910d880cfdf3",
   "metadata": {},
   "outputs": [
    {
     "name": "stderr",
     "output_type": "stream",
     "text": [
      "Some weights of the model checkpoint at bert-base-uncased were not used when initializing BertModel: ['cls.predictions.transform.LayerNorm.bias', 'cls.seq_relationship.weight', 'cls.predictions.transform.dense.weight', 'cls.predictions.transform.dense.bias', 'cls.predictions.bias', 'cls.seq_relationship.bias', 'cls.predictions.transform.LayerNorm.weight', 'cls.predictions.decoder.weight']\n",
      "- This IS expected if you are initializing BertModel from the checkpoint of a model trained on another task or with another architecture (e.g. initializing a BertForSequenceClassification model from a BertForPreTraining model).\n",
      "- This IS NOT expected if you are initializing BertModel from the checkpoint of a model that you expect to be exactly identical (initializing a BertForSequenceClassification model from a BertForSequenceClassification model).\n"
     ]
    }
   ],
   "source": [
    "import torch\n",
    "from transformers import BertTokenizer, BertModel\n",
    "\n",
    "model_bert = BertModel.from_pretrained(\n",
    "    'bert-base-uncased',\n",
    "    output_hidden_states = True,\n",
    ")"
   ]
  },
  {
   "cell_type": "code",
   "execution_count": 12,
   "id": "6212c622-2817-44f0-81c7-c17742c52ba1",
   "metadata": {},
   "outputs": [],
   "source": [
    "tokenizer = BertTokenizer.from_pretrained('bert-base-uncased')\n",
    "bert_vocab = build_vocab(tp.preprocess_all(text_lines, lemmatize=False))\n",
    "\n",
    "def make_word_embedding(text: str) -> torch.Tensor:\n",
    "    # Получим индексы токенов\n",
    "    tokenized_query = tokenizer.tokenize(text)\n",
    "    indexed_tokens = tokenizer.convert_tokens_to_ids(tokenized_query)\n",
    "    segments_ids = [1] * len(indexed_tokens)\n",
    "    \n",
    "    # to tensor \n",
    "    tokens_tensor = torch.tensor([indexed_tokens])\n",
    "    segments_tensors = torch.tensor([segments_ids])\n",
    "    \n",
    "    # calc embeddings\n",
    "    outputs = model_bert(tokens_tensor, segments_tensors)\n",
    "    last_layer_embs = outputs[2][-1]\n",
    "    sentense_embedding = last_layer_embs.squeeze(0).sum(dim=0)\n",
    "    \n",
    "    return sentense_embedding\n",
    "\n",
    "def get_bert_vec(name: str):\n",
    "    return make_word_embedding(name).cpu().detach().numpy()\n",
    "\n",
    "def get_bert_most_similar(name: str):\n",
    "    vec = get_bert_vec(name)\n",
    "    return get_bert_most_similar_vec(vec)\n",
    "\n",
    "def get_bert_most_similar_vec(vec):\n",
    "    ans = ''\n",
    "    words = list(zip(*bert_vocab.items()))[0]\n",
    "    nearest_words = []\n",
    "    for word in tqdm(words):\n",
    "        word_vec = get_bert_vec(word)\n",
    "        result = np.dot(vec, word_vec) / (np.linalg.norm(vec) * np.linalg.norm(word_vec))  \n",
    "        nearest_words.append((result, word))\n",
    "    nearest_words.sort(key=lambda tup: tup[0])\n",
    "    return nearest_words\n",
    "\n",
    "def get_bert_most_similar(word: str):\n",
    "    vec = get_bert_vec(word)\n",
    "    return list(zip(*(get_bert_most_similar_vec(vec)[::-1])))[1]"
   ]
  },
  {
   "cell_type": "code",
   "execution_count": 13,
   "id": "1cce8c67-9520-455f-ae91-2d391e11de0d",
   "metadata": {},
   "outputs": [
    {
     "data": {
      "image/png": "[encoded data removed]",
      "text/plain": [
       "<Figure size 720x36 with 1 Axes>"
      ]
     },
     "metadata": {},
     "output_type": "display_data"
    },
    {
     "data": {
      "image/png": "[encoded data removed]",
      "text/plain": [
       "<Figure size 720x36 with 1 Axes>"
      ]
     },
     "metadata": {},
     "output_type": "display_data"
    }
   ],
   "source": [
    "visualize_vec(get_bert_vec('buddha'), 'buddha')\n",
    "visualize_vec(get_bert_vec('buddha') - get_bert_vec('blessed'), 'buddha - blessed')"
   ]
  },
  {
   "cell_type": "markdown",
   "id": "2a2a98ed-d25e-4270-a063-268eeab6af75",
   "metadata": {},
   "source": [
    "## Описание"
   ]
  },
  {
   "cell_type": "code",
   "execution_count": 14,
   "id": "77d39770-3218-4f4f-897b-d46204bc1478",
   "metadata": {},
   "outputs": [
    {
     "name": "stdout",
     "output_type": "stream",
     "text": [
      "<== Testing bert model ==>\n"
     ]
    },
    {
     "data": {
      "image/png": "[encoded data removed]",
      "text/plain": [
       "<Figure size 720x36 with 1 Axes>"
      ]
     },
     "metadata": {},
     "output_type": "display_data"
    },
    {
     "data": {
      "application/vnd.jupyter.widget-view+json": {
       "model_id": "6c800bdd7ec34800970796598a92b9f0",
       "version_major": 2,
       "version_minor": 0
      },
      "text/plain": [
       "  0%|          | 0/5964 [00:00<?, ?it/s]"
      ]
     },
     "metadata": {},
     "output_type": "display_data"
    },
    {
     "name": "stdout",
     "output_type": "stream",
     "text": [
      "Closest to buddha: buddha buddhas buddhaelect buddhahood sake yoketh yoked manasākata sun yoke\n",
      "<== Testing gensim model ==>\n"
     ]
    },
    {
     "data": {
      "image/png": "[encoded data removed]",
      "text/plain": [
       "<Figure size 720x36 with 1 Axes>"
      ]
     },
     "metadata": {},
     "output_type": "display_data"
    },
    {
     "name": "stdout",
     "output_type": "stream",
     "text": [
      "Closest to buddha: like world mind one truth great let thou man heart\n"
     ]
    }
   ],
   "source": [
    "getters = {\n",
    "    'bert' : get_bert_vec,\n",
    "    'gensim' : get_gensim_vec\n",
    "}\n",
    "\n",
    "close_finders = {\n",
    "    'bert' : get_bert_most_similar,\n",
    "    'gensim' : lambda word : list(zip(*(model_gensim.wv.most_similar(word))))[0]\n",
    "}\n",
    "\n",
    "def test_models(word):\n",
    "    for model in ('bert', 'gensim'):\n",
    "        print('<== Testing %s model ==>' % model)\n",
    "        getter = getters[model]\n",
    "        close_finder = close_finders[model]\n",
    "        \n",
    "        visualize_vec(getter(word), word)\n",
    "        \n",
    "        closest = close_finder(word)\n",
    "        closest_str = ' '.join(closest[:10])\n",
    "        print('Closest to %s: %s' % (word, closest_str))\n",
    "        \n",
    "test_models('buddha')"
   ]
  },
  {
   "cell_type": "code",
   "execution_count": 18,
   "id": "05f8e4dd-5c60-4d82-9a3b-d898dfbb76c9",
   "metadata": {},
   "outputs": [
    {
     "data": {
      "application/vnd.jupyter.widget-view+json": {
       "model_id": "628d511c17f34c4781b6b6dbc95b7883",
       "version_major": 2,
       "version_minor": 0
      },
      "text/plain": [
       "  0%|          | 0/5964 [00:00<?, ?it/s]"
      ]
     },
     "metadata": {},
     "output_type": "display_data"
    }
   ],
   "source": [
    "text_embeds = [\n",
    "    make_word_embedding(word).detach().numpy()\n",
    "        for word in tqdm(list(zip(*bert_vocab.items()))[0])\n",
    "]"
   ]
  },
  {
   "cell_type": "code",
   "execution_count": 20,
   "id": "685bb4cc-6468-4e76-8529-fd55baada9a0",
   "metadata": {},
   "outputs": [],
   "source": [
    "from torch.utils.tensorboard import SummaryWriter\n",
    "\n",
    "# Hackity hack\n",
    "import tensorflow as tf\n",
    "import tensorboard as tb\n",
    "tf.io.gfile = tb.compat.tensorflow_stub.io.gfile\n",
    "\n",
    "with SummaryWriter() as writer:\n",
    "    writer.add_embedding(np.array(text_embeds), metadata=list(zip(*bert_vocab.items()))[0])"
   ]
  },
  {
   "cell_type": "code",
   "execution_count": 21,
   "id": "6db4139d-62b4-486e-94d2-e4d4a034f4b7",
   "metadata": {},
   "outputs": [
    {
     "name": "stdout",
     "output_type": "stream",
     "text": [
      "The tensorboard extension is already loaded. To reload it, use:\n",
      "  %reload_ext tensorboard\n"
     ]
    },
    {
     "data": {
      "text/plain": [
       "Reusing TensorBoard on port 6006 (pid 79666), started 0:06:24 ago. (Use '!kill 79666' to kill it.)"
      ]
     },
     "metadata": {},
     "output_type": "display_data"
    },
    {
     "data": {
      "text/html": [
       "\n",
       "      <iframe id=\"tensorboard-frame-49d78d4ec92a053b\" width=\"100%\" height=\"800\" frameborder=\"0\">\n",
       "      </iframe>\n",
       "      <script>\n",
       "        (function() {\n",
       "          const frame = document.getElementById(\"tensorboard-frame-49d78d4ec92a053b\");\n",
       "          const url = new URL(\"/\", window.location);\n",
       "          const port = 6006;\n",
       "          if (port) {\n",
       "            url.port = port;\n",
       "          }\n",
       "          frame.src = url;\n",
       "        })();\n",
       "      </script>\n",
       "    "
      ],
      "text/plain": [
       "<IPython.core.display.HTML object>"
      ]
     },
     "metadata": {},
     "output_type": "display_data"
    }
   ],
   "source": [
    "%load_ext tensorboard\n",
    "%tensorboard --logdir runs"
   ]
  }
 ],
 "metadata": {
  "kernelspec": {
   "display_name": "Python 3",
   "language": "python",
   "name": "python3"
  },
  "language_info": {
   "codemirror_mode": {
    "name": "ipython",
    "version": 3
   },
   "file_extension": ".py",
   "mimetype": "text/x-python",
   "name": "python",
   "nbconvert_exporter": "python",
   "pygments_lexer": "ipython3",
   "version": "3.8.8"
  }
 },
 "nbformat": 4,
 "nbformat_minor": 5
}
