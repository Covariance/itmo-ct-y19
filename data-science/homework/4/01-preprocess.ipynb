{
 "cells": [
  {
   "cell_type": "markdown",
   "id": "91c1bd61-1bf5-40c6-89d1-f247135db1b1",
   "metadata": {},
   "source": [
    "# Preprocessing\n",
    "В этом ноутбуке будет некоторое количество фича-инженеринга и преобразования сырых данных."
   ]
  },
  {
   "cell_type": "code",
   "execution_count": 1,
   "id": "299ae13a-a628-4be9-87a7-25bc20240a94",
   "metadata": {},
   "outputs": [],
   "source": [
    "import pandas as pd\n",
    "import numpy as np\n",
    "import matplotlib.pyplot as plt\n",
    "\n",
    "np.random.seed(42)"
   ]
  },
  {
   "cell_type": "markdown",
   "id": "a57b1001-400a-4986-97d2-d6a373dea196",
   "metadata": {},
   "source": [
    "## Winrates\n",
    "\n",
    "Так уж MOBA-игры устроены, что в них всё немного нечестно. Разные герои сильны по-разному. Давайте для каждого героя посчитаем его винрейт и сделаем табличку с этими данными. В финальную таблицу, по которой мы и будем делать наши предикты, будут включены именно винрейты героев, потому что иначе мы получим категориальный признак со слишком большим количеством значений."
   ]
  },
  {
   "cell_type": "code",
   "execution_count": 2,
   "id": "858b46b2-263b-4e88-8c63-e01d58163f1b",
   "metadata": {},
   "outputs": [
    {
     "data": {
      "text/plain": [
       "Index(['match_id', 'account_id', 'hero_id', 'player_slot', 'gold',\n",
       "       'gold_spent', 'gold_per_min', 'xp_per_min', 'kills', 'deaths',\n",
       "       'assists', 'denies', 'last_hits', 'stuns', 'hero_damage',\n",
       "       'hero_healing', 'tower_damage', 'item_0', 'item_1', 'item_2', 'item_3',\n",
       "       'item_4', 'item_5', 'level', 'leaver_status', 'xp_hero', 'xp_creep',\n",
       "       'xp_roshan', 'xp_other', 'gold_other', 'gold_death', 'gold_buyback',\n",
       "       'gold_abandon', 'gold_sell', 'gold_destroying_structure',\n",
       "       'gold_killing_heros', 'gold_killing_creeps', 'gold_killing_roshan',\n",
       "       'gold_killing_couriers', 'unit_order_none',\n",
       "       'unit_order_move_to_position', 'unit_order_move_to_target',\n",
       "       'unit_order_attack_move', 'unit_order_attack_target',\n",
       "       'unit_order_cast_position', 'unit_order_cast_target',\n",
       "       'unit_order_cast_target_tree', 'unit_order_cast_no_target',\n",
       "       'unit_order_cast_toggle', 'unit_order_hold_position',\n",
       "       'unit_order_train_ability', 'unit_order_drop_item',\n",
       "       'unit_order_give_item', 'unit_order_pickup_item',\n",
       "       'unit_order_pickup_rune', 'unit_order_purchase_item',\n",
       "       'unit_order_sell_item', 'unit_order_disassemble_item',\n",
       "       'unit_order_move_item', 'unit_order_cast_toggle_auto',\n",
       "       'unit_order_stop', 'unit_order_taunt', 'unit_order_buyback',\n",
       "       'unit_order_glyph', 'unit_order_eject_item_from_stash',\n",
       "       'unit_order_cast_rune', 'unit_order_ping_ability',\n",
       "       'unit_order_move_to_direction', 'unit_order_patrol',\n",
       "       'unit_order_vector_target_position', 'unit_order_radar',\n",
       "       'unit_order_set_item_combine_lock', 'unit_order_continue'],\n",
       "      dtype='object')"
      ]
     },
     "execution_count": 2,
     "metadata": {},
     "output_type": "execute_result"
    }
   ],
   "source": [
    "players_df = pd.read_csv('data/players.csv')\n",
    "\n",
    "players_df.columns"
   ]
  },
  {
   "cell_type": "code",
   "execution_count": 3,
   "id": "68645609-5f75-4b09-ad33-1fb546202278",
   "metadata": {},
   "outputs": [
    {
     "data": {
      "text/plain": [
       "Index(['match_id', 'start_time', 'duration', 'tower_status_radiant',\n",
       "       'tower_status_dire', 'barracks_status_dire', 'barracks_status_radiant',\n",
       "       'first_blood_time', 'game_mode', 'radiant_win', 'negative_votes',\n",
       "       'positive_votes', 'cluster'],\n",
       "      dtype='object')"
      ]
     },
     "execution_count": 3,
     "metadata": {},
     "output_type": "execute_result"
    }
   ],
   "source": [
    "match_df = pd.read_csv('data/match.csv')\n",
    "\n",
    "match_df.columns"
   ]
  },
  {
   "cell_type": "code",
   "execution_count": 4,
   "id": "cbde0c99-3682-48de-af64-0d6a0ea343d4",
   "metadata": {},
   "outputs": [],
   "source": [
    "wins = {}\n",
    "games = {}\n",
    "\n",
    "radiant = [0, 1, 2, 3, 4]\n",
    "dire = [128, 129, 130, 131, 132]\n",
    "\n",
    "heroes = [dict() for _ in range(match_df.shape[0])]\n",
    "\n",
    "for _, row in players_df.iterrows():\n",
    "    hero = row['hero_id']\n",
    "    mid = row['match_id']\n",
    "    \n",
    "    if hero not in games.keys():\n",
    "        games[hero] = 0\n",
    "        wins[hero] = 0\n",
    "    \n",
    "    games[hero] += 1\n",
    "    \n",
    "    if row['player_slot'] in radiant and match_df['radiant_win'][mid]:\n",
    "        wins[hero] += 1\n",
    "    \n",
    "    if row['player_slot'] in dire and not match_df['radiant_win'][mid]:\n",
    "        wins[hero] += 1\n",
    "        \n",
    "winrate = {}\n",
    "\n",
    "for hero in wins.keys():\n",
    "    winrate[hero] = wins[hero] / games[hero]\n",
    "\n",
    "pd.DataFrame(winrate.items(), columns = ['hero', 'winrate']).to_csv('processed/winrate.csv', index=False)"
   ]
  },
  {
   "cell_type": "markdown",
   "id": "97917a8d-e52e-4025-af50-04e0644298e3",
   "metadata": {},
   "source": [
    "Стоит отметить, что у нас получилось одно неожиданное значение `hero_id` - 0. Это значит, что игрок покинул матч, не успев выбрать героя. Винрейт при этом событии, как можно видеть, довольно низкий (сложно играть вчетвером против пятерых). По идее, это стоило бы выкинуть, потому что по смыслу не подходит, но я оставлю, потому что это хороший критерий."
   ]
  },
  {
   "cell_type": "markdown",
   "id": "caeb80fe-1dcc-41df-81b4-cecc002bfd8e",
   "metadata": {},
   "source": [
    "## Сбор признаков\n",
    "\n",
    "Давайте теперь соберём в одну табличку данные которые планируем использовать."
   ]
  },
  {
   "cell_type": "code",
   "execution_count": 5,
   "id": "ef02e041-98d5-423b-8028-39edd12467a1",
   "metadata": {},
   "outputs": [],
   "source": [
    "combined = [{'mid': i} for i in range(match_df.shape[0])]\n",
    "\n",
    "for _, row in players_df.iterrows():\n",
    "    mid = row['match_id']\n",
    "    player = 'player_' + str(row['player_slot'])\n",
    "    \n",
    "    combined[mid][player + '_kills'] = row['kills']\n",
    "    combined[mid][player + '_deaths'] = row['deaths']\n",
    "    combined[mid][player + '_assists'] = row['assists']\n",
    "    \n",
    "    combined[mid][player + '_winrate'] = winrate[row['hero_id']]\n",
    "    \n",
    "    combined[mid][player + '_gold'] = row['gold_spent']"
   ]
  },
  {
   "cell_type": "markdown",
   "id": "d8556eff-4d42-4123-9df1-9bbbf2941c83",
   "metadata": {},
   "source": [
    "Кроме этого, было бы интересно отсортировать игроков одной команды по золоту и записать в признаки в таком ключе (регрессия, которую я хочу позже применить к этому датасету, не очень хорошо умеет брать функцию `max`)."
   ]
  },
  {
   "cell_type": "code",
   "execution_count": 6,
   "id": "f079ec9d-a082-4556-8f53-a005880a1b92",
   "metadata": {},
   "outputs": [],
   "source": [
    "for row in combined:\n",
    "    radiant_golds = [row[player_gold] for player_gold in ['player_' + str(slot) + '_gold' for slot in radiant]]\n",
    "    radiant_golds.sort()\n",
    "    \n",
    "    for i in range(len(radiant_golds)):\n",
    "        row['radiant_top_gold_' + str(i)] = radiant_golds[i]\n",
    "        \n",
    "    row['radiant_sum_gold'] = sum(radiant_golds)\n",
    "    \n",
    "    dire_golds = [row[player_gold] for player_gold in ['player_' + str(slot) + '_gold' for slot in dire]]\n",
    "    dire_golds.sort()\n",
    "    \n",
    "    for i in range(len(dire_golds)):\n",
    "        row['dire_top_gold_' + str(i)] = dire_golds[i]\n",
    "        \n",
    "    row['dire_sum_gold'] = sum(dire_golds)"
   ]
  },
  {
   "cell_type": "markdown",
   "id": "99e222bb-d16f-4cf7-9141-ea37c464f830",
   "metadata": {},
   "source": [
    "С винрейтами примерно такая же ситуация, поэтому давайте попробуем добавить ещё один столбец с \"винрейтом команды\". Это, конечно, будет не совсем справедливый вирейт команды, однако у нас не так уж много данных, чтобы попытаться учесть ещё и синергии героев."
   ]
  },
  {
   "cell_type": "code",
   "execution_count": 7,
   "id": "719c00b3-36b0-452d-874f-7527f885f2d4",
   "metadata": {},
   "outputs": [],
   "source": [
    "for row in combined:\n",
    "    radiant_wr = [row[player_wr] for player_wr in ['player_' + str(slot) + '_winrate' for slot in radiant]]\n",
    "        \n",
    "    row['radiant_wr'] = np.prod(radiant_wr)\n",
    "    \n",
    "    dire_wr = [row[player_wr] for player_wr in ['player_' + str(slot) + '_winrate' for slot in dire]]\n",
    "        \n",
    "    row['dire_wr'] = np.prod(dire_wr)"
   ]
  },
  {
   "cell_type": "markdown",
   "id": "32c16b3e-6d30-44ca-ac06-c91925d6fe4d",
   "metadata": {},
   "source": [
    "Теперь запишем это в файл:"
   ]
  },
  {
   "cell_type": "code",
   "execution_count": 8,
   "id": "81275c79-e849-48fd-871b-561e5eacf410",
   "metadata": {},
   "outputs": [],
   "source": [
    "pd.DataFrame(combined).to_csv('processed/combined.csv', index=False)"
   ]
  },
  {
   "cell_type": "markdown",
   "id": "0483c012-c068-4434-b1a0-6ce2b04fbe7e",
   "metadata": {},
   "source": [
    "## Лейблы\n",
    "\n",
    "Теперь давайте причешем лейблы для наших данных - предсказывать мы будем победу команды Radiant."
   ]
  },
  {
   "cell_type": "code",
   "execution_count": 9,
   "id": "67a921aa-7074-4bca-9d08-67cc83b6c32e",
   "metadata": {},
   "outputs": [],
   "source": [
    "labels = [dict() for i in range(match_df.shape[0])]\n",
    "\n",
    "for i, row in match_df.iterrows():\n",
    "    labels[i]['match_id'] = i\n",
    "    labels[i]['radiant_win'] = row['radiant_win']\n",
    "    \n",
    "pd.DataFrame(labels).to_csv('processed/labels.csv', index=False)"
   ]
  }
 ],
 "metadata": {
  "kernelspec": {
   "display_name": "Python 3",
   "language": "python",
   "name": "python3"
  },
  "language_info": {
   "codemirror_mode": {
    "name": "ipython",
    "version": 3
   },
   "file_extension": ".py",
   "mimetype": "text/x-python",
   "name": "python",
   "nbconvert_exporter": "python",
   "pygments_lexer": "ipython3",
   "version": "3.8.8"
  }
 },
 "nbformat": 4,
 "nbformat_minor": 5
}
