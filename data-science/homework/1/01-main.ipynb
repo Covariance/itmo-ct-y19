{
 "cells": [
  {
   "cell_type": "markdown",
   "id": "absent-counter",
   "metadata": {
    "id": "absent-counter"
   },
   "source": [
    "# 1. Предобработка\n",
    "\n",
    "\n",
    "Выберите набор данных из списка в конце задания. Обработайте данные в нём:\n",
    "\n",
    "1. Обработайте недостающие данные в датасете - удалить/заменить/etc, обоснуйте своё решение\n",
    "1. Постройте как минимум по 1 графику каждого типа из представленных на лекции. Для каждого построенного графика объясните почему отображённые данные лучше всего представимы именно этим типом графика\n",
    "1. Сохраните датасет\n",
    "1. Создайте новую колонку, отображающую характеристику набора данных. Новая колонка должна обладать смысловой нагрузкой. \n",
    "\n",
    "    Например, для набора данных о прямоугольниках с двумя колонками width и height будет корректно придумать колонку square, равную width * height или perimeter Некорректно будет придумать колонку width2, равную width * 2, потому что эта информация не будет нести полезную информацию о фигурах\n",
    "\n",
    "Не оценивается баллами, но даёт очки уважения:\n",
    "1. Выдвиньте 2 гипотезы о данных. Например, для датасета codeforces достаточно интересной гипотезой может быть \"простые задачи (рейтинг меньше 1500) почти всегда решаются больше 5000 раз\"\n",
    "\n",
    "\n",
    "Наборы данных:\n",
    "\n",
    "1. [Spotify Tracks DB](https://www.kaggle.com/zaheenhamidani/ultimate-spotify-tracks-db) - характеристики треков в spotify\n",
    "1. [VKontakte Dataset of Users' Textual Data](https://www.kaggle.com/oldaandozerskaya/vkontakte-dataset-of-users-textual-data) 1. основная информация 10к профилей ВК\n",
    "1. [Data Science for COVID-19](https://www.kaggle.com/kimjihoo/coronavirusdataset) - информация о распространении коронавируса в Южной Корее в 2020 году\n",
    "1. [Dota 2 - Pro Players Matches Results 2019 ~ 2021](https://www.kaggle.com/devinanzelmo/dota-2-matches?select=player_ratings.csv) - информация матчей игроков DoTA 2. Если данные не влезают в память, можно воспользоваться [аналогом pandas](https://dask.org/) для обработки вне RAM\n",
    "1. [GPS Data of Seabirds](https://www.kaggle.com/saurabhshahane/predicting-animal-behavior-using-gps) - данные о миграции птиц\n",
    "1. [FAANG Historical Stock Price Data](https://www.kaggle.com/specter7/amazon-amzn-historical-stock-price-data) -  данные о биржевых котировках компаний FAANG c 2016 по 2021 год\n",
    "1. [NBA 2k20 player dataset](https://www.kaggle.com/isaienkov/nba2k20-player-dataset) - информация об игроках NBA\n",
    "1. [Anime dataset](https://www.kaggle.com/thunderz/anime-dataset?select=user_data.csv) - данные о просмотре аниме пользователями с сайта myAnimeList"
   ]
  },
  {
   "cell_type": "markdown",
   "id": "MMjCyRrXgOFv",
   "metadata": {
    "id": "MMjCyRrXgOFv"
   },
   "source": [
    "Я выбрал последний датасет, давайте загрузим его в колаб:"
   ]
  },
  {
   "cell_type": "code",
   "execution_count": null,
   "id": "qtJdn93Kd8RE",
   "metadata": {
    "colab": {
     "base_uri": "https://localhost:8080/"
    },
    "id": "qtJdn93Kd8RE",
    "outputId": "482f4cd4-73e9-4d76-f0fa-0bd1fd2590c9"
   },
   "outputs": [
    {
     "name": "stdout",
     "output_type": "stream",
     "text": [
      "Mounted at /content/drive\n"
     ]
    }
   ],
   "source": [
    "# We're getting kaggle key from Drive here\n",
    "from google.colab import drive\n",
    "drive.mount('/content/drive', force_remount=True)"
   ]
  },
  {
   "cell_type": "code",
   "execution_count": null,
   "id": "NnE-OxFUej83",
   "metadata": {
    "colab": {
     "base_uri": "https://localhost:8080/"
    },
    "id": "NnE-OxFUej83",
    "outputId": "a4c67f59-bfb6-44a5-d1f7-9113647d9e6e"
   },
   "outputs": [
    {
     "name": "stdout",
     "output_type": "stream",
     "text": [
      "Requirement already satisfied: kaggle in /usr/local/lib/python3.7/dist-packages (1.5.12)\n",
      "Requirement already satisfied: python-slugify in /usr/local/lib/python3.7/dist-packages (from kaggle) (5.0.2)\n",
      "Requirement already satisfied: python-dateutil in /usr/local/lib/python3.7/dist-packages (from kaggle) (2.8.2)\n",
      "Requirement already satisfied: tqdm in /usr/local/lib/python3.7/dist-packages (from kaggle) (4.62.2)\n",
      "Requirement already satisfied: six>=1.10 in /usr/local/lib/python3.7/dist-packages (from kaggle) (1.15.0)\n",
      "Requirement already satisfied: certifi in /usr/local/lib/python3.7/dist-packages (from kaggle) (2021.5.30)\n",
      "Requirement already satisfied: requests in /usr/local/lib/python3.7/dist-packages (from kaggle) (2.23.0)\n",
      "Requirement already satisfied: urllib3 in /usr/local/lib/python3.7/dist-packages (from kaggle) (1.24.3)\n",
      "Requirement already satisfied: text-unidecode>=1.3 in /usr/local/lib/python3.7/dist-packages (from python-slugify->kaggle) (1.3)\n",
      "Requirement already satisfied: idna<3,>=2.5 in /usr/local/lib/python3.7/dist-packages (from requests->kaggle) (2.10)\n",
      "Requirement already satisfied: chardet<4,>=3.0.2 in /usr/local/lib/python3.7/dist-packages (from requests->kaggle) (3.0.4)\n",
      "Downloading anime-dataset.zip to /content\n",
      " 97% 27.0M/27.9M [00:00<00:00, 25.3MB/s]\n",
      "100% 27.9M/27.9M [00:00<00:00, 47.3MB/s]\n",
      "Archive:  /content/anime-dataset.zip\n",
      "  inflating: MAL_genres.pickle       \n",
      "  inflating: anime_data.csv          \n",
      "  inflating: user_data.csv           \n"
     ]
    }
   ],
   "source": [
    "!pip install kaggle\n",
    "!mkdir ~/.kaggle\n",
    "!cp /content/drive/MyDrive/.system/.kaggle/kaggle.json ~/.kaggle/kaggle.json\n",
    "!kaggle datasets download -d thunderz/anime-dataset\n",
    "!unzip -o /content/anime-dataset.zip"
   ]
  },
  {
   "cell_type": "markdown",
   "id": "q9RYzyAbgVgz",
   "metadata": {
    "id": "q9RYzyAbgVgz"
   },
   "source": [
    "Отлично, теперь приступим к выполнению задания."
   ]
  },
  {
   "cell_type": "code",
   "execution_count": null,
   "id": "fxGuaN2yhQho",
   "metadata": {
    "id": "fxGuaN2yhQho"
   },
   "outputs": [],
   "source": [
    "import numpy as np\n",
    "import pandas as pd\n",
    "import math, random, json, ast\n",
    "import matplotlib.pyplot as plt"
   ]
  },
  {
   "cell_type": "code",
   "execution_count": null,
   "id": "tKf6dtLghNRI",
   "metadata": {
    "colab": {
     "base_uri": "https://localhost:8080/"
    },
    "id": "tKf6dtLghNRI",
    "outputId": "4668d16a-17c4-49f8-99e5-4a46dea612b9"
   },
   "outputs": [
    {
     "name": "stdout",
     "output_type": "stream",
     "text": [
      "(2195, 20)\n"
     ]
    },
    {
     "data": {
      "text/html": [
       "<div>\n",
       "<style scoped>\n",
       "    .dataframe tbody tr th:only-of-type {\n",
       "        vertical-align: middle;\n",
       "    }\n",
       "\n",
       "    .dataframe tbody tr th {\n",
       "        vertical-align: top;\n",
       "    }\n",
       "\n",
       "    .dataframe thead th {\n",
       "        text-align: right;\n",
       "    }\n",
       "</style>\n",
       "<table border=\"1\" class=\"dataframe\">\n",
       "  <thead>\n",
       "    <tr style=\"text-align: right;\">\n",
       "      <th></th>\n",
       "      <th>name</th>\n",
       "      <th>planning</th>\n",
       "      <th>watched</th>\n",
       "      <th>completed</th>\n",
       "      <th>days_watched</th>\n",
       "      <th>dropped</th>\n",
       "      <th>episodes_watched</th>\n",
       "      <th>mean_score</th>\n",
       "      <th>on_hold</th>\n",
       "      <th>plan_to_watch</th>\n",
       "      <th>rewatched</th>\n",
       "      <th>total_entries</th>\n",
       "      <th>watching</th>\n",
       "      <th>birthday</th>\n",
       "      <th>gender</th>\n",
       "      <th>joined</th>\n",
       "      <th>last_online</th>\n",
       "      <th>location</th>\n",
       "      <th>favorites</th>\n",
       "      <th>genre_count</th>\n",
       "    </tr>\n",
       "  </thead>\n",
       "  <tbody>\n",
       "    <tr>\n",
       "      <th>0</th>\n",
       "      <td>-0</td>\n",
       "      <td>[{'mal_id': 39764, 'title': 'Detective Conan M...</td>\n",
       "      <td>[{'title': '1', 'mal_id': 29978, 'score': 6, '...</td>\n",
       "      <td>467</td>\n",
       "      <td>181.6</td>\n",
       "      <td>0</td>\n",
       "      <td>11160</td>\n",
       "      <td>7.74</td>\n",
       "      <td>0</td>\n",
       "      <td>7</td>\n",
       "      <td>0</td>\n",
       "      <td>477</td>\n",
       "      <td>3</td>\n",
       "      <td>NaN</td>\n",
       "      <td>NaN</td>\n",
       "      <td>2017-09-19T00:00:00+00:00</td>\n",
       "      <td>2020-09-25 11:03:22+00:00</td>\n",
       "      <td>NaN</td>\n",
       "      <td>{'anime': [], 'characters': [], 'people': []}</td>\n",
       "      <td>{'Action': 153, 'Adventure': 162, 'Cars': 5, '...</td>\n",
       "    </tr>\n",
       "    <tr>\n",
       "      <th>1</th>\n",
       "      <td>-Droid-</td>\n",
       "      <td>[{'mal_id': 6408, 'title': '\"Bungaku Shoujo\" M...</td>\n",
       "      <td>[{'title': '11eyes', 'mal_id': 6682, 'score': ...</td>\n",
       "      <td>1125</td>\n",
       "      <td>263.3</td>\n",
       "      <td>4</td>\n",
       "      <td>16195</td>\n",
       "      <td>7.80</td>\n",
       "      <td>4</td>\n",
       "      <td>1131</td>\n",
       "      <td>53</td>\n",
       "      <td>2271</td>\n",
       "      <td>7</td>\n",
       "      <td>1930-01-07T00:00:00+00:00</td>\n",
       "      <td>Male</td>\n",
       "      <td>2013-09-07T00:00:00+00:00</td>\n",
       "      <td>2020-09-17 21:07:00+00:00</td>\n",
       "      <td>MA</td>\n",
       "      <td>{'anime': [{'mal_id': 237, 'title': 'Koukyoush...</td>\n",
       "      <td>{'Action': 447, 'Adventure': 186, 'Cars': 1, '...</td>\n",
       "    </tr>\n",
       "    <tr>\n",
       "      <th>2</th>\n",
       "      <td>-Hentai</td>\n",
       "      <td>[{'mal_id': 39783, 'title': '5-toubun no Hanay...</td>\n",
       "      <td>[{'title': '3-gatsu no Lion', 'mal_id': 31646,...</td>\n",
       "      <td>887</td>\n",
       "      <td>270.4</td>\n",
       "      <td>60</td>\n",
       "      <td>16189</td>\n",
       "      <td>7.36</td>\n",
       "      <td>9</td>\n",
       "      <td>88</td>\n",
       "      <td>8</td>\n",
       "      <td>1070</td>\n",
       "      <td>26</td>\n",
       "      <td>1991-11-05T00:00:00+00:00</td>\n",
       "      <td>Male</td>\n",
       "      <td>2014-05-19T00:00:00+00:00</td>\n",
       "      <td>2020-09-21 19:11:28+00:00</td>\n",
       "      <td>UAE - Sharjah</td>\n",
       "      <td>{'anime': [{'mal_id': 31933, 'title': 'JoJo no...</td>\n",
       "      <td>{'Action': 418, 'Adventure': 210, 'Cars': 1, '...</td>\n",
       "    </tr>\n",
       "    <tr>\n",
       "      <th>3</th>\n",
       "      <td>-Jens</td>\n",
       "      <td>[{'mal_id': 31646, 'title': '3-gatsu no Lion'}...</td>\n",
       "      <td>[{'title': '07-Ghost', 'mal_id': 5525, 'score'...</td>\n",
       "      <td>102</td>\n",
       "      <td>17.8</td>\n",
       "      <td>0</td>\n",
       "      <td>1093</td>\n",
       "      <td>6.81</td>\n",
       "      <td>8</td>\n",
       "      <td>403</td>\n",
       "      <td>0</td>\n",
       "      <td>518</td>\n",
       "      <td>5</td>\n",
       "      <td>NaN</td>\n",
       "      <td>NaN</td>\n",
       "      <td>2020-06-11T00:00:00+00:00</td>\n",
       "      <td>2020-09-24 14:06:00+00:00</td>\n",
       "      <td>Fish tank. I'm stuck.</td>\n",
       "      <td>{'anime': [{'mal_id': 205, 'title': 'Samurai C...</td>\n",
       "      <td>{'Action': 36, 'Adventure': 9, 'Cars': 0, 'Com...</td>\n",
       "    </tr>\n",
       "    <tr>\n",
       "      <th>4</th>\n",
       "      <td>-Kano</td>\n",
       "      <td>[{'mal_id': 34777, 'title': '91 Days: Toki no ...</td>\n",
       "      <td>[{'title': '3-gatsu no Lion', 'mal_id': 31646,...</td>\n",
       "      <td>193</td>\n",
       "      <td>65.2</td>\n",
       "      <td>25</td>\n",
       "      <td>3961</td>\n",
       "      <td>6.92</td>\n",
       "      <td>32</td>\n",
       "      <td>70</td>\n",
       "      <td>2</td>\n",
       "      <td>325</td>\n",
       "      <td>5</td>\n",
       "      <td>NaN</td>\n",
       "      <td>NaN</td>\n",
       "      <td>2015-08-12T00:00:00+00:00</td>\n",
       "      <td>2020-09-26 01:29:32+00:00</td>\n",
       "      <td>NaN</td>\n",
       "      <td>{'anime': [], 'characters': [], 'people': []}</td>\n",
       "      <td>{'Action': 84, 'Adventure': 25, 'Cars': 0, 'Co...</td>\n",
       "    </tr>\n",
       "  </tbody>\n",
       "</table>\n",
       "</div>"
      ],
      "text/plain": [
       "      name  ...                                        genre_count\n",
       "0       -0  ...  {'Action': 153, 'Adventure': 162, 'Cars': 5, '...\n",
       "1  -Droid-  ...  {'Action': 447, 'Adventure': 186, 'Cars': 1, '...\n",
       "2  -Hentai  ...  {'Action': 418, 'Adventure': 210, 'Cars': 1, '...\n",
       "3    -Jens  ...  {'Action': 36, 'Adventure': 9, 'Cars': 0, 'Com...\n",
       "4    -Kano  ...  {'Action': 84, 'Adventure': 25, 'Cars': 0, 'Co...\n",
       "\n",
       "[5 rows x 20 columns]"
      ]
     },
     "execution_count": 4,
     "metadata": {},
     "output_type": "execute_result"
    }
   ],
   "source": [
    "df = pd.read_csv('/content/user_data.csv')\n",
    "print(df.shape)\n",
    "df.head()"
   ]
  },
  {
   "cell_type": "markdown",
   "id": "e_Egwsouu_fU",
   "metadata": {
    "id": "e_Egwsouu_fU"
   },
   "source": [
    "Посмотрим на распределение количества просматривыемых на данный момент аниме, для удобства восприятия включим логарифмическую шкалу:"
   ]
  },
  {
   "cell_type": "code",
   "execution_count": null,
   "id": "R0zdf3bnvNlX",
   "metadata": {
    "colab": {
     "base_uri": "https://localhost:8080/"
    },
    "id": "R0zdf3bnvNlX",
    "outputId": "ff801d8f-7af2-40f9-e711-6267aee235c3"
   },
   "outputs": [
    {
     "data": {
      "text/plain": [
       "<matplotlib.axes._subplots.AxesSubplot at 0x7f6f57dc09d0>"
      ]
     },
     "execution_count": 5,
     "metadata": {},
     "output_type": "execute_result"
    },
    {
     "data": {
      "image/png": "[encoded data removed]",
      "text/plain": [
       "<Figure size 432x288 with 1 Axes>"
      ]
     },
     "metadata": {
      "needs_background": "light"
     },
     "output_type": "display_data"
    }
   ],
   "source": [
    "df['watching'].hist(bins=100, log=True)"
   ]
  },
  {
   "cell_type": "markdown",
   "id": "KFIlMvzaJ3gh",
   "metadata": {
    "id": "KFIlMvzaJ3gh"
   },
   "source": [
    "Сразу выдвинем первую гипотезу - чем больше эпизодов суммарно посмотрел человек, тем ниже их среднее качество. Попробуем проверить эту закономерность, построив scatter-plot:"
   ]
  },
  {
   "cell_type": "code",
   "execution_count": null,
   "id": "AxH5LVgMJqwh",
   "metadata": {
    "colab": {
     "base_uri": "https://localhost:8080/"
    },
    "id": "AxH5LVgMJqwh",
    "outputId": "7a7ed0f2-2341-473a-a5de-32fc4c101a77"
   },
   "outputs": [
    {
     "data": {
      "image/png": "[encoded data removed]",
      "text/plain": [
       "<Figure size 432x288 with 1 Axes>"
      ]
     },
     "metadata": {
      "needs_background": "light"
     },
     "output_type": "display_data"
    }
   ],
   "source": [
    "plt.scatter(df['episodes_watched'], df['mean_score'])\n",
    "plt.show()"
   ]
  },
  {
   "cell_type": "markdown",
   "id": "rIT9ooFJfSqY",
   "metadata": {
    "id": "rIT9ooFJfSqY"
   },
   "source": [
    "Можно заметить, что есть достаточно большое количество людей, средний рейтинг просмотренного аниме у которых равен нулю. Давайте выкинем этих людей из таблицы, потому что они портят общие наблюдения:"
   ]
  },
  {
   "cell_type": "code",
   "execution_count": null,
   "id": "yl2Cg8APfi_T",
   "metadata": {
    "id": "yl2Cg8APfi_T"
   },
   "outputs": [],
   "source": [
    "df.drop(df.index[df['mean_score'] == 0], inplace=True)"
   ]
  },
  {
   "cell_type": "markdown",
   "id": "gPvAB6nIfvMz",
   "metadata": {
    "id": "gPvAB6nIfvMz"
   },
   "source": [
    "И повторим построение графика:"
   ]
  },
  {
   "cell_type": "code",
   "execution_count": null,
   "id": "PyvoPP6kfxI8",
   "metadata": {
    "colab": {
     "base_uri": "https://localhost:8080/"
    },
    "id": "PyvoPP6kfxI8",
    "outputId": "e0829df2-d1e1-48a3-8736-13cf1d4762b6"
   },
   "outputs": [
    {
     "data": {
      "image/png": "[encoded data removed]",
      "text/plain": [
       "<Figure size 432x288 with 1 Axes>"
      ]
     },
     "metadata": {
      "needs_background": "light"
     },
     "output_type": "display_data"
    }
   ],
   "source": [
    "plt.scatter(df['episodes_watched'], df['mean_score'])\n",
    "plt.show()"
   ]
  },
  {
   "cell_type": "markdown",
   "id": "u1RP_J3zK5Hs",
   "metadata": {
    "id": "u1RP_J3zK5Hs"
   },
   "source": [
    "Полученный график, хоть и даёт нам представление о том, что гипотеза похожа на правду, недостаточно качественно отображает информацию из-за наличия небольшого количества outlier-ов, которые просмотрели невероятное количество эпизодов. Попробуем построить аналогичный график на $90\\%$ средних пользователей: "
   ]
  },
  {
   "cell_type": "code",
   "execution_count": null,
   "id": "aZ6oOo0PKvnH",
   "metadata": {
    "colab": {
     "base_uri": "https://localhost:8080/"
    },
    "id": "aZ6oOo0PKvnH",
    "outputId": "c710a91d-7afa-41d7-8f18-111cd4d4e688"
   },
   "outputs": [
    {
     "name": "stdout",
     "output_type": "stream",
     "text": [
      "(1926, 20)\n"
     ]
    },
    {
     "data": {
      "text/html": [
       "<div>\n",
       "<style scoped>\n",
       "    .dataframe tbody tr th:only-of-type {\n",
       "        vertical-align: middle;\n",
       "    }\n",
       "\n",
       "    .dataframe tbody tr th {\n",
       "        vertical-align: top;\n",
       "    }\n",
       "\n",
       "    .dataframe thead th {\n",
       "        text-align: right;\n",
       "    }\n",
       "</style>\n",
       "<table border=\"1\" class=\"dataframe\">\n",
       "  <thead>\n",
       "    <tr style=\"text-align: right;\">\n",
       "      <th></th>\n",
       "      <th>name</th>\n",
       "      <th>planning</th>\n",
       "      <th>watched</th>\n",
       "      <th>completed</th>\n",
       "      <th>days_watched</th>\n",
       "      <th>dropped</th>\n",
       "      <th>episodes_watched</th>\n",
       "      <th>mean_score</th>\n",
       "      <th>on_hold</th>\n",
       "      <th>plan_to_watch</th>\n",
       "      <th>rewatched</th>\n",
       "      <th>total_entries</th>\n",
       "      <th>watching</th>\n",
       "      <th>birthday</th>\n",
       "      <th>gender</th>\n",
       "      <th>joined</th>\n",
       "      <th>last_online</th>\n",
       "      <th>location</th>\n",
       "      <th>favorites</th>\n",
       "      <th>genre_count</th>\n",
       "    </tr>\n",
       "  </thead>\n",
       "  <tbody>\n",
       "    <tr>\n",
       "      <th>1416</th>\n",
       "      <td>ThatWhiteHand</td>\n",
       "      <td>[{'mal_id': 37587, 'title': 'Lapis Re:LiGHTs'}]</td>\n",
       "      <td>[{'title': 'Angel Beats!', 'mal_id': 6547, 'sc...</td>\n",
       "      <td>61</td>\n",
       "      <td>23.3</td>\n",
       "      <td>8</td>\n",
       "      <td>1359</td>\n",
       "      <td>7.34</td>\n",
       "      <td>2</td>\n",
       "      <td>1</td>\n",
       "      <td>0</td>\n",
       "      <td>72</td>\n",
       "      <td>0</td>\n",
       "      <td>NaN</td>\n",
       "      <td>Male</td>\n",
       "      <td>2019-11-23T00:00:00+00:00</td>\n",
       "      <td>2020-09-22 16:06:14+00:00</td>\n",
       "      <td>Florida</td>\n",
       "      <td>{'anime': [{'mal_id': 26243, 'title': 'Owari n...</td>\n",
       "      <td>{'Action': 27, 'Adventure': 9, 'Cars': 1, 'Com...</td>\n",
       "    </tr>\n",
       "    <tr>\n",
       "      <th>1881</th>\n",
       "      <td>kedamoyes</td>\n",
       "      <td>[{'mal_id': 31646, 'title': '3-gatsu no Lion'}...</td>\n",
       "      <td>[{'title': 'Aggressive Retsuko (ONA)', 'mal_id...</td>\n",
       "      <td>82</td>\n",
       "      <td>23.0</td>\n",
       "      <td>9</td>\n",
       "      <td>1359</td>\n",
       "      <td>7.76</td>\n",
       "      <td>31</td>\n",
       "      <td>42</td>\n",
       "      <td>1</td>\n",
       "      <td>164</td>\n",
       "      <td>0</td>\n",
       "      <td>NaN</td>\n",
       "      <td>Male</td>\n",
       "      <td>2017-09-10T00:00:00+00:00</td>\n",
       "      <td>2020-09-21 21:13:00+00:00</td>\n",
       "      <td>NaN</td>\n",
       "      <td>{'anime': [{'mal_id': 440, 'title': 'Shoujo Ka...</td>\n",
       "      <td>{'Action': 38, 'Adventure': 24, 'Cars': 0, 'Co...</td>\n",
       "    </tr>\n",
       "    <tr>\n",
       "      <th>1485</th>\n",
       "      <td>Unused-username1</td>\n",
       "      <td>[{'mal_id': 7674, 'title': 'Bakuman.'}, {'mal_...</td>\n",
       "      <td>[{'title': 'Akira', 'mal_id': 47, 'score': 8, ...</td>\n",
       "      <td>76</td>\n",
       "      <td>23.6</td>\n",
       "      <td>4</td>\n",
       "      <td>1363</td>\n",
       "      <td>8.13</td>\n",
       "      <td>13</td>\n",
       "      <td>11</td>\n",
       "      <td>16</td>\n",
       "      <td>117</td>\n",
       "      <td>13</td>\n",
       "      <td>1999-02-08T00:00:00+00:00</td>\n",
       "      <td>Male</td>\n",
       "      <td>2016-07-19T00:00:00+00:00</td>\n",
       "      <td>2020-03-14 05:29:00+00:00</td>\n",
       "      <td>Gloucestershire, England</td>\n",
       "      <td>{'anime': [{'mal_id': 1535, 'title': 'Death No...</td>\n",
       "      <td>{'Action': 43, 'Adventure': 27, 'Cars': 1, 'Co...</td>\n",
       "    </tr>\n",
       "    <tr>\n",
       "      <th>741</th>\n",
       "      <td>KawaiiBerrii</td>\n",
       "      <td>[{'mal_id': 12291, 'title': 'Acchi Kocchi (TV)...</td>\n",
       "      <td>[{'title': '07-Ghost', 'mal_id': 5525, 'score'...</td>\n",
       "      <td>108</td>\n",
       "      <td>23.4</td>\n",
       "      <td>8</td>\n",
       "      <td>1378</td>\n",
       "      <td>8.59</td>\n",
       "      <td>2</td>\n",
       "      <td>79</td>\n",
       "      <td>0</td>\n",
       "      <td>203</td>\n",
       "      <td>6</td>\n",
       "      <td>1998-01-02T00:00:00+00:00</td>\n",
       "      <td>Female</td>\n",
       "      <td>2017-04-23T00:00:00+00:00</td>\n",
       "      <td>2020-07-19 15:44:00+00:00</td>\n",
       "      <td>Wales, UK</td>\n",
       "      <td>{'anime': [], 'characters': [], 'people': []}</td>\n",
       "      <td>{'Action': 29, 'Adventure': 15, 'Cars': 0, 'Co...</td>\n",
       "    </tr>\n",
       "    <tr>\n",
       "      <th>1140</th>\n",
       "      <td>PontopK</td>\n",
       "      <td>[{'mal_id': 31964, 'title': 'Boku no Hero Acad...</td>\n",
       "      <td>[{'title': '3-gatsu no Lion', 'mal_id': 31646,...</td>\n",
       "      <td>106</td>\n",
       "      <td>24.3</td>\n",
       "      <td>0</td>\n",
       "      <td>1388</td>\n",
       "      <td>7.38</td>\n",
       "      <td>0</td>\n",
       "      <td>8</td>\n",
       "      <td>0</td>\n",
       "      <td>118</td>\n",
       "      <td>4</td>\n",
       "      <td>2002-04-09T00:00:00+00:00</td>\n",
       "      <td>Male</td>\n",
       "      <td>2017-12-13T00:00:00+00:00</td>\n",
       "      <td>2020-09-19 13:52:00+00:00</td>\n",
       "      <td>Parana, Curitiba</td>\n",
       "      <td>{'anime': [{'mal_id': 227, 'title': 'FLCL'}, {...</td>\n",
       "      <td>{'Action': 31, 'Adventure': 22, 'Cars': 0, 'Co...</td>\n",
       "    </tr>\n",
       "  </tbody>\n",
       "</table>\n",
       "</div>"
      ],
      "text/plain": [
       "                  name  ...                                        genre_count\n",
       "1416     ThatWhiteHand  ...  {'Action': 27, 'Adventure': 9, 'Cars': 1, 'Com...\n",
       "1881         kedamoyes  ...  {'Action': 38, 'Adventure': 24, 'Cars': 0, 'Co...\n",
       "1485  Unused-username1  ...  {'Action': 43, 'Adventure': 27, 'Cars': 1, 'Co...\n",
       "741       KawaiiBerrii  ...  {'Action': 29, 'Adventure': 15, 'Cars': 0, 'Co...\n",
       "1140           PontopK  ...  {'Action': 31, 'Adventure': 22, 'Cars': 0, 'Co...\n",
       "\n",
       "[5 rows x 20 columns]"
      ]
     },
     "execution_count": 9,
     "metadata": {},
     "output_type": "execute_result"
    }
   ],
   "source": [
    "hyp1_df = df.sort_values('episodes_watched').iloc[int(.05 * df.shape[0]):int(.95 * df.shape[0])]\n",
    "\n",
    "print(hyp1_df.shape)\n",
    "hyp1_df.head()"
   ]
  },
  {
   "cell_type": "markdown",
   "id": "V2xYoxFYN8-U",
   "metadata": {
    "id": "V2xYoxFYN8-U"
   },
   "source": [
    "На этот раз построим на тех же двух параметрах 2d-гистограмму, с помощью которой мы сможем увидеть зависимость более наглядно:"
   ]
  },
  {
   "cell_type": "code",
   "execution_count": null,
   "id": "aDPArseCOGf-",
   "metadata": {
    "colab": {
     "base_uri": "https://localhost:8080/"
    },
    "id": "aDPArseCOGf-",
    "outputId": "180dc68d-9085-4b11-e8b3-1870139c7176"
   },
   "outputs": [
    {
     "data": {
      "image/png": "[encoded data removed]",
      "text/plain": [
       "<Figure size 432x288 with 1 Axes>"
      ]
     },
     "metadata": {
      "needs_background": "light"
     },
     "output_type": "display_data"
    }
   ],
   "source": [
    "plt.hist2d(hyp1_df['episodes_watched'], hyp1_df['mean_score'], bins=50)\n",
    "plt.show()"
   ]
  },
  {
   "cell_type": "markdown",
   "id": "QX-mTnrlOWDN",
   "metadata": {
    "id": "QX-mTnrlOWDN"
   },
   "source": [
    "С помощью этого графика уже можно понять, что гипотеза, в целом, не очень совпадает с реальностью - описанная закономерность прослеживается очень слабо."
   ]
  },
  {
   "cell_type": "markdown",
   "id": "C3b-sDKZPLoU",
   "metadata": {
    "id": "C3b-sDKZPLoU"
   },
   "source": [
    "Теперь посмотрим на то, какие в целом средние рейтинги у просматриваемых людьми тайтлов:"
   ]
  },
  {
   "cell_type": "code",
   "execution_count": null,
   "id": "i3BpmvldOvij",
   "metadata": {
    "colab": {
     "base_uri": "https://localhost:8080/"
    },
    "id": "i3BpmvldOvij",
    "outputId": "3fefb8cf-bd49-4210-c3e4-c3adc68f242d"
   },
   "outputs": [
    {
     "data": {
      "image/png": "[encoded data removed]",
      "text/plain": [
       "<Figure size 432x288 with 1 Axes>"
      ]
     },
     "metadata": {
      "needs_background": "light"
     },
     "output_type": "display_data"
    }
   ],
   "source": [
    "plt.boxplot(df['mean_score'], vert=False, whis=.95)\n",
    "plt.show()"
   ]
  },
  {
   "cell_type": "markdown",
   "id": "86qxZTMEQi0H",
   "metadata": {
    "id": "86qxZTMEQi0H"
   },
   "source": [
    "Как можно заметить, подавляющее большинство зрителей смотрят аниме со средней оценкой около $7.5$."
   ]
  },
  {
   "cell_type": "markdown",
   "id": "Z3UwwG2EWogl",
   "metadata": {
    "id": "Z3UwwG2EWogl"
   },
   "source": [
    "Давайте теперь сделаем следующее - загрузим ещё и датасет с самими тайтлами и для каждого человека, у которого определены любимые тайтлы, узнаем их средний рейтинг, и добавим это значение в наш исходный датафрейм."
   ]
  },
  {
   "cell_type": "code",
   "execution_count": null,
   "id": "sLJn0BqNW6a-",
   "metadata": {
    "colab": {
     "base_uri": "https://localhost:8080/"
    },
    "id": "sLJn0BqNW6a-",
    "outputId": "1c565776-c170-4bd4-8f6a-d3d49ec1795a"
   },
   "outputs": [
    {
     "name": "stdout",
     "output_type": "stream",
     "text": [
      "(11335, 19)\n"
     ]
    },
    {
     "data": {
      "text/html": [
       "<div>\n",
       "<style scoped>\n",
       "    .dataframe tbody tr th:only-of-type {\n",
       "        vertical-align: middle;\n",
       "    }\n",
       "\n",
       "    .dataframe tbody tr th {\n",
       "        vertical-align: top;\n",
       "    }\n",
       "\n",
       "    .dataframe thead th {\n",
       "        text-align: right;\n",
       "    }\n",
       "</style>\n",
       "<table border=\"1\" class=\"dataframe\">\n",
       "  <thead>\n",
       "    <tr style=\"text-align: right;\">\n",
       "      <th></th>\n",
       "      <th>mal_id</th>\n",
       "      <th>aired_from</th>\n",
       "      <th>aired_to</th>\n",
       "      <th>duration</th>\n",
       "      <th>episodes</th>\n",
       "      <th>genres</th>\n",
       "      <th>popularity</th>\n",
       "      <th>premiered</th>\n",
       "      <th>rank</th>\n",
       "      <th>rating</th>\n",
       "      <th>score</th>\n",
       "      <th>scored_by</th>\n",
       "      <th>source</th>\n",
       "      <th>status</th>\n",
       "      <th>studios</th>\n",
       "      <th>synopsis</th>\n",
       "      <th>title</th>\n",
       "      <th>title_english</th>\n",
       "      <th>type</th>\n",
       "    </tr>\n",
       "  </thead>\n",
       "  <tbody>\n",
       "    <tr>\n",
       "      <th>0</th>\n",
       "      <td>1</td>\n",
       "      <td>1998-04-03T00:00:00+00:00</td>\n",
       "      <td>1999-04-24T00:00:00+00:00</td>\n",
       "      <td>24 min per ep</td>\n",
       "      <td>26</td>\n",
       "      <td>['Action', 'Adventure', 'Comedy', 'Drama', 'Sc...</td>\n",
       "      <td>38</td>\n",
       "      <td>Spring 1998</td>\n",
       "      <td>27.0</td>\n",
       "      <td>R - 17+ (violence &amp; profanity)</td>\n",
       "      <td>8.79</td>\n",
       "      <td>544987</td>\n",
       "      <td>Original</td>\n",
       "      <td>Finished Airing</td>\n",
       "      <td>[{'mal_id': 14, 'name': 'Sunrise'}]</td>\n",
       "      <td>In the year 2071, humanity has colonized sever...</td>\n",
       "      <td>Cowboy Bebop</td>\n",
       "      <td>Cowboy Bebop</td>\n",
       "      <td>TV</td>\n",
       "    </tr>\n",
       "    <tr>\n",
       "      <th>1</th>\n",
       "      <td>100</td>\n",
       "      <td>2001-04-04T00:00:00+00:00</td>\n",
       "      <td>2001-06-27T00:00:00+00:00</td>\n",
       "      <td>23 min per ep</td>\n",
       "      <td>13</td>\n",
       "      <td>['Comedy', 'Drama', 'Fantasy', 'Magic', 'Roman...</td>\n",
       "      <td>2075</td>\n",
       "      <td>Spring 2001</td>\n",
       "      <td>2703.0</td>\n",
       "      <td>PG-13 - Teens 13 or older</td>\n",
       "      <td>7.21</td>\n",
       "      <td>23787</td>\n",
       "      <td>Manga</td>\n",
       "      <td>Finished Airing</td>\n",
       "      <td>[{'mal_id': 34, 'name': 'Hal Film Maker'}]</td>\n",
       "      <td>Due to her father's remarriage, robust 16-year...</td>\n",
       "      <td>Shin Shirayuki-hime Densetsu Prétear</td>\n",
       "      <td>Prétear: The New Legend of Snow White</td>\n",
       "      <td>TV</td>\n",
       "    </tr>\n",
       "    <tr>\n",
       "      <th>2</th>\n",
       "      <td>1000</td>\n",
       "      <td>1978-03-14T00:00:00+00:00</td>\n",
       "      <td>1979-02-13T00:00:00+00:00</td>\n",
       "      <td>25 min per ep</td>\n",
       "      <td>42</td>\n",
       "      <td>['Action', 'Sci-Fi', 'Adventure', 'Space', 'Dr...</td>\n",
       "      <td>2980</td>\n",
       "      <td>Spring 1978</td>\n",
       "      <td>1008.0</td>\n",
       "      <td>PG-13 - Teens 13 or older</td>\n",
       "      <td>7.71</td>\n",
       "      <td>7059</td>\n",
       "      <td>Manga</td>\n",
       "      <td>Finished Airing</td>\n",
       "      <td>[{'mal_id': 18, 'name': 'Toei Animation'}]</td>\n",
       "      <td>It is 2977 AD and mankind has become stagnant....</td>\n",
       "      <td>Uchuu Kaizoku Captain Herlock</td>\n",
       "      <td>Space Pirate Captain Harlock</td>\n",
       "      <td>TV</td>\n",
       "    </tr>\n",
       "    <tr>\n",
       "      <th>3</th>\n",
       "      <td>10003</td>\n",
       "      <td>2008-01-01T00:00:00+00:00</td>\n",
       "      <td>NaN</td>\n",
       "      <td>2 min per ep</td>\n",
       "      <td>15</td>\n",
       "      <td>['Comedy', 'Dementia', 'Horror', 'Seinen']</td>\n",
       "      <td>6848</td>\n",
       "      <td>NaN</td>\n",
       "      <td>10146.0</td>\n",
       "      <td>R+ - Mild Nudity</td>\n",
       "      <td>5.05</td>\n",
       "      <td>1181</td>\n",
       "      <td>Original</td>\n",
       "      <td>Finished Airing</td>\n",
       "      <td>[]</td>\n",
       "      <td>In these jokey short films, many of them crude...</td>\n",
       "      <td>Kago Shintarou Anime Sakuhin Shuu</td>\n",
       "      <td>NaN</td>\n",
       "      <td>OVA</td>\n",
       "    </tr>\n",
       "    <tr>\n",
       "      <th>4</th>\n",
       "      <td>10005</td>\n",
       "      <td>2007-03-31T00:00:00+00:00</td>\n",
       "      <td>NaN</td>\n",
       "      <td>1 hr 35 min</td>\n",
       "      <td>1</td>\n",
       "      <td>['Action', 'Adventure', 'Mecha', 'Sci-Fi']</td>\n",
       "      <td>10765</td>\n",
       "      <td>NaN</td>\n",
       "      <td>6121.0</td>\n",
       "      <td>G - All Ages</td>\n",
       "      <td>6.43</td>\n",
       "      <td>228</td>\n",
       "      <td>Unknown</td>\n",
       "      <td>Finished Airing</td>\n",
       "      <td>[{'mal_id': 455, 'name': 'Palm Studio'}]</td>\n",
       "      <td>This theatrical version based on the manga by ...</td>\n",
       "      <td>Tetsujin 28-gou: Hakuchuu no Zangetsu</td>\n",
       "      <td>NaN</td>\n",
       "      <td>Movie</td>\n",
       "    </tr>\n",
       "  </tbody>\n",
       "</table>\n",
       "</div>"
      ],
      "text/plain": [
       "   mal_id  ...   type\n",
       "0       1  ...     TV\n",
       "1     100  ...     TV\n",
       "2    1000  ...     TV\n",
       "3   10003  ...    OVA\n",
       "4   10005  ...  Movie\n",
       "\n",
       "[5 rows x 19 columns]"
      ]
     },
     "execution_count": 12,
     "metadata": {},
     "output_type": "execute_result"
    }
   ],
   "source": [
    "anime_df = pd.read_csv('/content/anime_data.csv')\n",
    "\n",
    "print(anime_df.shape)\n",
    "anime_df.head()"
   ]
  },
  {
   "cell_type": "code",
   "execution_count": null,
   "id": "NJszbMIQQ03k",
   "metadata": {
    "colab": {
     "base_uri": "https://localhost:8080/"
    },
    "id": "NJszbMIQQ03k",
    "outputId": "ba198ebe-ec86-4ec9-b68f-230f21318bc3"
   },
   "outputs": [
    {
     "data": {
      "text/html": [
       "<div>\n",
       "<style scoped>\n",
       "    .dataframe tbody tr th:only-of-type {\n",
       "        vertical-align: middle;\n",
       "    }\n",
       "\n",
       "    .dataframe tbody tr th {\n",
       "        vertical-align: top;\n",
       "    }\n",
       "\n",
       "    .dataframe thead th {\n",
       "        text-align: right;\n",
       "    }\n",
       "</style>\n",
       "<table border=\"1\" class=\"dataframe\">\n",
       "  <thead>\n",
       "    <tr style=\"text-align: right;\">\n",
       "      <th></th>\n",
       "      <th>name</th>\n",
       "      <th>planning</th>\n",
       "      <th>watched</th>\n",
       "      <th>completed</th>\n",
       "      <th>days_watched</th>\n",
       "      <th>dropped</th>\n",
       "      <th>episodes_watched</th>\n",
       "      <th>mean_score</th>\n",
       "      <th>on_hold</th>\n",
       "      <th>plan_to_watch</th>\n",
       "      <th>rewatched</th>\n",
       "      <th>total_entries</th>\n",
       "      <th>watching</th>\n",
       "      <th>birthday</th>\n",
       "      <th>gender</th>\n",
       "      <th>joined</th>\n",
       "      <th>last_online</th>\n",
       "      <th>location</th>\n",
       "      <th>favorites</th>\n",
       "      <th>genre_count</th>\n",
       "      <th>fav_anime_score</th>\n",
       "    </tr>\n",
       "  </thead>\n",
       "  <tbody>\n",
       "    <tr>\n",
       "      <th>0</th>\n",
       "      <td>-0</td>\n",
       "      <td>[{'mal_id': 39764, 'title': 'Detective Conan M...</td>\n",
       "      <td>[{'title': '1', 'mal_id': 29978, 'score': 6, '...</td>\n",
       "      <td>467</td>\n",
       "      <td>181.6</td>\n",
       "      <td>0</td>\n",
       "      <td>11160</td>\n",
       "      <td>7.74</td>\n",
       "      <td>0</td>\n",
       "      <td>7</td>\n",
       "      <td>0</td>\n",
       "      <td>477</td>\n",
       "      <td>3</td>\n",
       "      <td>NaN</td>\n",
       "      <td>NaN</td>\n",
       "      <td>2017-09-19T00:00:00+00:00</td>\n",
       "      <td>2020-09-25 11:03:22+00:00</td>\n",
       "      <td>NaN</td>\n",
       "      <td>{'anime': [], 'characters': [], 'people': []}</td>\n",
       "      <td>{'Action': 153, 'Adventure': 162, 'Cars': 5, '...</td>\n",
       "      <td>NaN</td>\n",
       "    </tr>\n",
       "    <tr>\n",
       "      <th>1</th>\n",
       "      <td>-Droid-</td>\n",
       "      <td>[{'mal_id': 6408, 'title': '\"Bungaku Shoujo\" M...</td>\n",
       "      <td>[{'title': '11eyes', 'mal_id': 6682, 'score': ...</td>\n",
       "      <td>1125</td>\n",
       "      <td>263.3</td>\n",
       "      <td>4</td>\n",
       "      <td>16195</td>\n",
       "      <td>7.80</td>\n",
       "      <td>4</td>\n",
       "      <td>1131</td>\n",
       "      <td>53</td>\n",
       "      <td>2271</td>\n",
       "      <td>7</td>\n",
       "      <td>1930-01-07T00:00:00+00:00</td>\n",
       "      <td>Male</td>\n",
       "      <td>2013-09-07T00:00:00+00:00</td>\n",
       "      <td>2020-09-17 21:07:00+00:00</td>\n",
       "      <td>MA</td>\n",
       "      <td>{'anime': [{'mal_id': 237, 'title': 'Koukyoush...</td>\n",
       "      <td>{'Action': 447, 'Adventure': 186, 'Cars': 1, '...</td>\n",
       "      <td>8.1000</td>\n",
       "    </tr>\n",
       "    <tr>\n",
       "      <th>2</th>\n",
       "      <td>-Hentai</td>\n",
       "      <td>[{'mal_id': 39783, 'title': '5-toubun no Hanay...</td>\n",
       "      <td>[{'title': '3-gatsu no Lion', 'mal_id': 31646,...</td>\n",
       "      <td>887</td>\n",
       "      <td>270.4</td>\n",
       "      <td>60</td>\n",
       "      <td>16189</td>\n",
       "      <td>7.36</td>\n",
       "      <td>9</td>\n",
       "      <td>88</td>\n",
       "      <td>8</td>\n",
       "      <td>1070</td>\n",
       "      <td>26</td>\n",
       "      <td>1991-11-05T00:00:00+00:00</td>\n",
       "      <td>Male</td>\n",
       "      <td>2014-05-19T00:00:00+00:00</td>\n",
       "      <td>2020-09-21 19:11:28+00:00</td>\n",
       "      <td>UAE - Sharjah</td>\n",
       "      <td>{'anime': [{'mal_id': 31933, 'title': 'JoJo no...</td>\n",
       "      <td>{'Action': 418, 'Adventure': 210, 'Cars': 1, '...</td>\n",
       "      <td>8.3910</td>\n",
       "    </tr>\n",
       "    <tr>\n",
       "      <th>3</th>\n",
       "      <td>-Jens</td>\n",
       "      <td>[{'mal_id': 31646, 'title': '3-gatsu no Lion'}...</td>\n",
       "      <td>[{'title': '07-Ghost', 'mal_id': 5525, 'score'...</td>\n",
       "      <td>102</td>\n",
       "      <td>17.8</td>\n",
       "      <td>0</td>\n",
       "      <td>1093</td>\n",
       "      <td>6.81</td>\n",
       "      <td>8</td>\n",
       "      <td>403</td>\n",
       "      <td>0</td>\n",
       "      <td>518</td>\n",
       "      <td>5</td>\n",
       "      <td>NaN</td>\n",
       "      <td>NaN</td>\n",
       "      <td>2020-06-11T00:00:00+00:00</td>\n",
       "      <td>2020-09-24 14:06:00+00:00</td>\n",
       "      <td>Fish tank. I'm stuck.</td>\n",
       "      <td>{'anime': [{'mal_id': 205, 'title': 'Samurai C...</td>\n",
       "      <td>{'Action': 36, 'Adventure': 9, 'Cars': 0, 'Com...</td>\n",
       "      <td>8.4125</td>\n",
       "    </tr>\n",
       "    <tr>\n",
       "      <th>4</th>\n",
       "      <td>-Kano</td>\n",
       "      <td>[{'mal_id': 34777, 'title': '91 Days: Toki no ...</td>\n",
       "      <td>[{'title': '3-gatsu no Lion', 'mal_id': 31646,...</td>\n",
       "      <td>193</td>\n",
       "      <td>65.2</td>\n",
       "      <td>25</td>\n",
       "      <td>3961</td>\n",
       "      <td>6.92</td>\n",
       "      <td>32</td>\n",
       "      <td>70</td>\n",
       "      <td>2</td>\n",
       "      <td>325</td>\n",
       "      <td>5</td>\n",
       "      <td>NaN</td>\n",
       "      <td>NaN</td>\n",
       "      <td>2015-08-12T00:00:00+00:00</td>\n",
       "      <td>2020-09-26 01:29:32+00:00</td>\n",
       "      <td>NaN</td>\n",
       "      <td>{'anime': [], 'characters': [], 'people': []}</td>\n",
       "      <td>{'Action': 84, 'Adventure': 25, 'Cars': 0, 'Co...</td>\n",
       "      <td>NaN</td>\n",
       "    </tr>\n",
       "  </tbody>\n",
       "</table>\n",
       "</div>"
      ],
      "text/plain": [
       "      name  ... fav_anime_score\n",
       "0       -0  ...             NaN\n",
       "1  -Droid-  ...          8.1000\n",
       "2  -Hentai  ...          8.3910\n",
       "3    -Jens  ...          8.4125\n",
       "4    -Kano  ...             NaN\n",
       "\n",
       "[5 rows x 21 columns]"
      ]
     },
     "execution_count": 13,
     "metadata": {},
     "output_type": "execute_result"
    }
   ],
   "source": [
    "def favoriteAnimeParse(s):\n",
    "  res = ast.literal_eval(s)\n",
    "  if 'anime' not in res.keys():\n",
    "    return []\n",
    "  return res['anime']\n",
    "  \n",
    "def getScoreById(id):\n",
    "  tmp = anime_df['score'][anime_df.index[(anime_df['mal_id'] == id)]]\n",
    "  if len(tmp) == 0:\n",
    "    return None\n",
    "  return tmp.iloc[0]\n",
    "\n",
    "def mapFavToMean(arr):\n",
    "  scores = list(filter(lambda x: x is not None, map(lambda fav : getScoreById(fav['mal_id']), arr)))\n",
    "  return None if len(scores) == 0 else np.mean(np.array(scores))\n",
    "\n",
    "df['fav_anime_score'] = df['favorites'].apply(favoriteAnimeParse).apply(mapFavToMean)\n",
    "df.head()"
   ]
  },
  {
   "cell_type": "markdown",
   "id": "t5p4c36Hec3z",
   "metadata": {
    "id": "t5p4c36Hec3z"
   },
   "source": [
    "Оказывается, в датасете полно пропусков, поэтому получение этого столбца оказалось довольно мучительным)\n",
    "\n",
    "Давайте сохраним новый датафрейм:"
   ]
  },
  {
   "cell_type": "code",
   "execution_count": null,
   "id": "jQobcLjjeg4L",
   "metadata": {
    "id": "jQobcLjjeg4L"
   },
   "outputs": [],
   "source": [
    "df.to_csv('/content/user_data_updated.csv')"
   ]
  },
  {
   "cell_type": "markdown",
   "id": "DBbrjeMBa-Ef",
   "metadata": {
    "id": "DBbrjeMBa-Ef"
   },
   "source": [
    "Теперь, имея этот столбец, давайте построим boxplot для новой величины:"
   ]
  },
  {
   "cell_type": "code",
   "execution_count": null,
   "id": "mI-7GJ5SbeCK",
   "metadata": {
    "colab": {
     "base_uri": "https://localhost:8080/"
    },
    "id": "mI-7GJ5SbeCK",
    "outputId": "bd5cecb8-2aa0-4b42-dacd-97972b2456b3"
   },
   "outputs": [
    {
     "data": {
      "image/png": "[encoded data removed]",
      "text/plain": [
       "<Figure size 432x288 with 1 Axes>"
      ]
     },
     "metadata": {
      "needs_background": "light"
     },
     "output_type": "display_data"
    }
   ],
   "source": [
    "plt.boxplot(df['fav_anime_score'].dropna(), vert=False, whis=0.95)\n",
    "plt.show()"
   ]
  },
  {
   "cell_type": "markdown",
   "id": "T2yqqQsTb_SY",
   "metadata": {
    "id": "T2yqqQsTb_SY"
   },
   "source": [
    "Как можно видеть, средний рейтинг *любимых* тайтлов у пользователей существенно выше - практически $8.5$. Давайте посмотрим теперь на scatter, показывающий соответствие между средним рейтингом просмотренного аниме и средним рейтингом любимого аниме.\n",
    "\n",
    "Можно выдвинуть гипотезу, состоящую в том, что общая масса пользователей будет сосредоточена выше диагонали, то есть количество тех, у кого рейтинг любимого аниме ниже среднего рейтинга всех аниме, мало."
   ]
  },
  {
   "cell_type": "code",
   "execution_count": null,
   "id": "12Dq8nO2caMC",
   "metadata": {
    "colab": {
     "base_uri": "https://localhost:8080/"
    },
    "id": "12Dq8nO2caMC",
    "outputId": "47be243d-872a-4977-f3d8-ab79be5f2947"
   },
   "outputs": [
    {
     "data": {
      "image/png": "[encoded data removed]",
      "text/plain": [
       "<Figure size 432x288 with 1 Axes>"
      ]
     },
     "metadata": {
      "needs_background": "light"
     },
     "output_type": "display_data"
    }
   ],
   "source": [
    "hyp2_df = df[df['fav_anime_score'].notnull()]\n",
    "\n",
    "plt.scatter(hyp2_df['mean_score'], hyp2_df['fav_anime_score'])\n",
    "plt.xlim(0, 10)\n",
    "plt.ylim(0, 10)\n",
    "plt.show()"
   ]
  },
  {
   "cell_type": "markdown",
   "id": "t3n4UF0OdibE",
   "metadata": {
    "id": "t3n4UF0OdibE"
   },
   "source": [
    "Эта гипотеза в целом оправдалась, за исключением небольшого количества outlier-ов. Опять же, посмотрим на то же самое на 2d-гистограмме (ИМХО в случае с однородным датасетом они строго информативнее scatter-ов):"
   ]
  },
  {
   "cell_type": "code",
   "execution_count": null,
   "id": "PGY4ld1Rd09a",
   "metadata": {
    "colab": {
     "base_uri": "https://localhost:8080/"
    },
    "id": "PGY4ld1Rd09a",
    "outputId": "3e93d78a-4c3c-4ac1-a347-e680e64de52f"
   },
   "outputs": [
    {
     "data": {
      "image/png": "[encoded data removed]",
      "text/plain": [
       "<Figure size 432x288 with 1 Axes>"
      ]
     },
     "metadata": {
      "needs_background": "light"
     },
     "output_type": "display_data"
    }
   ],
   "source": [
    "plt.hist2d(hyp2_df['mean_score'], hyp2_df['fav_anime_score'], bins=50, range=((0, 10), (0, 10)))\n",
    "plt.show()"
   ]
  },
  {
   "cell_type": "markdown",
   "id": "9nJixMdteJ0Y",
   "metadata": {
    "id": "9nJixMdteJ0Y"
   },
   "source": [
    "Тут это гораздо более четко прослеживается."
   ]
  },
  {
   "cell_type": "markdown",
   "id": "VQrOkQ4NeMt0",
   "metadata": {
    "id": "VQrOkQ4NeMt0"
   },
   "source": [
    "Напоследок, раз уж мы не сделали этого раньше, построим обычный график, показывающий количество пользователей, зарегистрированных на MAL по годам:"
   ]
  },
  {
   "cell_type": "code",
   "execution_count": null,
   "id": "ru94-yKaeZPr",
   "metadata": {
    "colab": {
     "base_uri": "https://localhost:8080/"
    },
    "id": "ru94-yKaeZPr",
    "outputId": "ef8e467d-6e5a-4e85-b065-518337cfa696"
   },
   "outputs": [
    {
     "data": {
      "image/png": "[encoded data removed]",
      "text/plain": [
       "<Figure size 432x288 with 1 Axes>"
      ]
     },
     "metadata": {
      "needs_background": "light"
     },
     "output_type": "display_data"
    }
   ],
   "source": [
    "regs = df['joined'].dropna().apply(lambda s : int(s[:4])).to_numpy()\n",
    "mn, mx = regs.min(), regs.max() + 1\n",
    "counts = [0 for x in range(mn, mx)]\n",
    "years = [x for x in range(mn, mx)]\n",
    "\n",
    "for year in regs:\n",
    "  counts[year - mn] += 1\n",
    "\n",
    "plt.plot(years, counts)\n",
    "plt.show()"
   ]
  },
  {
   "cell_type": "markdown",
   "id": "8NDB1dICiTSV",
   "metadata": {
    "id": "8NDB1dICiTSV"
   },
   "source": [
    "Датасет был собран в 2020 году, так что не отражает полностью количество зарегистрировавшихся в этот год пользователей, однако восходящая тенденция до 2017 года очевидна, а вот дальше, видимо, число новых любителей аниме поубавилось."
   ]
  },
  {
   "cell_type": "markdown",
   "id": "figured-arnold",
   "metadata": {
    "id": "figured-arnold"
   },
   "source": [
    "# 2. Интерполяция кривой\n",
    "\n",
    "Сгенерируйте от 5 до 20 точек со случайными разными координатами (x, y), расположите их на координатной плоскости\n",
    "\n",
    "1. С помощью библиотеки scipy примените один из её [алгоритмов интерполяции](https://docs.scipy.org/doc/scipy/reference/interpolate.html) к сгенерированным данным\n",
    "1. Изучите математический подход метод выбранного алгоритма интерполяции в scipy. Найдите и продемонстрируйте при сдаче реализацию метода в исходном коде библиотеки scipy. Найти можно в [github репозитории проекта](https://github.com/scipy/scipy)\n",
    "1. Выберите среди методов интерполяции в scipy любой другой метод интерполяции (кроме линейной интерполяций). Реализуйте выбранный метод без использования сторонних библиотек. Разрешается использовать numpy для упрощения математичеких вычислений\n",
    "1. Визуализируйте кривую интерполяции библиотечного и вашего алгоритмов с помощью  matplotlib. Сравните качество интерполяции своего и библиотечного методов, объясните разницу в качестве"
   ]
  },
  {
   "cell_type": "code",
   "execution_count": null,
   "id": "7qFJ0HYD3_if",
   "metadata": {
    "id": "7qFJ0HYD3_if"
   },
   "outputs": [],
   "source": [
    "import math, random\n",
    "import numpy as np\n",
    "import scipy.interpolate\n",
    "import matplotlib.pyplot as plt"
   ]
  },
  {
   "cell_type": "markdown",
   "id": "cWrAX5-451L_",
   "metadata": {
    "id": "cWrAX5-451L_"
   },
   "source": [
    "Чтобы результаты интерполяции были хоть чуточку адекватными, давайте сгенерируем входные так: сначала возьмём случайную достаточно пологую прямую, а затем выберем точки, отклоняющиеся от неё на нормально распределённую случайную величину на равных интервалах по оси $x$."
   ]
  },
  {
   "cell_type": "code",
   "execution_count": null,
   "id": "iT35ZZXD3iZu",
   "metadata": {
    "id": "iT35ZZXD3iZu"
   },
   "outputs": [],
   "source": [
    "k, shift = np.random.uniform(low=0.5, high=1.5, size=2)\n",
    "\n",
    "pts_cnt = 10\n",
    "pts = np.column_stack([np.linspace(0, 10, pts_cnt, endpoint=True), np.linspace(0, 10, pts_cnt, endpoint=True) * k + shift + np.random.normal(size=pts_cnt)])"
   ]
  },
  {
   "cell_type": "markdown",
   "id": "CNqCblLl6IYo",
   "metadata": {
    "id": "CNqCblLl6IYo"
   },
   "source": [
    "Посмотрим на полученные данные:"
   ]
  },
  {
   "cell_type": "code",
   "execution_count": null,
   "id": "SR3lUm916K41",
   "metadata": {
    "colab": {
     "base_uri": "https://localhost:8080/"
    },
    "id": "SR3lUm916K41",
    "outputId": "2b33eca5-7016-4915-e719-1ae17e5022da"
   },
   "outputs": [
    {
     "data": {
      "image/png": "[encoded data removed]",
      "text/plain": [
       "<Figure size 432x288 with 1 Axes>"
      ]
     },
     "metadata": {
      "needs_background": "light"
     },
     "output_type": "display_data"
    }
   ],
   "source": [
    "plt.scatter(pts[:,0], pts[:,1])\n",
    "plt.show()"
   ]
  },
  {
   "cell_type": "markdown",
   "id": "OgqiVgEo7gEC",
   "metadata": {
    "id": "OgqiVgEo7gEC"
   },
   "source": [
    "В качестве готового интерполятора я решил взять [`AkimaInterpolator`](https://github.com/scipy/scipy/blob/ccd70986a5b81d27f636dc9058fc50ccb6d9acfa/scipy/interpolate/_cubic.py#L364):"
   ]
  },
  {
   "cell_type": "code",
   "execution_count": null,
   "id": "HTmjKhy0B_v8",
   "metadata": {
    "colab": {
     "base_uri": "https://localhost:8080/"
    },
    "id": "HTmjKhy0B_v8",
    "outputId": "0cac7037-d8f9-4c88-f545-602578d16414"
   },
   "outputs": [
    {
     "data": {
      "image/png": "[encoded data removed]",
      "text/plain": [
       "<Figure size 432x288 with 1 Axes>"
      ]
     },
     "metadata": {
      "needs_background": "light"
     },
     "output_type": "display_data"
    }
   ],
   "source": [
    "xarg = np.linspace(0, 10, 150, endpoint=True)\n",
    "akima = scipy.interpolate.Akima1DInterpolator(pts[:,0], pts[:,1])\n",
    "\n",
    "plt.plot(pts[:,0], pts[:,1], 'o', xarg, akima(xarg), '-')\n",
    "plt.legend(['data', 'akima'], loc='best')\n",
    "plt.show()"
   ]
  },
  {
   "cell_type": "markdown",
   "id": "9cJrJesAIWd8",
   "metadata": {
    "id": "9cJrJesAIWd8"
   },
   "source": [
    "Теперь давайте сделаем что-нибудь своё, а конкретно аналог [`интерполяции Лагранжа`](https://docs.scipy.org/doc/scipy/reference/generated/scipy.interpolate.lagrange.html#scipy.interpolate.lagrange)."
   ]
  },
  {
   "cell_type": "code",
   "execution_count": null,
   "id": "CG8OA9RNK8GD",
   "metadata": {
    "id": "CG8OA9RNK8GD"
   },
   "outputs": [],
   "source": [
    "class Polynom:\n",
    "  def __init__(self, coefs):\n",
    "    self.coefs = np.array(coefs)\n",
    "  \n",
    "  def __mul__(self, other):\n",
    "    coefs = np.zeros((len(self.coefs) + len(other.coefs) - 1))\n",
    "    for i in range(len(self.coefs)):\n",
    "      for j in range(len(other.coefs)):\n",
    "        coefs[i + j] += self.coefs[i] * other.coefs[j]\n",
    "    return Polynom(coefs)\n",
    "  \n",
    "\n",
    "  def __add__(self, other):\n",
    "    return Polynom(self.coefs + other.coefs)\n",
    "\n",
    "  def __call__(self, x):\n",
    "    res, pw = 0, 1\n",
    "    for c in self.coefs:\n",
    "      res, pw = res + c * pw, pw * x\n",
    "    return res\n",
    "\n",
    "class Lagrange:\n",
    "  def __calculate_prefix_polynoms(self, points):\n",
    "    prefPoly = [Polynom([1])]\n",
    "    for [x, y] in points:\n",
    "      prefPoly.append(prefPoly[-1] * Polynom([-x, 1]))\n",
    "    prefPoly.pop()\n",
    "    return prefPoly\n",
    "\n",
    "  def __init__(self, x, y):\n",
    "    if len(x) != len(y):\n",
    "        raise ValueError(\"x and y have different shapes\")\n",
    "    \n",
    "    n = len(x)\n",
    "    points = list(zip(x, y))\n",
    "\n",
    "    pref_poly = self.__calculate_prefix_polynoms(points)\n",
    "    \n",
    "    points.reverse()\n",
    "    suff_poly = self.__calculate_prefix_polynoms(points)\n",
    "    suff_poly.reverse()\n",
    "    points.reverse()\n",
    "\n",
    "    result = Polynom([0])\n",
    "    for i in range(len(points)):\n",
    "      poly_i = pref_poly[i] * suff_poly[i]\n",
    "      poly_i.coefs *= y[i] / pref_poly[i](x[i]) / suff_poly[i](x[i])\n",
    "      result = result + poly_i\n",
    "    self.poly_callable = np.vectorize(result)\n",
    "\n",
    "  def __call__(self, x):\n",
    "    return self.poly_callable(x)"
   ]
  },
  {
   "cell_type": "markdown",
   "id": "HUts9_7oNGEB",
   "metadata": {
    "id": "HUts9_7oNGEB"
   },
   "source": [
    "А теперь применим его и нарисуем:"
   ]
  },
  {
   "cell_type": "code",
   "execution_count": null,
   "id": "5j__DkgcNI79",
   "metadata": {
    "colab": {
     "base_uri": "https://localhost:8080/"
    },
    "id": "5j__DkgcNI79",
    "outputId": "d80739eb-32bf-4fd4-d5bf-d4e1c126ad99"
   },
   "outputs": [
    {
     "data": {
      "image/png": "[encoded data removed]",
      "text/plain": [
       "<Figure size 432x288 with 1 Axes>"
      ]
     },
     "metadata": {
      "needs_background": "light"
     },
     "output_type": "display_data"
    }
   ],
   "source": [
    "lg = Lagrange(pts[:,0], pts[:,1])\n",
    "\n",
    "plt.plot(pts[:,0], pts[:,1], 'o', xarg, akima(xarg), '-', xarg, lg(xarg), '--')\n",
    "plt.legend(['data', 'akima', 'lagrange'], loc='best')\n",
    "plt.show()"
   ]
  },
  {
   "cell_type": "markdown",
   "id": "yiSEmuiMlh1r",
   "metadata": {
    "id": "yiSEmuiMlh1r"
   },
   "source": [
    "Как можно видеть, алгоритм Акимы получает более гладкую и аккуратную функцию. Оба метода, как несложно понять, будут проходить через **все** точки датасета, что не позволяет оценивать различия в их качестве в этом смысле, однако достаточно ясно, что Лагранж генерирует довольно паршивую функцию - она имеет существенно больший разброс значений, но, в свою очередь, является бесконечно гладкой."
   ]
  },
  {
   "cell_type": "code",
   "execution_count": null,
   "id": "ufTUtBUqxra3",
   "metadata": {
    "colab": {
     "base_uri": "https://localhost:8080/"
    },
    "id": "ufTUtBUqxra3",
    "outputId": "4a84896d-920e-4de4-fce8-6bd50acdb9c4"
   },
   "outputs": [
    {
     "data": {
      "text/plain": [
       "(0.0, 4.948357034993033e-19)"
      ]
     },
     "execution_count": 25,
     "metadata": {},
     "output_type": "execute_result"
    }
   ],
   "source": [
    "def sq_diff(f):\n",
    "  return np.sum(np.abs(pts[:,1] - f(pts[:,0])) ** 2)\n",
    "\n",
    "sq_diff(akima), sq_diff(lg)"
   ]
  },
  {
   "cell_type": "markdown",
   "id": "alleged-tooth",
   "metadata": {
    "id": "alleged-tooth"
   },
   "source": [
    "# 3. Быстрая гистограмма\n",
    "\n",
    "Иногда хочется получить дискретное распределение из N колонок. Но пока что для этого у нас есть только plt.hist(), которая тратит много времени на отрисовку графика. Вам предлагается реализовать свою функцию построения дискретного распределения\n",
    "\n",
    "1. Алгоритм должен получать на вход список чисел и количество колонок гистограммы. Возвращать нужно значения столбцов (ось абсцисс гистограммы) и количество значений, принадлежащее столбцу (ось ординат гистограммы). Пример с использованием plt показан ниже, сигнатура функции также показана ниже\n",
    "1. Изучите функцию [plt.bar](https://matplotlib.org/stable/api/_as_gen/matplotlib.pyplot.bar.html). Это такая же гистограмма как plt.hist, но в отличие от hist требуется явно указывать высоту колонок и их название\n",
    "1. С помощью результатов своего алгоритма и plt.bar постройте гистограмму по массиву из 50+ случайных чисел. Графики plt.bar по вашему алгоритму и plt.hist() должны совпадать, что подтвердит корректность работы вашего алгоритма\n",
    "1. Сравните скорость построения распределения по массиву чисел с помощью своего алгоритма и с помощью plt.hist. В jupyter рекомендуется использовать built-in magic commands, а именно timeit. Но можно обойтись и ручными измерениями времени выполнения"
   ]
  },
  {
   "cell_type": "code",
   "execution_count": null,
   "id": "harmful-settle",
   "metadata": {
    "colab": {
     "base_uri": "https://localhost:8080/",
     "height": 299
    },
    "id": "harmful-settle",
    "outputId": "9bbb0406-2b00-4d0d-a956-1f6ed890d34d"
   },
   "outputs": [
    {
     "name": "stdout",
     "output_type": "stream",
     "text": [
      "Значения колонок: [3. 2. 2. 2.]\n",
      "Названия колонок: [1.   1.75 2.5  3.25 4.  ]\n"
     ]
    },
    {
     "data": {
      "image/png": "[encoded data removed]",
      "text/plain": [
       "<Figure size 432x288 with 1 Axes>"
      ]
     },
     "metadata": {
      "needs_background": "light"
     },
     "output_type": "display_data"
    }
   ],
   "source": [
    "# Пример гистограммы с помощью plt.hist()\n",
    "import matplotlib.pyplot as plt\n",
    "\n",
    "array = [1,1,2,3,4,1,2,3,4]\n",
    "\n",
    "value_counts, bins_names, _ = plt.hist(array, \n",
    "                                                   bins=len(set(array)), \n",
    "                                                   rwidth=0.9)\n",
    "# Параметр rwidth и визуализацию в своей функции реализовывать не требуется\n",
    "print('Значения колонок:', value_counts)\n",
    "print('Названия колонок:', bins_names)"
   ]
  },
  {
   "cell_type": "code",
   "execution_count": null,
   "id": "parliamentary-worker",
   "metadata": {
    "id": "parliamentary-worker"
   },
   "outputs": [],
   "source": [
    "from typing import List, Tuple, Union\n",
    "\n",
    "def fast_hist(array: List[Union[int, float]], \n",
    "              bins: int, draw: bool = False) -> Tuple[List[int], List[float]]:\n",
    "    if bins <= 0:\n",
    "      raise ValueError('bins must be positive')\n",
    "    if len(array) == 0:\n",
    "      return [0] * bins, [0.] * bins\n",
    "    if len(array) == 1:\n",
    "      return [1] + [0] * (bins - 1), [float(array[0])] * (bins)\n",
    "    \n",
    "    if not isinstance(array, np.ndarray):\n",
    "      array = np.array(array, dtype=float)\n",
    "\n",
    "    mn, mx = np.amin(array), np.amax(array)\n",
    "\n",
    "    res_val = np.zeros((bins + 1), dtype=int)\n",
    "    res_pos = np.linspace(mn, mx, bins + 1, dtype=float)\n",
    "\n",
    "    width = (mx - mn) / bins\n",
    "\n",
    "    for i in np.nditer(np.int_((array - mn) / width)):\n",
    "      res_val[i] += 1\n",
    "\n",
    "    res_val[-2] += res_val[-1]\n",
    "\n",
    "    if draw:\n",
    "      plt.bar(res_pos[:-1], res_val[:-1], align='edge')\n",
    "\n",
    "    return res_val[:-1], res_pos"
   ]
  },
  {
   "cell_type": "markdown",
   "id": "-de6efU19HCr",
   "metadata": {
    "id": "-de6efU19HCr"
   },
   "source": [
    "Сгенерируем себе нормально распределённый датасет:"
   ]
  },
  {
   "cell_type": "code",
   "execution_count": null,
   "id": "1PGrDaM_9ONn",
   "metadata": {
    "id": "1PGrDaM_9ONn"
   },
   "outputs": [],
   "source": [
    "data = np.random.normal(size=1_000)"
   ]
  },
  {
   "cell_type": "markdown",
   "id": "FM7XZKxW9RGx",
   "metadata": {
    "id": "FM7XZKxW9RGx"
   },
   "source": [
    "Посмотрим, как выглядит оригинальная гистограмма:"
   ]
  },
  {
   "cell_type": "code",
   "execution_count": null,
   "id": "FjoKpAoq9WkQ",
   "metadata": {
    "colab": {
     "base_uri": "https://localhost:8080/",
     "height": 350
    },
    "id": "FjoKpAoq9WkQ",
    "outputId": "376842bf-78bb-4b81-843a-e446a5fd2038"
   },
   "outputs": [
    {
     "data": {
      "text/plain": [
       "(array([  9.,  21.,  58., 103., 183., 208., 211., 120.,  58.,  29.]),\n",
       " array([-3.0316361 , -2.48540059, -1.93916508, -1.39292957, -0.84669407,\n",
       "        -0.30045856,  0.24577695,  0.79201246,  1.33824797,  1.88448347,\n",
       "         2.43071898]),\n",
       " <a list of 10 Patch objects>)"
      ]
     },
     "execution_count": 29,
     "metadata": {},
     "output_type": "execute_result"
    },
    {
     "data": {
      "image/png": "[encoded data removed]",
      "text/plain": [
       "<Figure size 432x288 with 1 Axes>"
      ]
     },
     "metadata": {
      "needs_background": "light"
     },
     "output_type": "display_data"
    }
   ],
   "source": [
    "plt.hist(data, bins=10)"
   ]
  },
  {
   "cell_type": "markdown",
   "id": "cOwMKs5i9eRU",
   "metadata": {
    "id": "cOwMKs5i9eRU"
   },
   "source": [
    "А теперь как самописная:"
   ]
  },
  {
   "cell_type": "code",
   "execution_count": null,
   "id": "HOAZkkp19ang",
   "metadata": {
    "colab": {
     "base_uri": "https://localhost:8080/",
     "height": 333
    },
    "id": "HOAZkkp19ang",
    "outputId": "a5d2f2e5-4a9d-4db5-b6eb-1ba84dfdf961"
   },
   "outputs": [
    {
     "data": {
      "text/plain": [
       "(array([  9,  21,  58, 103, 183, 208, 211, 120,  58,  29]),\n",
       " array([-3.0316361 , -2.48540059, -1.93916508, -1.39292957, -0.84669407,\n",
       "        -0.30045856,  0.24577695,  0.79201246,  1.33824797,  1.88448347,\n",
       "         2.43071898]))"
      ]
     },
     "execution_count": 30,
     "metadata": {},
     "output_type": "execute_result"
    },
    {
     "data": {
      "image/png": "[encoded data removed]",
      "text/plain": [
       "<Figure size 432x288 with 1 Axes>"
      ]
     },
     "metadata": {
      "needs_background": "light"
     },
     "output_type": "display_data"
    }
   ],
   "source": [
    "fast_hist(data, 10, draw=True)"
   ]
  },
  {
   "cell_type": "markdown",
   "id": "DZdwFS7n9vur",
   "metadata": {
    "id": "DZdwFS7n9vur"
   },
   "source": [
    "Они совпадают.\n",
    "Давайте теперь проверим быстродействие:"
   ]
  },
  {
   "cell_type": "code",
   "execution_count": null,
   "id": "E4cpEU1n-wtA",
   "metadata": {
    "id": "E4cpEU1n-wtA"
   },
   "outputs": [],
   "source": [
    "data = np.random.exponential(size=100)"
   ]
  },
  {
   "cell_type": "code",
   "execution_count": null,
   "id": "XzseVIz7824b",
   "metadata": {
    "colab": {
     "base_uri": "https://localhost:8080/",
     "height": 299
    },
    "id": "XzseVIz7824b",
    "outputId": "a9e6b5f1-8206-449f-f605-f27d02a92165"
   },
   "outputs": [
    {
     "name": "stdout",
     "output_type": "stream",
     "text": [
      "The slowest run took 4.96 times longer than the fastest. This could mean that an intermediate result is being cached.\n",
      "100 loops, best of 5: 6.85 ms per loop\n"
     ]
    },
    {
     "data": {
      "image/png": "[encoded data removed]",
      "text/plain": [
       "<Figure size 432x288 with 1 Axes>"
      ]
     },
     "metadata": {
      "needs_background": "light"
     },
     "output_type": "display_data"
    }
   ],
   "source": [
    "%timeit plt.hist(data, bins=10) "
   ]
  },
  {
   "cell_type": "code",
   "execution_count": null,
   "id": "dJe2PIfE8-Yw",
   "metadata": {
    "colab": {
     "base_uri": "https://localhost:8080/"
    },
    "id": "dJe2PIfE8-Yw",
    "outputId": "083d8ec3-6391-4e16-ca91-8e160434e4d5"
   },
   "outputs": [
    {
     "name": "stdout",
     "output_type": "stream",
     "text": [
      "10000 loops, best of 5: 139 µs per loop\n"
     ]
    }
   ],
   "source": [
    "%timeit fast_hist(data, 10)"
   ]
  },
  {
   "cell_type": "markdown",
   "id": "0cqUbwWV9MgW",
   "metadata": {
    "id": "0cqUbwWV9MgW"
   },
   "source": [
    "Хочется заметить, что `fast_hist` обгоняет `plt.hist` только на маленьких наборах данных, на больших же наблюдается обратный эффект:"
   ]
  },
  {
   "cell_type": "code",
   "execution_count": null,
   "id": "suVa-LBlEHMi",
   "metadata": {
    "colab": {
     "base_uri": "https://localhost:8080/",
     "height": 299
    },
    "id": "suVa-LBlEHMi",
    "outputId": "8f813c1d-91f5-4088-a5b1-bd1537e06d56"
   },
   "outputs": [
    {
     "name": "stdout",
     "output_type": "stream",
     "text": [
      "1 loop, best of 5: 202 ms per loop\n",
      "1 loop, best of 5: 768 ms per loop\n"
     ]
    },
    {
     "data": {
      "image/png": "[encoded data removed]",
      "text/plain": [
       "<Figure size 432x288 with 1 Axes>"
      ]
     },
     "metadata": {
      "needs_background": "light"
     },
     "output_type": "display_data"
    }
   ],
   "source": [
    "%timeit plt.hist(np.random.uniform(low=-10, high=10, size=1_000_000).tolist(), bins=100)\n",
    "%timeit fast_hist(np.random.uniform(low=-10, high=10, size=1_000_000).tolist(), bins=100)"
   ]
  },
  {
   "cell_type": "markdown",
   "id": "wSyG_FVyEc4P",
   "metadata": {
    "id": "wSyG_FVyEc4P"
   },
   "source": [
    "Это достаточно странное поведение, объяснение которому находится после того, как мы отпрофилируем оба подхода: в то время как `fast_hist` работает за линейное время от количества входных данных, `plt.hist`, видимо, строит эвристическую гистограмму, потому что **суммарное** количество операций во **всём** вызове этой функции меньше, чем количество элементов во входных данных."
   ]
  },
  {
   "cell_type": "code",
   "execution_count": null,
   "id": "ObTDv9dhFRCM",
   "metadata": {
    "colab": {
     "base_uri": "https://localhost:8080/",
     "height": 282
    },
    "id": "ObTDv9dhFRCM",
    "outputId": "8fcbc62c-c6a0-4efb-bb48-9bcdaf81d486"
   },
   "outputs": [
    {
     "name": "stdout",
     "output_type": "stream",
     "text": [
      " "
     ]
    },
    {
     "data": {
      "image/png": "[encoded data removed]",
      "text/plain": [
       "<Figure size 432x288 with 1 Axes>"
      ]
     },
     "metadata": {
      "needs_background": "light"
     },
     "output_type": "display_data"
    }
   ],
   "source": [
    "%prun plt.hist(data, bins=100)"
   ]
  },
  {
   "cell_type": "markdown",
   "id": "SmMlBzX4FjA3",
   "metadata": {
    "id": "SmMlBzX4FjA3"
   },
   "source": [
    "Профилировать `fast_hist` будем иначе, по строкам:"
   ]
  },
  {
   "cell_type": "code",
   "execution_count": null,
   "id": "YMVxHjMDFs7c",
   "metadata": {
    "colab": {
     "base_uri": "https://localhost:8080/"
    },
    "id": "YMVxHjMDFs7c",
    "outputId": "c9569191-2c83-4aa2-fdac-f8b630c0cff5"
   },
   "outputs": [
    {
     "name": "stdout",
     "output_type": "stream",
     "text": [
      "Collecting line_profiler\n",
      "  Downloading line_profiler-3.3.0-cp37-cp37m-manylinux2010_x86_64.whl (63 kB)\n",
      "\u001b[K     |████████████████████████████████| 63 kB 1.6 MB/s eta 0:00:011\n",
      "\u001b[?25hRequirement already satisfied: IPython>=0.13 in /usr/local/lib/python3.7/dist-packages (from line_profiler) (5.5.0)\n",
      "Requirement already satisfied: simplegeneric>0.8 in /usr/local/lib/python3.7/dist-packages (from IPython>=0.13->line_profiler) (0.8.1)\n",
      "Requirement already satisfied: decorator in /usr/local/lib/python3.7/dist-packages (from IPython>=0.13->line_profiler) (4.4.2)\n",
      "Requirement already satisfied: prompt-toolkit<2.0.0,>=1.0.4 in /usr/local/lib/python3.7/dist-packages (from IPython>=0.13->line_profiler) (1.0.18)\n",
      "Requirement already satisfied: traitlets>=4.2 in /usr/local/lib/python3.7/dist-packages (from IPython>=0.13->line_profiler) (5.1.0)\n",
      "Requirement already satisfied: setuptools>=18.5 in /usr/local/lib/python3.7/dist-packages (from IPython>=0.13->line_profiler) (57.4.0)\n",
      "Requirement already satisfied: pickleshare in /usr/local/lib/python3.7/dist-packages (from IPython>=0.13->line_profiler) (0.7.5)\n",
      "Requirement already satisfied: pexpect in /usr/local/lib/python3.7/dist-packages (from IPython>=0.13->line_profiler) (4.8.0)\n",
      "Requirement already satisfied: pygments in /usr/local/lib/python3.7/dist-packages (from IPython>=0.13->line_profiler) (2.6.1)\n",
      "Requirement already satisfied: six>=1.9.0 in /usr/local/lib/python3.7/dist-packages (from prompt-toolkit<2.0.0,>=1.0.4->IPython>=0.13->line_profiler) (1.15.0)\n",
      "Requirement already satisfied: wcwidth in /usr/local/lib/python3.7/dist-packages (from prompt-toolkit<2.0.0,>=1.0.4->IPython>=0.13->line_profiler) (0.2.5)\n",
      "Requirement already satisfied: ptyprocess>=0.5 in /usr/local/lib/python3.7/dist-packages (from pexpect->IPython>=0.13->line_profiler) (0.7.0)\n",
      "Installing collected packages: line-profiler\n",
      "Successfully installed line-profiler-3.3.0\n"
     ]
    }
   ],
   "source": [
    "!pip install line_profiler"
   ]
  },
  {
   "cell_type": "code",
   "execution_count": null,
   "id": "iX6IGFWvFuX0",
   "metadata": {
    "id": "iX6IGFWvFuX0"
   },
   "outputs": [],
   "source": [
    "%load_ext line_profiler"
   ]
  },
  {
   "cell_type": "code",
   "execution_count": null,
   "id": "rfb5pS7-FzYU",
   "metadata": {
    "id": "rfb5pS7-FzYU"
   },
   "outputs": [],
   "source": [
    "%lprun -f fast_hist fast_hist(data, bins=100, draw=False)"
   ]
  }
 ],
 "metadata": {
  "colab": {
   "collapsed_sections": [],
   "name": "Lab-1-Martynov-Pavel.ipynb",
   "provenance": []
  },
  "kernelspec": {
   "display_name": "Python 3",
   "language": "python",
   "name": "python3"
  },
  "language_info": {
   "codemirror_mode": {
    "name": "ipython",
    "version": 3
   },
   "file_extension": ".py",
   "mimetype": "text/x-python",
   "name": "python",
   "nbconvert_exporter": "python",
   "pygments_lexer": "ipython3",
   "version": "3.8.8"
  }
 },
 "nbformat": 4,
 "nbformat_minor": 5
}
