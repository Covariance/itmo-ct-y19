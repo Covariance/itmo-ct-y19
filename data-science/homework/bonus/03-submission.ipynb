{
 "cells": [
  {
   "cell_type": "markdown",
   "id": "33de38e5-10c4-4110-9833-d1a3c73173dc",
   "metadata": {},
   "source": [
    "# Отправка результата"
   ]
  },
  {
   "cell_type": "code",
   "execution_count": 1,
   "id": "11f58932-d9cb-4344-b9cf-c73c26015c6d",
   "metadata": {},
   "outputs": [],
   "source": [
    "import pandas as pd\n",
    "import numpy as np\n",
    "import matplotlib.pyplot as plt\n",
    "%matplotlib inline\n",
    "import seaborn as sns; sns.set_style()"
   ]
  },
  {
   "cell_type": "code",
   "execution_count": 2,
   "id": "4cb65087-44c1-4689-bd2a-e4232c155dbb",
   "metadata": {},
   "outputs": [],
   "source": [
    "from pickle import load\n",
    "\n",
    "with open('model/best_model.pickle', 'rb') as pickled:\n",
    "    model = load(pickled)"
   ]
  },
  {
   "cell_type": "code",
   "execution_count": 3,
   "id": "f6c67ba4-948e-4411-8734-9cd8f5a57149",
   "metadata": {},
   "outputs": [
    {
     "data": {
      "text/html": [
       "<div>\n",
       "<style scoped>\n",
       "    .dataframe tbody tr th:only-of-type {\n",
       "        vertical-align: middle;\n",
       "    }\n",
       "\n",
       "    .dataframe tbody tr th {\n",
       "        vertical-align: top;\n",
       "    }\n",
       "\n",
       "    .dataframe thead th {\n",
       "        text-align: right;\n",
       "    }\n",
       "</style>\n",
       "<table border=\"1\" class=\"dataframe\">\n",
       "  <thead>\n",
       "    <tr style=\"text-align: right;\">\n",
       "      <th></th>\n",
       "      <th>cpm</th>\n",
       "      <th>publisher_counts</th>\n",
       "      <th>publisher_cpm_mean</th>\n",
       "      <th>user_ages</th>\n",
       "      <th>duration</th>\n",
       "      <th>duration_x_cpm</th>\n",
       "    </tr>\n",
       "  </thead>\n",
       "  <tbody>\n",
       "    <tr>\n",
       "      <th>0</th>\n",
       "      <td>330.0</td>\n",
       "      <td>273037</td>\n",
       "      <td>681.593773</td>\n",
       "      <td>28.629471</td>\n",
       "      <td>5</td>\n",
       "      <td>1650.0</td>\n",
       "    </tr>\n",
       "    <tr>\n",
       "      <th>1</th>\n",
       "      <td>79.0</td>\n",
       "      <td>66134</td>\n",
       "      <td>547.040584</td>\n",
       "      <td>29.790624</td>\n",
       "      <td>151</td>\n",
       "      <td>11929.0</td>\n",
       "    </tr>\n",
       "    <tr>\n",
       "      <th>2</th>\n",
       "      <td>130.0</td>\n",
       "      <td>692535</td>\n",
       "      <td>430.153485</td>\n",
       "      <td>29.371801</td>\n",
       "      <td>5</td>\n",
       "      <td>650.0</td>\n",
       "    </tr>\n",
       "    <tr>\n",
       "      <th>3</th>\n",
       "      <td>134.0</td>\n",
       "      <td>273037</td>\n",
       "      <td>853.577041</td>\n",
       "      <td>29.454107</td>\n",
       "      <td>3</td>\n",
       "      <td>402.0</td>\n",
       "    </tr>\n",
       "    <tr>\n",
       "      <th>4</th>\n",
       "      <td>50.0</td>\n",
       "      <td>692535</td>\n",
       "      <td>640.112564</td>\n",
       "      <td>32.793019</td>\n",
       "      <td>30</td>\n",
       "      <td>1500.0</td>\n",
       "    </tr>\n",
       "  </tbody>\n",
       "</table>\n",
       "</div>"
      ],
      "text/plain": [
       "     cpm  publisher_counts  publisher_cpm_mean  user_ages  duration  \\\n",
       "0  330.0            273037          681.593773  28.629471         5   \n",
       "1   79.0             66134          547.040584  29.790624       151   \n",
       "2  130.0            692535          430.153485  29.371801         5   \n",
       "3  134.0            273037          853.577041  29.454107         3   \n",
       "4   50.0            692535          640.112564  32.793019        30   \n",
       "\n",
       "   duration_x_cpm  \n",
       "0          1650.0  \n",
       "1         11929.0  \n",
       "2           650.0  \n",
       "3           402.0  \n",
       "4          1500.0  "
      ]
     },
     "execution_count": 3,
     "metadata": {},
     "output_type": "execute_result"
    }
   ],
   "source": [
    "X = pd.read_csv('data/processed/test.csv').drop('ad_id', axis=1)\n",
    "\n",
    "# This hould possibly be done in 01-preprocessing\n",
    "X.drop(['audience_size', 'user_sexes', 'publisher_cpm_sum', 'audience_x_duration'], axis=1, inplace=True)\n",
    "\n",
    "X.head()"
   ]
  },
  {
   "cell_type": "code",
   "execution_count": 4,
   "id": "a8aaa65c-82c1-4f63-a131-1155de59dfbe",
   "metadata": {},
   "outputs": [
    {
     "data": {
      "text/html": [
       "<div>\n",
       "<style scoped>\n",
       "    .dataframe tbody tr th:only-of-type {\n",
       "        vertical-align: middle;\n",
       "    }\n",
       "\n",
       "    .dataframe tbody tr th {\n",
       "        vertical-align: top;\n",
       "    }\n",
       "\n",
       "    .dataframe thead th {\n",
       "        text-align: right;\n",
       "    }\n",
       "</style>\n",
       "<table border=\"1\" class=\"dataframe\">\n",
       "  <thead>\n",
       "    <tr style=\"text-align: right;\">\n",
       "      <th></th>\n",
       "      <th>at_least_one</th>\n",
       "    </tr>\n",
       "    <tr>\n",
       "      <th>ad_id</th>\n",
       "      <th></th>\n",
       "    </tr>\n",
       "  </thead>\n",
       "  <tbody>\n",
       "    <tr>\n",
       "      <th>700</th>\n",
       "      <td>0.044450</td>\n",
       "    </tr>\n",
       "    <tr>\n",
       "      <th>701</th>\n",
       "      <td>0.042985</td>\n",
       "    </tr>\n",
       "    <tr>\n",
       "      <th>702</th>\n",
       "      <td>0.056975</td>\n",
       "    </tr>\n",
       "    <tr>\n",
       "      <th>703</th>\n",
       "      <td>0.019262</td>\n",
       "    </tr>\n",
       "    <tr>\n",
       "      <th>704</th>\n",
       "      <td>0.042180</td>\n",
       "    </tr>\n",
       "  </tbody>\n",
       "</table>\n",
       "</div>"
      ],
      "text/plain": [
       "       at_least_one\n",
       "ad_id              \n",
       "700        0.044450\n",
       "701        0.042985\n",
       "702        0.056975\n",
       "703        0.019262\n",
       "704        0.042180"
      ]
     },
     "execution_count": 4,
     "metadata": {},
     "output_type": "execute_result"
    }
   ],
   "source": [
    "pred = model.predict(X)\n",
    "\n",
    "result = pd.DataFrame(data=pred, columns=['at_least_one'])\n",
    "\n",
    "result = result.assign(\n",
    "    ad_id = [i for i in range(700, 1008)]\n",
    ")\n",
    "\n",
    "result.set_index('ad_id', inplace=True)\n",
    "\n",
    "result.head()"
   ]
  },
  {
   "cell_type": "code",
   "execution_count": 5,
   "id": "a2b60337-808f-4df4-a245-fc99ea90660f",
   "metadata": {},
   "outputs": [],
   "source": [
    "from datetime import datetime\n",
    "\n",
    "name = 'submissions/submission-%s.csv' % datetime.now().strftime('%Y-%m-%d(%H:%M)')\n",
    "\n",
    "result.to_csv(name)"
   ]
  },
  {
   "cell_type": "markdown",
   "id": "178864d2-701a-4d1c-8e0d-5045dd59769d",
   "metadata": {},
   "source": [
    "That's all, folks!"
   ]
  }
 ],
 "metadata": {
  "kernelspec": {
   "display_name": "Python 3",
   "language": "python",
   "name": "python3"
  },
  "language_info": {
   "codemirror_mode": {
    "name": "ipython",
    "version": 3
   },
   "file_extension": ".py",
   "mimetype": "text/x-python",
   "name": "python",
   "nbconvert_exporter": "python",
   "pygments_lexer": "ipython3",
   "version": "3.8.8"
  }
 },
 "nbformat": 4,
 "nbformat_minor": 5
}
