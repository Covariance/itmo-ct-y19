{
 "cells": [
  {
   "cell_type": "markdown",
   "id": "loose-emerald",
   "metadata": {
    "id": "loose-emerald"
   },
   "source": [
    "# 1. ResolutionFailure: Your dependencies could not be resolved\n",
    "\n",
    "Найдите python пакет, имеющий зависимость от любого python пакета, использованного вами в первой лабораторной. Создайте свой пакет и установите его с конфликтующими зависимостями\n",
    "\n",
    "1. Создайте и [загрузите в pypi](https://betterscientificsoftware.github.io/python-for-hpc/tutorials/python-pypi-packaging/) свой пакет, проверьте, что его можно установить через pip\n",
    "1. Установите свой пакет с помощью pip\n",
    "1. Установите свой пакет в любую вируальную среду\n",
    "1. Продемонстрируйте корректно работающие функции в своём python-пакете"
   ]
  },
  {
   "cell_type": "markdown",
   "id": "7b59aab4-cf42-43a8-80e8-544d64de23d5",
   "metadata": {},
   "source": [
    "Созданный пакет: [тык](./rickroller_package)\n",
    "\n",
    "Как его запихнуть в pypi? Ну, во-первых, не в pypi, а в testpypi, чтобы не мусорить в продакшене. Во-вторых, вот так:\n",
    "\n",
    "```shell\n",
    "python3 setup.py check\n",
    "python3 setup.py sdist\n",
    "twine upload --repository-url https://test.pypi.org/legacy/ dist/rickroller_package-0.1.0.tar.gz\n",
    "\n",
    "```\n",
    "\n",
    "Выбранный пакет: [тык](https://pypi.org/project/numpy-linreg/)\n",
    "\n",
    "Запустить для демонстрации можно:\n",
    "\n",
    "```shell\n",
    "pip install --index-url https://test.pypi.org/simple/ rickroller_package\n",
    "pip install numpy_linreg\n",
    "```\n",
    "\n",
    "И дальше чет сделать внутри, например:\n",
    "\n",
    "```python\n",
    "import rickroller_package as rp\n",
    "import numpy_linreg as nl\n",
    "\n",
    "print(rp.rickroll.rick())\n",
    "```"
   ]
  },
  {
   "cell_type": "markdown",
   "id": "animated-fight",
   "metadata": {
    "id": "animated-fight"
   },
   "source": [
    "# 2. Да кто так пишет?!\n",
    "\n",
    "Возьмите произвольный дипломный проект по машинному обучению. Для этого скорее всего будет достаточно найти на github проекты по запросу \"machine learning thesis\" и профильтровать по языку \"Jupyter Notebook\". С большой вероятностью код случайно выбранного диплома в этой сфере будет ужасным. Приведите код в порядок:\n",
    "\n",
    "- вынесите занимающий место функционал в python модули\n",
    "- напишите аннотации типов для функций\n",
    "- добавьте конфиги для параметров\n",
    "- если это не требует углубления в логику дипломной работы, расставьте порядок запуска ноутбуков и/или скриптов\n",
    "- для случайных процессов зафиксируйте seed\n",
    "- выделите зависимости, создайте pipenv файлы\n",
    "- сделайте пулреквест автору: покажите своё культурное превосходство\n",
    "\n",
    "\n",
    "Выберите такой проект, который:\n",
    "- ещё не был выбран вашими одногруппниками\n",
    "- относительно небольшой по количеству файлов. Не стоит тратить много времени на это задание\n",
    "- содержит как минимум половину грехов из списка исправлений выше"
   ]
  },
  {
   "cell_type": "markdown",
   "id": "f995f8dc-2352-4698-8dc5-30e610591171",
   "metadata": {},
   "source": [
    "[link](https://github.com/Covariance/gatednetwork_mmnist)\n",
    "\n",
    "- [x] вынесите занимающий место функционал в python модули\n",
    "- [x] напишите аннотации типов для функций\n",
    "- [x] добавьте конфиги для параметров\n",
    "- [ ] если это не требует углубления в логику дипломной работы, расставьте порядок запуска ноутбуков и/или скриптов\n",
    "- [x] для случайных процессов зафиксируйте seed\n",
    "- [x] выделите зависимости, создайте pipenv файлы"
   ]
  },
  {
   "cell_type": "markdown",
   "id": "alive-armor",
   "metadata": {
    "id": "alive-armor"
   },
   "source": [
    "# 3. Press Shift+Enter to get 300k/sec salary\n",
    "\n",
    "Выберите произвольный Google Colab notebook из этого крутого [репозитория](https://github.com/amrzv/awesome-colab-notebooks), запустите и примените к своим данным"
   ]
  },
  {
   "cell_type": "markdown",
   "id": "270c44a8-ade2-4c6c-bb03-8defd9cb2b0f",
   "metadata": {
    "id": "geographic-group"
   },
   "source": [
    "[link](https://colab.research.google.com/github/vijishmadhavan/Light-Up/blob/master/ArtLine(AR).ipynb)"
   ]
  }
 ],
 "metadata": {
  "colab": {
   "name": "Lab-2.ipynb",
   "provenance": []
  },
  "kernelspec": {
   "display_name": "Python 3",
   "language": "python",
   "name": "python3"
  },
  "language_info": {
   "codemirror_mode": {
    "name": "ipython",
    "version": 3
   },
   "file_extension": ".py",
   "mimetype": "text/x-python",
   "name": "python",
   "nbconvert_exporter": "python",
   "pygments_lexer": "ipython3",
   "version": "3.8.8"
  }
 },
 "nbformat": 4,
 "nbformat_minor": 5
}
