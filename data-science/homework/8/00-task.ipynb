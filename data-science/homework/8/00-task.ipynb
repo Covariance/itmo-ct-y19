{
 "cells": [
  {
   "cell_type": "markdown",
   "id": "a14c9b5f-ec69-4f75-8df2-e11430afb818",
   "metadata": {},
   "source": [
    "# Курс орнитологии\n",
    "\n",
    "1. Реализуйте модель для извлечения признаков из голоса птиц. За основу можно брать:\n",
    "   - преобразование в аудиофичи (например как mfcc в лекции. Конкретно это преобразование использовать нельзя)\n",
    "   - обученные поверх аудиофич ML модели\n",
    "  \n",
    "1. С помощью модели и одного из предложенных датасетов создайте эмбеддинги пения птиц. Создайте эмбеддинги нескольких записей каждого вида птиц. Визуализируйте эмбеддинги. Для визуализации рекомендуется использовать подмножество видов птиц\n",
    "\n",
    "1. Аргументируйте почему ваша модель хорошо извлекает признаки из аудио. \n",
    "    - Покажите кластеризацию эмбеддингов по видам\n",
    "\n",
    "1. С помощью эмбеддингов найдите похожие по звучанию виды птиц. Выведите примеры их пения в ноутбуке.\n",
    "\n",
    "\n",
    "\n",
    "Датасеты:\n",
    "1. [Датасет](https://www.kaggle.com/vinayshanbhag/bird-song-data-set) американских птиц\n",
    "1. Почищенный от фонового шума BirdCall [датасет](https://www.kaggle.com/luisblanche/birdcall-singing-3)\n",
    "1. [Датасет](https://www.kaggle.com/luisblanche/birdcall-singing-0) BirdCall часть 1"
   ]
  }
 ],
 "metadata": {
  "kernelspec": {
   "display_name": "Python 3",
   "language": "python",
   "name": "python3"
  },
  "language_info": {
   "codemirror_mode": {
    "name": "ipython",
    "version": 3
   },
   "file_extension": ".py",
   "mimetype": "text/x-python",
   "name": "python",
   "nbconvert_exporter": "python",
   "pygments_lexer": "ipython3",
   "version": "3.8.8"
  }
 },
 "nbformat": 4,
 "nbformat_minor": 5
}
